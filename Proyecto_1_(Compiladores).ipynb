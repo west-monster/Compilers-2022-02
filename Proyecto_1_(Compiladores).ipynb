{
  "nbformat": 4,
  "nbformat_minor": 0,
  "metadata": {
    "colab": {
      "provenance": [],
      "collapsed_sections": []
    },
    "kernelspec": {
      "name": "python3",
      "display_name": "Python 3"
    },
    "language_info": {
      "name": "python"
    }
  },
  "cells": [
    {
      "cell_type": "markdown",
      "source": [
        "### Proyecto 1 (Compiladores)\n",
        "\n",
        "David Antonio Garzón Avendaño\n",
        "\n",
        "David Esteban Casallas Menenses "
      ],
      "metadata": {
        "id": "_iPXgdh8YamB"
      }
    },
    {
      "cell_type": "code",
      "source": [
        "import sys\n",
        "import graphviz as gr\n",
        "import matplotlib\n",
        "from IPython.display import display\n",
        "\n",
        "sys.setrecursionlimit(15000)"
      ],
      "metadata": {
        "id": "Ds7-fQwf1if8"
      },
      "execution_count": 36,
      "outputs": []
    },
    {
      "cell_type": "markdown",
      "source": [
        "## Conversion de Expresiones regulares a Postfix"
      ],
      "metadata": {
        "id": "9RhqhLfTIZvx"
      }
    },
    {
      "cell_type": "markdown",
      "source": [
        "Para crear un DFA que acepte cualquier expresión regular, es necesario primero pasar dicha espresión regular a postfix, para ello es necesario primero añadir un simbolo que represente la concatenación entre dos símbolos y operaciones \"OR\" dentro de las llaves cuadradas, y luego se pasa a postfix dicha expresión usando un stack, un diccionario con prioridades y una lista de los símbolos que se usan como operadores.\n",
        "\n",
        "Para esto se diseñaron dos funciones, la primera es \"Hakufu_Sonsaku()\", que se encarga de añadir los signos de concatenación e interpretar las operaciones que hay dentro de las llaves cuadradas, como por ejemplo \\[ A-Z+\\], en donde se acepta cualquier letra mayúscula o un símbolo +.\n",
        "La segúnda funcion se llama \"infix_to_postfix()\", y ejecuta el algoritmo para pasar una expresión de infix a posfix con un stack (no nos detendremos en este algoritmo debido a que es bastante básico y se ha trabajado en cursos previos) "
      ],
      "metadata": {
        "id": "CyIg9yI2MhHd"
      }
    },
    {
      "cell_type": "code",
      "source": [
        "def is_alphabet(c):\n",
        "  prior = {'*': 3, '+': 3, '?': 2, \"|\":2 ,'(': 0, ')':0, '[':0, ']':0}\n",
        "  boolean = (c not in prior.keys()) and c != ''\n",
        "  return boolean\n",
        "\n",
        "def Hakufu_Sonsaku(reg_exp, debug = False):\n",
        "  flag = 0\n",
        "  range_mode = False\n",
        "  par_mode = False\n",
        "  reg_exp_list = [*reg_exp]\n",
        "  limit = len(reg_exp_list)\n",
        "  new_reg_exp = \"\"\n",
        "\n",
        "  for i in range(limit):\n",
        "    reg_exp_l = [*new_reg_exp]\n",
        "    if i > 0:\n",
        "      prev_char = reg_exp_list[i-1]\n",
        "    else:\n",
        "      prev_char = ''\n",
        "    \n",
        "    if i < limit - 1:\n",
        "      next_char = reg_exp_list[i+1]\n",
        "    else:\n",
        "      next_char = ''\n",
        "\n",
        "    current_char =  reg_exp_list[i]\n",
        "    if debug:\n",
        "      print(\"my next\", next_char)\n",
        "      print()\n",
        "      print(\"LOOP ----------\")\n",
        "      print(\"Prev char: {}, current_char: {}, next_char: {} \".format(prev_char, current_char, next_char))\n",
        "      print(is_alphabet(current_char))\n",
        "      print(range_mode)\n",
        "      print(new_reg_exp)\n",
        "      print(flag)\n",
        "\n",
        "    #Diversos casos para añadir unio o or \n",
        "    if flag == 0:\n",
        "      if (prev_char == ')' or prev_char == ']' or is_alphabet(prev_char) or prev_char == '*' or prev_char == '+' or prev_char == '?') and (current_char == '(' or current_char == '[' or is_alphabet(current_char)):\n",
        "        new_reg_exp += \"#\"\n",
        "      new_reg_exp += current_char\n",
        "      if debug:\n",
        "        print(\"EXECUTE -1 -------\")\n",
        "        print(new_reg_exp)\n",
        "\n",
        "    else:  \n",
        "      if current_char == '-' or next_char == '-':\n",
        "        range_mode = True\n",
        "        new_reg_exp += current_char\n",
        "        if debug:\n",
        "          print(\"EXECUTE 1 -------\")\n",
        "          print(new_reg_exp)\n",
        "\n",
        "      elif not par_mode and (is_alphabet(current_char)) and (is_alphabet(next_char)) and next_char != ']' and prev_char != \"-\":\n",
        "        new_reg_exp += current_char \n",
        "        new_reg_exp += \"|\"\n",
        "        if debug:\n",
        "          print(\"EXECUTE 2.5 -------\")\n",
        "          print(new_reg_exp)\n",
        "\n",
        "      elif current_char == \"(\":\n",
        "        par_mode = True\n",
        "        new_reg_exp += current_char\n",
        "      \n",
        "      elif current_char == \")\":\n",
        "        par_mode = False\n",
        "        new_reg_exp += current_char\n",
        "        new_reg_exp += \"|\"\n",
        "\n",
        "      elif not range_mode and reg_exp_l[-1] != \"|\" and next_char != '-' and (prev_char == ')' or is_alphabet(prev_char) or prev_char == '*' or prev_char == '+' or prev_char == '?') and (current_char != \"|\" and prev_char != \"|\" and prev_char != '-') and (current_char == '('  or (is_alphabet(current_char))):\n",
        "        new_reg_exp += \"#\"\n",
        "        new_reg_exp += current_char\n",
        "        if debug:\n",
        "          print(\"EXECUTE 2 -------\")\n",
        "          print(new_reg_exp)\n",
        "      \n",
        "      elif range_mode and not par_mode and (is_alphabet(current_char) and is_alphabet(prev_char) and next_char != ']'):\n",
        "        new_reg_exp += current_char\n",
        "        new_reg_exp += \"|\"\n",
        "        range_mode = False\n",
        "        if debug:\n",
        "          print(\"EXECUTE 3 -------\")\n",
        "          print(new_reg_exp)\n",
        "      \n",
        "      elif (current_char == '[' and  prev_char == ']') or (current_char == '(' and  prev_char == ']') or (\n",
        "          current_char == '(' and  prev_char == ')') or (current_char == '[' and  prev_char == ')'):\n",
        "        new_reg_exp += \"|\"\n",
        "        new_reg_exp += current_char\n",
        "        range_mode = False\n",
        "        if debug:\n",
        "          print(\"EXECUTE 4 -------\")\n",
        "          print(new_reg_exp)\n",
        "      \n",
        "      elif prev_char == \")\" and next_char == \"-\":\n",
        "        new_reg_exp += \"|\"\n",
        "        new_reg_exp += current_char\n",
        "        if debug:\n",
        "          print(\"EXECUTE 5 -------\")\n",
        "          print(new_reg_exp)\n",
        "\n",
        "      else:\n",
        "        new_reg_exp += current_char\n",
        "        if debug:\n",
        "          print(\"EXECUTE 6 -------\")\n",
        "          print(new_reg_exp)\n",
        "\n",
        "    if current_char == '[':\n",
        "      flag -= 1\n",
        "\n",
        "    if current_char == ']':\n",
        "      flag += 1 \n",
        "\n",
        "  return new_reg_exp \n",
        "\n",
        "OPERATORS = set(['|','(', ')','#', '[',']', '-'])  # Operadores usados\n",
        "PRIORITY = {'|':1, '#':2, '-': 3} # Prioridades de las operaciones \n",
        "def infix_to_postfix(expression):\n",
        "\n",
        "    stack = [] # stack \n",
        "    output = '' # cadena\n",
        "    for ch in expression:\n",
        "        if ch not in OPERATORS: # Si no es un operador se pode en output\n",
        "            output+= ch\n",
        "        elif ch=='(':  \n",
        "            stack.append('(')\n",
        "        elif ch=='[':  \n",
        "            stack.append('[')\n",
        "        elif ch==')':\n",
        "            while stack and stack[-1]!= '(':\n",
        "                output+=stack.pop()\n",
        "            stack.pop()\n",
        "        elif ch==']':\n",
        "            while stack and stack[-1]!= '[':\n",
        "                output+=stack.pop()\n",
        "            stack.pop()\n",
        "        else:\n",
        "            #Los operadores de menor prioridad no pueden estar arriba de \n",
        "            #uno de mayor prioridad en la pila, por lo que se ponen en el output\n",
        "            while stack and stack[-1]!='(' and stack[-1]!='[' and PRIORITY[ch]<=PRIORITY[stack[-1]]:\n",
        "                output+=stack.pop()\n",
        "            stack.append(ch)\n",
        "    while stack:\n",
        "        output+=stack.pop()\n",
        "    return output\n"
      ],
      "metadata": {
        "id": "CKcrKe9n2x6u"
      },
      "execution_count": 37,
      "outputs": []
    },
    {
      "cell_type": "code",
      "source": [
        "#EJEMPLO DE USO\n",
        "\n",
        "print(Hakufu_Sonsaku('[a-z][a-z]'))\n",
        "print(Hakufu_Sonsaku('[(ab) a-z0-9(ab)]'))\n",
        "print(infix_to_postfix(Hakufu_Sonsaku(\"[a-z][a-z]\")))"
      ],
      "metadata": {
        "colab": {
          "base_uri": "https://localhost:8080/"
        },
        "id": "8PJQ1TVUsaai",
        "outputId": "79d35e39-f901-481c-fb8e-b7eb64b2bc83"
      },
      "execution_count": 38,
      "outputs": [
        {
          "output_type": "stream",
          "name": "stdout",
          "text": [
            "[a-z]#[a-z]\n",
            "[(a#b)| |a-z|0-9|(a#b)|]\n",
            "az-az-#\n"
          ]
        }
      ]
    },
    {
      "cell_type": "markdown",
      "source": [
        "## Creación de un Automata NFA usando clases"
      ],
      "metadata": {
        "id": "a-U3Iu99ItPP"
      }
    },
    {
      "cell_type": "markdown",
      "source": [
        "El siguiente paso para crear un DFA es crear un NFA usando el algoritmo de thompson. Para esto tendremos dos clases, la clase \"nodos\" y la clase \"NFA_2\", dentro de la clase NFA_2 se crean nodos usando una función privada, dicha función privada es llamada a su vez por los metodos:\n",
        "\n",
        "* simbol(): Crea un automata que acepta un solo símbolo\n",
        "* concat_op(): Concatena dos automatas previamente creados, está función usa un stack interno del objeto para unir dichos automatas\n",
        "*  or_op(): Crea un automata que acepta el lenguaje de dos automatas previamente creados, está función usa un stack interno del objeto para unir dichos automatas en uno solo que acepta ambos lenguajes. \n",
        "* Kleenex(): Crea un automata que acepta la estrella de Kleen del lenguaje aceptado por un automata previamente creado \n",
        "* Kleenex_plus(): Crea un automata que acepta la estrella de Kleen  del lenguaje aceptado por un automata previamente creado sin aceptar la cadena vacia.  \n",
        "\n",
        "Note que varias de estas funciones requieren que se creen primero el o los automatas que se van a operar, por lo que tener la expresión regular en postfix es conveniente. \n",
        "\n",
        "Además definimos la funcíon draw() que se usa para graficar el NFA y verificar que sea el correcto. \n"
      ],
      "metadata": {
        "id": "aLyyB3AhI935"
      }
    },
    {
      "cell_type": "code",
      "source": [
        "#Automata \n",
        "\n",
        "class node:\n",
        "  def __init__(self,number,aceptation, conections = {}) -> None:\n",
        "    self.conections = conections\n",
        "    self.name = number \n",
        "    self.aceptation = aceptation\n",
        "    \n",
        "\n",
        "class NFA_2:\n",
        "  def __init__(self) -> None:\n",
        "    self.closure = dict()\n",
        "    self.epsilon = 0\n",
        "    self.enum = 0  \n",
        "    self.last_node = 0\n",
        "    self.first_node = 0\n",
        "    self.nodes = dict() #Dicionario con el nombre de los automatas \n",
        "    self.nodes_clusters = [] \n",
        "    self.clusters_star_node = [] #Nodos de incio\n",
        "    self.clusters_end_node = [] #Nodos de final\n",
        "    self.readed = [] #Array para guardar los simbolos leidos\n",
        "  \n",
        "  #Funcion Para crear un nodo con identificador unico \n",
        "  def __create_node(self,acceptaion,conections,node_clust) -> None:\n",
        "    shinji = node(self.enum,acceptaion,conections)\n",
        "    self.nodes[self.enum] = shinji\n",
        "    node_clust[self.enum] = shinji\n",
        "    self.enum += 1\n",
        "    return self.enum -1\n",
        "    \n",
        "  #Funcion para crear un automata que acepte un solo simbolo\n",
        "  #Esta función tiene en cuenta qué pasa si se pide que se acepte solo \n",
        "  # la cadena vacia \n",
        "  def simbol(self,string) -> None:\n",
        "    if string != \"\":\n",
        "      self.node_clust = dict()\n",
        "      self.clusters_star_node.append(self.enum)\n",
        "      self.clusters_end_node.append(self.enum+1)\n",
        "      self.__create_node(False, {string:self.enum+1} , self.node_clust)\n",
        "      self.__create_node(True, dict() , self.node_clust)\n",
        "      self.nodes_clusters.append(self.node_clust)\n",
        "      self.readed.append(string)\n",
        "      #print(self.node_clust)\n",
        "      #print(self.clusters_star_node) \n",
        "    else: \n",
        "      self.node_clust = dict()\n",
        "      self.clusters_star_node.append(self.enum)\n",
        "      self.clusters_end_node.append(self.enum)\n",
        "      self.__create_node(True, dict() , self.node_clust)\n",
        "      self.nodes_clusters.append(self.node_clust)\n",
        "      self.readed.append(string)\n",
        "      #print(self.node_clust)\n",
        "      #print(self.clusters_star_node) \n",
        "\n",
        "  #Concatena los dos ultimos automatas\n",
        "  def concat_op(self):\n",
        "    clust_1 = self.nodes_clusters[-1]\n",
        "    clust_2 = self.nodes_clusters[-2]\n",
        "    clust_1_start = self.clusters_star_node[-1]\n",
        "    clust_2_start = self.clusters_star_node[-2]\n",
        "    clust_1_end = self.clusters_end_node[-1]\n",
        "    clust_2_end = self.clusters_end_node[-2]\n",
        "\n",
        "    start = clust_2_start\n",
        "    #print(start)\n",
        "    state_clust_1 = list(clust_1.values())\n",
        "    state_clust_2 = list(clust_2.values())\n",
        "\n",
        "    #shini_state = clust_2_end\n",
        "    #new_state =\n",
        "\n",
        "    shini_state = clust_2_end\n",
        "    new_state = clust_1_start\n",
        "  \n",
        "    for nodes in clust_2.values():\n",
        "      for my_key in nodes.conections.keys():\n",
        "        if nodes.conections[my_key] == shini_state:\n",
        "          nodes.conections[my_key] = new_state\n",
        "    \n",
        "    self.first_node = state_clust_1[0].name \n",
        "    clust_2.update(clust_1)\n",
        "    del clust_2[shini_state]\n",
        "    del self.nodes[shini_state]\n",
        "\n",
        "    self.clusters_star_node.pop(-1)\n",
        "    self.clusters_star_node.pop(-1)\n",
        "    self.clusters_end_node.pop(-2)\n",
        "\n",
        "    self.clusters_star_node.append(start)\n",
        "\n",
        "    self.nodes_clusters.pop(-1)\n",
        "    self.nodes_clusters.pop(-1)\n",
        "    self.nodes_clusters.append(clust_2)\n",
        "    \n",
        "    #print(self.clusters_star_node)\n",
        "\n",
        "  #Hace la union los dos ultimos automatas\n",
        "  def or_op(self):\n",
        "    self.node_clust = dict()\n",
        "    clust_1 = self.nodes_clusters[-1]\n",
        "    clust_2 = self.nodes_clusters[-2]\n",
        "    state_clust_1 = list(clust_1.values())\n",
        "    state_clust_2 = list(clust_2.values())\n",
        "\n",
        "    clust_1_start = state_clust_1[0]\n",
        "    clust_1_end = state_clust_1[-1]\n",
        "    clust_2_start = state_clust_2[0]\n",
        "    clust_2_end = state_clust_2[-1]\n",
        "\n",
        "    new_start_node = self.__create_node(False, \n",
        "    {\"ε\" + str(self.epsilon) : clust_1_start.name  , \n",
        "     \"ε\"+ str(self.epsilon + 1) : clust_2_start.name} ,self.node_clust )\n",
        "    \n",
        "    self.epsilon += 2\n",
        "    new_end_node = self.__create_node(True, dict() ,self.node_clust)\n",
        "\n",
        "\n",
        "    for nodes in clust_2.values():\n",
        "      if nodes.aceptation == True:\n",
        "        nodes.conections[\"ε\" + str(self.epsilon)] = new_end_node\n",
        "        nodes.aceptation = False\n",
        "        self.epsilon += 1  \n",
        "\n",
        "    for nodes in clust_1.values():\n",
        "      if nodes.aceptation == True:\n",
        "        nodes.conections[\"ε\" + str(self.epsilon)] = new_end_node\n",
        "        nodes.aceptation = False\n",
        "        self.epsilon += 1\n",
        "    \n",
        "    self.clusters_star_node.pop(-1)\n",
        "    self.clusters_star_node.pop(-1)\n",
        "    self.clusters_end_node.pop(-1)\n",
        "    self.clusters_end_node.pop(-1)\n",
        "\n",
        "    self.clusters_star_node.append(new_start_node)\n",
        "    self.clusters_end_node.append(new_end_node)\n",
        "\n",
        "    self.node_clust.update(clust_2)\n",
        "    self.node_clust.update(clust_1)\n",
        "    self.nodes_clusters.pop(-1)\n",
        "    self.nodes_clusters.pop(-1)\n",
        "    self.nodes_clusters.append(self.node_clust)\n",
        "    #print(self.clusters_star_node)\n",
        "\n",
        "  # Hace estrella de kleen del último automata \n",
        "  def kleenex(self):\n",
        "    self.node_clust = dict()\n",
        "    clust_1 = self.nodes_clusters[-1]\n",
        "    state_clust_1 = list(clust_1.values())\n",
        "    clust_1_start = state_clust_1[0]\n",
        "    clust_1_end = state_clust_1[-1]\n",
        "\n",
        "    new_start_node = self.__create_node(False, dict(), self.node_clust )\n",
        "    new_end_node = self.__create_node(True, dict(),self.node_clust) \n",
        "\n",
        "    self.nodes[new_start_node].conections = {\"ε\" + \n",
        "    str(self.epsilon) : clust_1_start.name,\"ε\" + str(self.epsilon + 1) : new_end_node}  \n",
        "\n",
        "    self.epsilon += 2\n",
        "    \n",
        "    for nodes in clust_1.values():\n",
        "      if nodes.aceptation == True:\n",
        "        nodes.conections[\"ε\" + str(self.epsilon)] = new_end_node\n",
        "        nodes.conections[\"ε\" + str(self.epsilon + 1)] = clust_1_start.name\n",
        "        nodes.aceptation = False\n",
        "        self.epsilon += 2    \n",
        "\n",
        "    self.clusters_star_node.pop(-1)\n",
        "    self.clusters_end_node.pop(-1)\n",
        "    self.clusters_star_node.append(new_start_node)\n",
        "    self.clusters_end_node.append(new_end_node)\n",
        "\n",
        "    #print(\"start\",self.clusters_star_node)\n",
        "    #print(\"end\",self.clusters_end_node)\n",
        "\n",
        "    self.nodes_clusters.pop(-1)\n",
        "    self.node_clust.update(clust_1)\n",
        "    self.nodes_clusters.append(self.node_clust)\n",
        "    #print(self.clusters_star_node)\n",
        "\n",
        "  # Hace estrella de kleen más del último automata\n",
        "  def kleenex_plus(self):\n",
        "    self.node_clust = dict()\n",
        "    self.node_clust_2 = dict()\n",
        "    copy_nodes = [] \n",
        "    temp_dict = dict()\n",
        "    clust_1 = self.nodes_clusters[-1]\n",
        "    state_clust_1 = list(clust_1.values())\n",
        "    #print(self.clusters_star_node, self.clusters_end_node)\n",
        "\n",
        "    for node in clust_1:\n",
        "      penpen = self.__create_node(self.nodes[node].aceptation, \n",
        "      self.nodes[node].conections.copy(), self.node_clust_2)\n",
        "      copy_nodes.append(penpen)\n",
        "      temp_dict[self.nodes[node].name] = penpen\n",
        "\n",
        "    self.clusters_star_node.append(temp_dict[self.clusters_star_node[-1]])\n",
        "    self.clusters_end_node.append(temp_dict[self.clusters_end_node[-1]])\n",
        "\n",
        "   \n",
        "    for node in self.node_clust_2:\n",
        "      for info in self.nodes[node].conections.keys():\n",
        "\n",
        "        self.nodes[node].conections[info] = temp_dict[self.nodes[node].conections[info]]\n",
        " \n",
        "\n",
        "    self.nodes_clusters.append(self.node_clust_2)\n",
        "    #print(self.nodes_clusters)\n",
        "    #print(self.clusters_star_node)\n",
        "    #print(self.clusters_star_node, self.clusters_end_node)\n",
        "\n",
        "    self.kleenex()\n",
        "    self.concat_op()\n",
        "\n",
        "  #Funcion que calcula la epsilon clausura\n",
        "  def epsilon_closure(self):\n",
        "    for node in self.nodes.values(): \n",
        "      self.closure[node.name] = set()\n",
        "      for i in node.conections.keys():\n",
        "        if i[0] == \"ε\":\n",
        "          self.closure[node.name].add(node.conections[i])\n",
        "    \n",
        "    change = True \n",
        "\n",
        "    while change:\n",
        "      change = False \n",
        "      for state_closure in self.closure.keys():\n",
        "        size = len(self.closure[state_closure])\n",
        "        if size > 0:\n",
        "          for i in self.closure[state_closure]:\n",
        "            if len(self.closure[i]) > 0:\n",
        "              self.closure[state_closure] = self.closure[state_closure].union(self.closure[i])\n",
        "        size2 = len(self.closure[state_closure])\n",
        "        if size2 > size:\n",
        "          change = True \n",
        "\n",
        "    return self.closure\n",
        "\n",
        "  #Crea el automata que acepta un rango entre corchetes [A-Z]\n",
        "  def letters_range(self):\n",
        "    self.nodes_clusters.pop(-1)\n",
        "    self.nodes_clusters.pop(-1)\n",
        "    self.clusters_star_node.pop(-1)\n",
        "    self.clusters_star_node.pop(-1)\n",
        "    self.clusters_end_node.pop(-1)\n",
        "    self.clusters_end_node.pop(-1)\n",
        "    #print(self.clusters_star_node)\n",
        "    if len(self.clusters_star_node) == 0:\n",
        "      self.clusters_star_node.append(0)\n",
        "\n",
        "    letter_1 = ord(self.readed[-2])\n",
        "    letter_2 = ord(self.readed[-1]) \n",
        "    data = dict()\n",
        "    for i in range(letter_1,letter_2 + 1):\n",
        "      data[chr(i)] = self.enum+1\n",
        "\n",
        "    #print(data)\n",
        "\n",
        "    self.clusters_star_node.append(self.enum)\n",
        "    self.clusters_end_node.append(self.enum+1)\n",
        "    self.node_clust = dict()\n",
        "    self.__create_node(False, data , self.node_clust)\n",
        "    self.__create_node(True, dict() , self.node_clust)\n",
        "    self.nodes_clusters.append(self.node_clust)\n",
        "    #print(self.clusters_star_node)\n",
        "    #print(self.clusters_star_node) \n",
        "  \n",
        "  #Retorna la expresion regular leida por el automata\n",
        "  def readed_letters(self):\n",
        "    return self.readed\n",
        "\n",
        "\n",
        "  #Retorna los simbolos de la expresion regular leida por el automata\n",
        "  def readed_letter_alphabet(self):\n",
        "    return set(self.readed)\n",
        "\n",
        "  #Retorna los nodos del automata\n",
        "  def return_nodes(self):\n",
        "    data = dict()\n",
        "    acept = []\n",
        "    for i in self.nodes_clusters[0].keys():\n",
        "      data[i] = self.nodes[i].conections\n",
        "      if self.nodes[i].aceptation == True: \n",
        "        acept.append(self.nodes[i].name)\n",
        "    return [acept, data]\n",
        "\n",
        "  #Retorna los nodos del automata\n",
        "  def show_nodes(self) -> None:\n",
        "    for i in self.nodes.values():\n",
        "      print(\"---------------\")\n",
        "      print(i.name)\n",
        "      print(i.conections)\n",
        "      print(i.aceptation)\n",
        "\n"
      ],
      "metadata": {
        "id": "TqZISzzqAbQp"
      },
      "execution_count": 39,
      "outputs": []
    },
    {
      "cell_type": "code",
      "source": [
        "#Funcion para gráficar el Automata \n",
        "def draw(num, NFA_OBJ):\n",
        "  automata = gr.Digraph(format='PNG')\n",
        "  state=0\n",
        "  states = NFA_OBJ.nodes_clusters[num]\n",
        "\n",
        "  for nodes in states.values():\n",
        "    state_name = 'q' + str(nodes.name)\n",
        "    if nodes.aceptation == True: \n",
        "      automata.node(str(nodes.name), state_name, shape = \"doublecircle\")\n",
        "    if nodes.aceptation == False: \n",
        "      automata.node(str(nodes.name), state_name, shape = \"circle\")\n",
        "\n",
        "  for nodes in states.values():\n",
        "    temp = dict()\n",
        "    for trans in nodes.conections.keys():\n",
        "      #print(nodes.name)\n",
        "      print(nodes.conections)\n",
        "      print(nodes.conections[trans])\n",
        "      print(temp.keys())\n",
        "\n",
        "      if nodes.conections[trans] in temp.keys():\n",
        "        temp[nodes.conections[trans]].append(trans)\n",
        "      else:\n",
        "        temp[nodes.conections[trans]] = [trans]\n",
        "\n",
        "      print(temp)\n",
        "      automata.edge(str(nodes.name), str(nodes.conections[trans]) ,label = str(trans))\n",
        "      #print(str(trans))\n",
        "  return automata\n"
      ],
      "metadata": {
        "id": "OZy5ijmIJTCA"
      },
      "execution_count": 40,
      "outputs": []
    },
    {
      "cell_type": "markdown",
      "source": [
        "## Conversion de una Expresion Regular a NFA"
      ],
      "metadata": {
        "id": "BHAlAa9dI1Fg"
      }
    },
    {
      "cell_type": "markdown",
      "source": [
        "La función \"regex_to_NFA()\" sirve crear un NFA a partir de una expresión regular en postfix, adicional mente permite manenejar el símbolo \" [ \" como un símbolo o como el inicio de una espresión de la forma \"\\[A-Z\\]\". Esta función retorna el obejeto NFA y adicionalmente una lista con los datos necesarios para convertir este NFA en un DFA.\n",
        "\n",
        "Además se cuenta con la función auxiliar \"nfa_params()\" para dividir la información retornada por en varias estructuras de datos que serán utiles a la hora de transformar el NFA en un DFA \n",
        "\n",
        "\n",
        "Nota:  Para usar \" [ \" como un símbolo cualquiera, es necesario escribirlo con un \"\\\\\" previamente, con lo que quedaria así: \"\\\\[ \". "
      ],
      "metadata": {
        "id": "BTtUAPxtNPr8"
      }
    },
    {
      "cell_type": "code",
      "source": [
        "def regex_to_NFA(string):\n",
        "  flag = False\n",
        "  NFA = NFA_2()\n",
        "  string_list = [*string]\n",
        "  new_string = \"\"\n",
        "  for char in string_list:\n",
        "    if char == \"\\\\\":\n",
        "      flag = True\n",
        "    elif flag == True:\n",
        "      if char == \"[\":\n",
        "        new_string += \"変\"\n",
        "      if char == \"]\":\n",
        "        new_string += \"態\" \n",
        "      flag = False\n",
        "    elif flag == False: \n",
        "      new_string += char\n",
        "\n",
        "  expression = Hakufu_Sonsaku(new_string)\n",
        "  #print(expression)\n",
        "  new_string2 = infix_to_postfix(expression)\n",
        "  #print(new_string)\n",
        "\n",
        "  string_list = [*new_string2]\n",
        "  for char in string_list:\n",
        "    if char == \"#\":\n",
        "      NFA.concat_op()\n",
        "    elif char == \"|\":\n",
        "      NFA.or_op()\n",
        "    elif char == \"*\":\n",
        "      NFA.kleenex()\n",
        "    elif char == \"+\":\n",
        "      NFA.kleenex_plus()\n",
        "    elif char == \"-\":\n",
        "      NFA.letters_range()\n",
        "    elif char == \"?\":\n",
        "      NFA.simbol(\"\")\n",
        "      NFA.or_op()\n",
        "    elif char == '変':\n",
        "       NFA.simbol(\"[\")\n",
        "    elif char == '態':\n",
        "       NFA.simbol(\"]\")\n",
        "\n",
        "    else:\n",
        "      NFA.simbol(char)\n",
        "  \n",
        "  #estado inical \n",
        "  initial_state = NFA.clusters_star_node \n",
        "\n",
        "  #nodes contiene el diccionario nombre:objeto_nodo\n",
        "  nodes = NFA.nodes_clusters\n",
        "  \n",
        "  #nodes2 contiene el diccionario nombre:{letra:estado}\n",
        "  nodes2 = NFA.return_nodes()\n",
        "\n",
        "  #data contiene la epsion clausura como diccionario \n",
        "  data = NFA.epsilon_closure()\n",
        " \n",
        "  return [nodes2 ,NFA]\n",
        "\n",
        "#num = regex_to_NFA(\"\\[abc\\]\")\n",
        "#NFA_for_DRAW = num[1]\n",
        "#draw(0,NFA_for_DRAW)"
      ],
      "metadata": {
        "id": "yylJcKEoizbe"
      },
      "execution_count": 41,
      "outputs": []
    },
    {
      "cell_type": "code",
      "source": [
        "#función que retorna la función de transición, los estados, estados de aceptación, simbolos de transición y el estado inicial\n",
        "def nfa_params(nodes2):\n",
        "  dfa_beta = {}\n",
        "  num_trans = 0\n",
        "  transitions_0 = []\n",
        "\n",
        "  #pasa por los nodos del NFA\n",
        "  for i in nodes2[1]:\n",
        "    epsilon_list = []\n",
        "    #verifica las transiciones de los nodos\n",
        "    for j in nodes2[1][i]:\n",
        "      if('ε' in j):\n",
        "        epsilon_list.append(nodes2[1][i][j])\n",
        "      else:\n",
        "        if (i  not in dfa_beta):\n",
        "          dfa_beta[i] = {j:nodes2[1][i][j]}\n",
        "          transitions_0.append([i,j,nodes2[1][i][j]])\n",
        "        else:\n",
        "          dfa_beta[i].update({j:nodes2[1][i][j]})\n",
        "          transitions_0.append([i,j,nodes2[1][i][j]])\n",
        "        num_trans += 1\n",
        "    if(i  not in dfa_beta):\n",
        "      dfa_beta[i] = {}\n",
        "    if(len(epsilon_list) != 0):\n",
        "      dfa_beta[i] = {'ε':epsilon_list}\n",
        "      for x in epsilon_list:\n",
        "        transitions_0.append([i,'ε',x])\n",
        "      num_trans += len(epsilon_list) \n",
        "  #guardamos datos\n",
        "  states = dfa_beta\n",
        "  alphaset = set()\n",
        "  node_num = len(states)\n",
        "  for nodes in states.values():\n",
        "    nodes.keys()\n",
        "    for trans in nodes.keys():\n",
        "      alphaset.add(str(trans))\n",
        "  alpha_num = len(alphaset)\n",
        "  states_list = states.keys()\n",
        "  transitions_1 = []\n",
        "  for z in transitions_0:\n",
        "    transitions_1.append([str(x) for x in z])\n",
        "  return dfa_beta, [x for x in list(states_list)], alphaset, [str(x) for x in nodes2[0]]\n",
        "\n",
        "#0 es el dict\n",
        "#1 es la lista de estados\n",
        "#[1][0] estado inicial\n",
        "#2 es la lista de simbolos de transición\n",
        "#3 los estados de aceptación "
      ],
      "metadata": {
        "id": "KYpb4VE26rAh"
      },
      "execution_count": 42,
      "outputs": []
    },
    {
      "cell_type": "markdown",
      "source": [
        "# Conversion de NFA a DFA"
      ],
      "metadata": {
        "id": "nj2tKZPWKJtD"
      }
    },
    {
      "cell_type": "markdown",
      "source": [
        "Para convertir el NFA a DFA se utiliza el mismo algoritmo descrito en \"Compilers: Principles, Techniques, and Tools\" en donde se utilizan las epsilom clausuras para ir generando el DFA. El código funciona con el DFA normal. Adicionalmente se crearon funciones que se llaman desde el tokenizer para verificar si una cadena es aceptada o es capaz de ser leída por un automata independientemente de si la acepta o no."
      ],
      "metadata": {
        "id": "vJDrVCbO2kKO"
      }
    },
    {
      "cell_type": "code",
      "source": [
        "#NFA a DFA\n",
        "\n",
        "#la epsilon clausura de un estado\n",
        "def epsilon_closure_1(s, dfa_beta):\n",
        "  r = [s]\n",
        "  for j in dfa_beta[s]:\n",
        "    if j == \"ε\" :\n",
        "      for x in dfa_beta[s][j]:\n",
        "        r += epsilon_closure_1(x, dfa_beta)\n",
        "  return list(set(r))\n",
        "\n",
        "#la epsilon clausura de un conjunto de estados\n",
        "def epsilon_closure_2(f, dfa_beta):\n",
        "  r = []\n",
        "  for s in f:\n",
        "    r += epsilon_closure_1(s, dfa_beta)\n",
        "  return list(set(r))\n",
        "\n",
        "#la función move del libro del dragón\n",
        "def move(T,a,dfa_beta):\n",
        "  r = []\n",
        "  for s in T:\n",
        "    if a in list(dfa_beta[s].keys()):\n",
        "      if 'ε' == a:\n",
        "        for x in dfa_beta[s][a]:\n",
        "          r.append(x)\n",
        "      else:\n",
        "        r.append(dfa_beta[s][a])\n",
        "  return list(set(r))\n",
        "\n",
        "#función para generar el DFA\n",
        "def nfa_to_dfa(S,dfa_beta,alphaset):\n",
        "  Dstates = []\n",
        "  Dstates.append(epsilon_closure_1(S, dfa_beta))\n",
        "  mark = []\n",
        "  mark.append(False)\n",
        "  count = 0\n",
        "  Dtran = {}\n",
        "\n",
        "  while False in mark:\n",
        "    mark[count] = True\n",
        "    for x in list(alphaset):\n",
        "      if x != 'ε':\n",
        "        U = epsilon_closure_2(move(Dstates[count],x,dfa_beta), dfa_beta)\n",
        "        if U not in Dstates:\n",
        "          Dstates.append(U)\n",
        "          mark.append(False)\n",
        "        ref = str(Dstates[count])\n",
        "        ref2 = str(U)\n",
        "        if (ref  not in Dtran):\n",
        "          Dtran[ref] = {x:ref2}\n",
        "        else:\n",
        "          Dtran[ref].update({x:ref2})\n",
        "    count += 1\n",
        "  return Dstates, Dtran\n",
        "\n",
        "#función para enlistar los estados de aceptación del DFA\n",
        "def dfa_accept_states(nfa_accept,dfa_states):\n",
        "  r = []\n",
        "  for x in dfa_states:\n",
        "    for y in nfa_accept:\n",
        "      if y in str(x):\n",
        "        r.append(str(x))\n",
        "  return r\n",
        "\n",
        "#función para chequear si una string es aceptada por el DFA\n",
        "def dfa_check(string, dfa, astates, S):\n",
        "  if(len(string) == 0):\n",
        "    if(S in astates):\n",
        "      return True\n",
        "    else:\n",
        "      return False\n",
        "  f_state = S\n",
        "  for x in string:\n",
        "    if x in dfa[f_state]:\n",
        "      f_state = dfa[f_state][x]\n",
        "    else:\n",
        "      return False\n",
        "  if f_state in astates:    \n",
        "    return True\n",
        "  else:\n",
        "    return False\n",
        "\n",
        "#función para chequear si una string es aceptada por una lista de DFAs\n",
        "def dfas_check(string, dfas_list):\n",
        "  r = []\n",
        "  count = 0\n",
        "  for x in dfas_list:\n",
        "    if dfa_check(string,x[0],x[1],x[2]):\n",
        "      r.append(count)\n",
        "    count+=1\n",
        "  return r\n",
        "\n",
        "#función para chequear si una string se puede leer por un DFA sin necesariamente ser aceptada\n",
        "def dfa_try(string, dfa, S):\n",
        "  f_state = S\n",
        "  for x in string:\n",
        "    if x in dfa[f_state]:\n",
        "      f_state = dfa[f_state][x]\n",
        "      if f_state == '[]':\n",
        "        return False\n",
        "    else:\n",
        "      return False\n",
        "  return True\n",
        "\n",
        "#función para chequear si una string se puede leer por una lista de DFAs sin necesariamente ser aceptada\n",
        "def dfas_try(string, dfas_list):\n",
        "  r = []\n",
        "  count = 0\n",
        "  for x in dfas_list:\n",
        "    if dfa_try(string,x[0],x[2]):\n",
        "      r.append(count)\n",
        "    count+=1\n",
        "  return r\n",
        "\n",
        "#Retorna el diccionario del DFA, sus estados de aceptación y su estado inicial\n",
        "def dfa_born(nodes2):\n",
        "  temporary = nfa_params(nodes2)\n",
        "\n",
        "  dfa_states, dfa_final = nfa_to_dfa(temporary[1][0],temporary[0],temporary[2])\n",
        "  accept_states_nfa = [str(x) for x in nodes2[0]]\n",
        "  astates_dfa = dfa_accept_states(accept_states_nfa,dfa_states)\n",
        "  istate_dfa = str(dfa_states[0])\n",
        "\n",
        "  return [dfa_final,astates_dfa,istate_dfa]"
      ],
      "metadata": {
        "id": "tRZD7EgqSjqD"
      },
      "execution_count": 43,
      "outputs": []
    },
    {
      "cell_type": "code",
      "source": [
        "def draw_DFA(info, name):\n",
        "  automata = gr.Digraph(format='PNG')\n",
        "  state=0\n",
        "  states = info[0]\n",
        "\n",
        "\n",
        "  for nodes in states.keys(): \n",
        "    state_name = 'q' + str(nodes)\n",
        "    if nodes in info[1]:\n",
        "      automata.node(str(nodes),state_name, shape = \"doublecircle\")\n",
        "    else:\n",
        "      automata.node(str(nodes),state_name, shape = \"circle\")\n",
        "\n",
        "  for nodes in states.keys():\n",
        "    temp = dict()\n",
        "    for trans in info[0][nodes]:\n",
        "      #print(nodes)\n",
        "      #print(\"va por: \", trans)\n",
        "      #print(info[0][nodes][trans])\n",
        "\n",
        "      if info[0][nodes][trans] in temp.keys():\n",
        "        temp[info[0][nodes][trans]].append(trans)\n",
        "      else:\n",
        "        temp[info[0][nodes][trans]] = [trans]\n",
        "      #print(\"OK: \", temp)\n",
        "      #print()\n",
        "\n",
        "\n",
        "    for trans in temp.keys():\n",
        "      #print(temp)\n",
        "      automata.edge(str(nodes), str(trans) ,label = str(temp[trans]))\n",
        "   \n",
        "  automata.save()\n",
        "  automata.render(filename=name, view=True) \n",
        "  return automata "
      ],
      "metadata": {
        "id": "BeR2m1YbYUEs"
      },
      "execution_count": 44,
      "outputs": []
    },
    {
      "cell_type": "code",
      "source": [
        "temp = dfa_born(regex_to_NFA(\"[A-C]*\")[0])\n",
        "draw_DFA(temp,'Prueba_dibujado_DFA')"
      ],
      "metadata": {
        "id": "3yM2R9mdCXda",
        "colab": {
          "base_uri": "https://localhost:8080/",
          "height": 367
        },
        "outputId": "753dfb5c-dda6-4bbf-cb0b-7534c622c6a7"
      },
      "execution_count": 45,
      "outputs": [
        {
          "output_type": "execute_result",
          "data": {
            "text/plain": [
              "<graphviz.dot.Digraph at 0x7fe33dd705d0>"
            ],
            "image/svg+xml": "<?xml version=\"1.0\" encoding=\"UTF-8\" standalone=\"no\"?>\n<!DOCTYPE svg PUBLIC \"-//W3C//DTD SVG 1.1//EN\"\n \"http://www.w3.org/Graphics/SVG/1.1/DTD/svg11.dtd\">\n<!-- Generated by graphviz version 2.40.1 (20161225.0304)\n -->\n<!-- Title: %3 Pages: 1 -->\n<svg width=\"194pt\" height=\"260pt\"\n viewBox=\"0.00 0.00 194.29 259.58\" xmlns=\"http://www.w3.org/2000/svg\" xmlns:xlink=\"http://www.w3.org/1999/xlink\">\n<g id=\"graph0\" class=\"graph\" transform=\"scale(1 1) rotate(0) translate(4 255.5836)\">\n<title>%3</title>\n<polygon fill=\"#ffffff\" stroke=\"transparent\" points=\"-4,4 -4,-255.5836 190.2918,-255.5836 190.2918,4 -4,4\"/>\n<!-- [4, 6, 7] -->\n<g id=\"node1\" class=\"node\">\n<title>[4, 6, 7]</title>\n<ellipse fill=\"none\" stroke=\"#000000\" cx=\"50.1459\" cy=\"-201.4377\" rx=\"46.2806\" ry=\"46.2806\"/>\n<ellipse fill=\"none\" stroke=\"#000000\" cx=\"50.1459\" cy=\"-201.4377\" rx=\"50.2922\" ry=\"50.2922\"/>\n<text text-anchor=\"middle\" x=\"50.1459\" y=\"-197.7377\" font-family=\"Times,serif\" font-size=\"14.00\" fill=\"#000000\">q[4, 6, 7]</text>\n</g>\n<!-- [4, 5, 7] -->\n<g id=\"node2\" class=\"node\">\n<title>[4, 5, 7]</title>\n<ellipse fill=\"none\" stroke=\"#000000\" cx=\"50.1459\" cy=\"-50.1459\" rx=\"46.2806\" ry=\"46.2806\"/>\n<ellipse fill=\"none\" stroke=\"#000000\" cx=\"50.1459\" cy=\"-50.1459\" rx=\"50.2922\" ry=\"50.2922\"/>\n<text text-anchor=\"middle\" x=\"50.1459\" y=\"-46.4459\" font-family=\"Times,serif\" font-size=\"14.00\" fill=\"#000000\">q[4, 5, 7]</text>\n</g>\n<!-- [4, 6, 7]&#45;&gt;[4, 5, 7] -->\n<g id=\"edge1\" class=\"edge\">\n<title>[4, 6, 7]&#45;&gt;[4, 5, 7]</title>\n<path fill=\"none\" stroke=\"#000000\" d=\"M50.1459,-151.0597C50.1459,-138.045 50.1459,-123.903 50.1459,-110.4384\"/>\n<polygon fill=\"#000000\" stroke=\"#000000\" points=\"53.646,-110.3039 50.1459,-100.3039 46.646,-110.3039 53.646,-110.3039\"/>\n<text text-anchor=\"middle\" x=\"84.1459\" y=\"-122.0918\" font-family=\"Times,serif\" font-size=\"14.00\" fill=\"#000000\">[&#39;A&#39;, &#39;C&#39;, &#39;B&#39;]</text>\n</g>\n<!-- [4, 5, 7]&#45;&gt;[4, 5, 7] -->\n<g id=\"edge2\" class=\"edge\">\n<title>[4, 5, 7]&#45;&gt;[4, 5, 7]</title>\n<path fill=\"none\" stroke=\"#000000\" d=\"M98.5343,-63.7465C109.9039,-62.6287 118.2918,-58.0951 118.2918,-50.1459 118.2918,-44.805 114.5054,-41.006 108.5722,-38.7489\"/>\n<polygon fill=\"#000000\" stroke=\"#000000\" points=\"109.0523,-35.2711 98.5343,-36.5453 107.5512,-42.1082 109.0523,-35.2711\"/>\n<text text-anchor=\"middle\" x=\"152.2918\" y=\"-46.4459\" font-family=\"Times,serif\" font-size=\"14.00\" fill=\"#000000\">[&#39;A&#39;, &#39;C&#39;, &#39;B&#39;]</text>\n</g>\n</g>\n</svg>\n"
          },
          "metadata": {},
          "execution_count": 45
        }
      ]
    },
    {
      "cell_type": "markdown",
      "source": [
        "## Tokenizer"
      ],
      "metadata": {
        "id": "1a7DHRKVLqKq"
      }
    },
    {
      "cell_type": "markdown",
      "source": [
        "El tokenizer lee la cadena de caracteres deseada, lleva dos contadores, uno que marca el inicio del token y otro que marca el final del token. Como en el libro \"Compilers: Principles, Techniques, and Tools\" se indica que un token exitoso es la cadena de caracteres más larga que se identifica como un token, por lo que el programa va aumentando el final del token hasta que la string leida no es aceptada por ningún DFA, es decir que en el paso anterior al no ser aceptada es cuando tenía su token correspondiente. Para saber si una cadena va a ser aceptada se le pregunta al DFA si en su nodo actual puede ir a otro nodo mediante el caracter de transición, si no es posible entonces la cadena jamás será aceptada."
      ],
      "metadata": {
        "id": "yiaQvUFu3cY_"
      }
    },
    {
      "cell_type": "code",
      "source": [
        "#Tokenizer_new\n",
        "\n",
        "#Tokenizer con impresiones\n",
        "def tokenizar2(sample_text,dfas_list,tokenlist, flag = True):\n",
        "  r = []\n",
        "  if(len(sample_text) < 2):\n",
        "    dfas_check(sample_text,dfas_list)\n",
        "  x_1 = 0\n",
        "  x_2 = 1\n",
        "\n",
        "  #se recorre el string con una posición adelantada para verificar la cadena más larga aceptada por un DFA\n",
        "  while x_2 <= len(sample_text):\n",
        "    temp = dfas_try(sample_text[x_1:x_2],dfas_list)\n",
        "    while len(temp) != 0 and x_2 <= len(sample_text)+1:\n",
        "      #verifique si la porción de string que lleva es aceptada por un DFA\n",
        "      temp = dfas_try(sample_text[x_1:x_2],dfas_list)\n",
        "      x_2+=1\n",
        "    #una vez que ya no lo acepta significa que debe ir a la ultima porción de string que corresponde a un token\n",
        "    x_2 = x_2-2\n",
        "    temp2 = dfas_check(sample_text[x_1:x_2], dfas_list)\n",
        "    if len(temp2) != 0 :\n",
        "      #si la cadena es aceptada por un DFA se confirma que es un token y se imprime\n",
        "      if(flag == True):\n",
        "        print(\"Tipo de token: \", tokenlist[min(temp2)],\"- Posición inicial: \", x_1+1,\"- Posición final: \", x_2,\"- valor: \", str(sample_text[x_1:x_2]))\n",
        "      r.append([tokenlist[min(temp2)],x_1,x_2])\n",
        "      x_1 = x_2\n",
        "      x_2+=1\n",
        "    else:\n",
        "      if(flag == True):\n",
        "        pass\n",
        "        #print(\"Syntax error\")\n",
        "      return []\n",
        "      #se retorna una lista de listas que lleva un token, donde empieza y donde acaba\n",
        "  return r\n"
      ],
      "metadata": {
        "id": "7Uxrz85tHkg_"
      },
      "execution_count": 46,
      "outputs": []
    },
    {
      "cell_type": "markdown",
      "source": [
        "## Lectura de archivos e inputs"
      ],
      "metadata": {
        "id": "0Ws9d_myLylq"
      }
    },
    {
      "cell_type": "markdown",
      "source": [
        "Para leer los archivos .txt se remueven los saltos de línea y posteriormente se asignan los tokens a su expresión regular respectiva y finalmente se tokeniza un texto. Si existe un caracter invalido el programa deja de tokenizar y pide otro texto para tokenizar."
      ],
      "metadata": {
        "id": "noTdzd_P4dfg"
      }
    },
    {
      "cell_type": "code",
      "source": [
        "#lee el .txt linea por linea para generar los tokens y luego otro .txt donde está el texto a tokenizar\n",
        "def recieve_txt_input(readme,readme2):\n",
        "  tok_rx_list = []\n",
        "  dfas_list = []\n",
        "  tokenlist = []\n",
        "  nfas_list = []\n",
        "  tokgen = []\n",
        "  with open(readme) as f:\n",
        "      lines = f.readlines()\n",
        "\n",
        "  for x in lines:\n",
        "    y = x.replace(\"\\n\", \"\" )\n",
        "    tokgen.append(y.split(\" -> \"))\n",
        "\n",
        "  for x in tokgen:\n",
        "    dfas_list.append(dfa_born(regex_to_NFA(x[1])[0]))\n",
        "    tokenlist.append(x[0])\n",
        "\n",
        "  with open(readme2) as f:\n",
        "      lines = f.read()\n",
        "      lines = lines.replace(\"\\n\", \"\")\n",
        "      lines = lines.replace(\"\\t\", \"\")\n",
        "  r = tokenizar2(lines,dfas_list,tokenlist)\n",
        "  return r\n",
        "\n",
        "#en caso de que solo se quiera generar los tokens sin verificar un .txt se usa esta\n",
        "def gen_txt_tokens(readme):\n",
        "  tok_rx_list = []\n",
        "  dfas_list = []\n",
        "  tokenlist = []\n",
        "  nfas_list = []\n",
        "  tokgen = []\n",
        "  with open(readme) as f:\n",
        "      lines = f.readlines()\n",
        "\n",
        "  for x in lines:\n",
        "    y = x.replace(\"\\n\", \"\" )\n",
        "    tokgen.append(y.split(\" -> \"))\n",
        "\n",
        "  for x in tokgen:\n",
        "    dfas_list.append(dfa_born(regex_to_NFA(x[1])[0]))\n",
        "    tokenlist.append(x[0])\n",
        "  return(dfas_list,tokenlist)"
      ],
      "metadata": {
        "id": "Dw-bxYPoy5Pk"
      },
      "execution_count": 47,
      "outputs": []
    },
    {
      "cell_type": "code",
      "source": [
        "#prompts para pedir input al usuario en caso de que se desee tokenizar algo sobre la marcha sin crear un .txt\n",
        "def ask_for_tokenization(dfas_list,tokenlist):\n",
        "  flag = True\n",
        "  while flag == True :\n",
        "    print(\"Por favor ingrese el texto para tokenizar (si quiere dejar de tokenizar escriba '==='): \")\n",
        "    strtemp3 = input()\n",
        "\n",
        "    if(strtemp3 == '==='):\n",
        "      flag = False\n",
        "    else:\n",
        "      tokenizar2(strtemp3,dfas_list,tokenlist)\n",
        "\n",
        "#prompt para pedir al usuario que genere los tokens sobre la marcha y luego compruebe texto sobre la marcha\n",
        "def ask_for_tokens():\n",
        "  tok_rx_list = []\n",
        "  dfas_list = []\n",
        "  tokenlist = []\n",
        "  nfas_list = []\n",
        "\n",
        "  flag = True\n",
        "  while flag == True :\n",
        "    print(\"Por favor ingrese el nombre de su token: \")\n",
        "    strtemp = input()\n",
        "    #print(strtemp + '\\n')\n",
        "    print(\"Por favor ingrese la expresión regular: \")\n",
        "    strtemp2 = input()\n",
        "    #print(strtemp + '\\n')\n",
        "    tok_rx_list.append([strtemp, strtemp2])\n",
        "    print(\"¿Desea continuar agregando tokens? (y/n): \")\n",
        "    if(input() != 'y'):\n",
        "      flag = False\n",
        "\n",
        "    for x in tok_rx_list:\n",
        "      dfas_list.append(dfa_born(regex_to_NFA(x[1])[0]))\n",
        "      tokenlist.append(x[0])\n",
        "    ask_for_tokenization(dfas_list,tokenlist)\n"
      ],
      "metadata": {
        "id": "8t83KbEa3loV"
      },
      "execution_count": 48,
      "outputs": []
    },
    {
      "cell_type": "markdown",
      "source": [
        "# Parte A"
      ],
      "metadata": {
        "id": "MJAwAwYWdz_L"
      }
    },
    {
      "cell_type": "markdown",
      "source": [
        "Aquí generamos los archivos .txt ya que no se guardan en la base de datos del colab, de esta forma al ejecutar esta linea aparece el archivo .txt, en este caso enseñamos el funcionamiento del programa mediante el ejemplo que proporciona el profesor en el taller."
      ],
      "metadata": {
        "id": "x5xuu2W44814"
      }
    },
    {
      "cell_type": "code",
      "source": [
        "%%writefile for.txt \n",
        "for -> (for)|(FOR)\n",
        "identifier -> [_a-z][_a-z0-9]*\n",
        "digit -> [0-9][0-9]*\n",
        "space -> [ ]\n",
        "equal -> ="
      ],
      "metadata": {
        "colab": {
          "base_uri": "https://localhost:8080/"
        },
        "id": "04917CGxc69T",
        "outputId": "e5118412-15c5-4679-8455-cd0e826ca181"
      },
      "execution_count": 49,
      "outputs": [
        {
          "output_type": "stream",
          "name": "stdout",
          "text": [
            "Overwriting for.txt\n"
          ]
        }
      ]
    },
    {
      "cell_type": "code",
      "source": [
        "%%writefile test_for.txt \n",
        "for a = 1\n",
        "for pepito = 24"
      ],
      "metadata": {
        "colab": {
          "base_uri": "https://localhost:8080/"
        },
        "id": "ff_Q9qBIekv-",
        "outputId": "41e1a93b-d869-4cf8-ad46-4de33af947dd"
      },
      "execution_count": 50,
      "outputs": [
        {
          "output_type": "stream",
          "name": "stdout",
          "text": [
            "Overwriting test_for.txt\n"
          ]
        }
      ]
    },
    {
      "cell_type": "code",
      "source": [
        "recieve_txt_input('for.txt','test_for.txt')\n",
        "print(\"\")"
      ],
      "metadata": {
        "colab": {
          "base_uri": "https://localhost:8080/"
        },
        "id": "F2gwGrcpeTFM",
        "outputId": "dc93f45f-3a34-417e-9356-abdc04a53d58"
      },
      "execution_count": 51,
      "outputs": [
        {
          "output_type": "stream",
          "name": "stdout",
          "text": [
            "Tipo de token:  for - Posición inicial:  1 - Posición final:  3 - valor:  for\n",
            "Tipo de token:  space - Posición inicial:  4 - Posición final:  4 - valor:   \n",
            "Tipo de token:  identifier - Posición inicial:  5 - Posición final:  5 - valor:  a\n",
            "Tipo de token:  space - Posición inicial:  6 - Posición final:  6 - valor:   \n",
            "Tipo de token:  equal - Posición inicial:  7 - Posición final:  7 - valor:  =\n",
            "Tipo de token:  space - Posición inicial:  8 - Posición final:  8 - valor:   \n",
            "Tipo de token:  digit - Posición inicial:  9 - Posición final:  9 - valor:  1\n",
            "Tipo de token:  for - Posición inicial:  10 - Posición final:  12 - valor:  for\n",
            "Tipo de token:  space - Posición inicial:  13 - Posición final:  13 - valor:   \n",
            "Tipo de token:  identifier - Posición inicial:  14 - Posición final:  19 - valor:  pepito\n",
            "Tipo de token:  space - Posición inicial:  20 - Posición final:  20 - valor:   \n",
            "Tipo de token:  equal - Posición inicial:  21 - Posición final:  21 - valor:  =\n",
            "Tipo de token:  space - Posición inicial:  22 - Posición final:  22 - valor:   \n",
            "Tipo de token:  digit - Posición inicial:  23 - Posición final:  24 - valor:  24\n",
            "\n"
          ]
        }
      ]
    },
    {
      "cell_type": "markdown",
      "source": [
        "# Lectura del formato JSON"
      ],
      "metadata": {
        "id": "9fCdMLSSL6dT"
      }
    },
    {
      "cell_type": "markdown",
      "source": [
        "Para verificar un archivo JSON se utilizan varios DFAs, basicamente de manera recursiva se pregunta si un archivo es JSON, este verifica si la primera posición es una llave izquierda y luego pregunta si es un identificador, seguido de dos puntos y luego un objeto que puede ser un string, un número, un booleano, un JSON o inclusive listas de los anteriores. Si se encuentra una coma luego de chequear esto, entonces vuelve a chequear, y así sucesivamente hasta chequear que todo el texto esté en formato JSON."
      ],
      "metadata": {
        "id": "c2nnlJrw5Rrx"
      }
    },
    {
      "cell_type": "code",
      "source": [
        "#Función simple que va quitando espacios entre tokens\n",
        "def skip_space(tokenlist,pos):\n",
        "  temp = pos\n",
        "  if(pos >= len(tokenlist)):\n",
        "    return pos-1\n",
        "  while tokenlist[pos][0] == 'Space':\n",
        "    pos+=1\n",
        "  return pos\n",
        "\n",
        "#Esta función verifica si el simbolo esperado está en la posición deseada\n",
        "def validate_JSON(tokenlist,pos,expected=None,not_expected=None,condition=None):\n",
        "  if (expected is not None and tokenlist[pos][0] == expected or not_expected is not None and tokenlist[pos][0] != not_expected or condition is True):\n",
        "    return True\n",
        "  else:\n",
        "    return False\n",
        "\n",
        "#La columna vertebral del parser, acá se llama recursivamente al string para verificar los tokens\n",
        "def JSON_parser(tokenlist,pos=0):\n",
        "  if tokenlist[pos][0] == 'Left Key':\n",
        "    return parse_object(tokenlist,pos)\n",
        "  elif tokenlist[pos][0] == 'Left Bracket':\n",
        "    return parse_array(tokenlist,pos)\n",
        "  elif (tokenlist[pos][0] == 'Number' or tokenlist[pos][0] == 'String' or tokenlist[pos][0] =='Bool' or tokenlist[pos][0] == 'Null'):\n",
        "    return pos\n",
        "  return False\n",
        "\n",
        "#Acá verificamos la estructura del JSON\n",
        "def parse_object(tokenlist,pos):\n",
        "  if not validate_JSON(tokenlist,pos,expected='Left Key'):\n",
        "    return False\n",
        "  pos = skip_space(tokenlist,pos+1)\n",
        "\n",
        "  while tokenlist[pos][0] != 'Right Key':\n",
        "    if tokenlist[pos][0] == 'String':\n",
        "      pos+=1\n",
        "      if tokenlist[pos][0] == 'Double dot':\n",
        "        pos+=1\n",
        "      else:\n",
        "        return False\n",
        "    pos = skip_space(tokenlist,pos)\n",
        "    if(JSON_parser(tokenlist,pos) == False):\n",
        "      return False\n",
        "    pos = JSON_parser(tokenlist,pos)+1\n",
        "    pos = skip_space(tokenlist,pos)\n",
        "    if tokenlist[pos][0] == 'Comma':\n",
        "      pos = skip_space(tokenlist,pos+1)\n",
        "      if not validate_JSON(tokenlist,pos,not_expected='Right Key'):\n",
        "        return False\n",
        "    else:\n",
        "      if not validate_JSON(tokenlist,pos,expected='Right Key'):\n",
        "        return False\n",
        "  return pos\n",
        "\n",
        "#Acá verificamos la estructura Array\n",
        "def parse_array(tokenlist,pos):\n",
        "  if not validate_JSON(tokenlist,pos,expected='Left Bracket'):\n",
        "    return False\n",
        "  pos = skip_space(tokenlist,pos+1)\n",
        "\n",
        "  while tokenlist[pos][0] != 'Right Bracket':\n",
        "    if(JSON_parser(tokenlist,pos) == False):\n",
        "      return False\n",
        "    pos = JSON_parser(tokenlist,pos)+1\n",
        "    pos = skip_space(tokenlist,pos)\n",
        "    if tokenlist[pos][0] == 'Comma':\n",
        "      pos = skip_space(tokenlist,pos+1)\n",
        "      if not validate_JSON(tokenlist,pos,not_expected='Right Bracket'):\n",
        "        return False\n",
        "    else:\n",
        "      if not validate_JSON(tokenlist,pos,expected='Right Bracket'):\n",
        "        return False\n",
        "  return pos\n",
        "\n",
        "#Acá verificamos el caso en que haya más de un JSON en el archivo\n",
        "def parse_multipleJSON(tokenlist,pos=0):\n",
        "  if(len(tokenlist) < 1):\n",
        "    return False\n",
        "  if (JSON_parser(tokenlist,pos) == False):\n",
        "    return False\n",
        "  pos = JSON_parser(tokenlist,pos)+1\n",
        "  while pos < len(tokenlist):\n",
        "    pos = skip_space(tokenlist,pos)\n",
        "    if tokenlist[pos][0] == 'Comma':\n",
        "      pos+=1\n",
        "      pos = skip_space(tokenlist,pos)\n",
        "    else:\n",
        "      return False\n",
        "    if (JSON_parser(tokenlist,pos) == False):\n",
        "      return False\n",
        "    pos = JSON_parser(tokenlist,pos)+1\n",
        "\n",
        "  return pos"
      ],
      "metadata": {
        "id": "Krrt87xoAbQc"
      },
      "execution_count": 52,
      "outputs": []
    },
    {
      "cell_type": "markdown",
      "source": [
        "# Parte B"
      ],
      "metadata": {
        "id": "1RFpw_UjfEw9"
      }
    },
    {
      "cell_type": "markdown",
      "source": [
        "Se desea leer el formato JSON, es decir que vamos a crear un token por cada elemento clave que lo compone. Lo primero es ser capaz de identificar las llaves \"{}\", luego de esto tenemos que comprobar el contenido de JSON que tiene la siguiente estructura: \"String\":objeto. Objeto es un elemento recursivo que puede ser desde un \"JSON\", números, identificadores, booleanos o null, además de una lista de los anteriores. Si al final de chequear el contenido se encuentra una coma, significa que hay que seguir comprobando más contenido.\n",
        "\n",
        "Los DFA creados son los siguientes:\n",
        "\n",
        "\n",
        "*   String -> \"[ a-zA-Z0-9]+\", es decir una cadena de letras o números encerrados entre comillas.\n",
        "*   Number -> ([0-9]+)|([0-9]+.[0-9]+), es decir un entero o un flotante.\n",
        "*   Bool -> (True)|(False), es decir falso o verdadero.\n",
        "*   Null -> (Null)|(null)|(NULL), es decir las diferentes formas de escribir elemento nulo.\n",
        "*   Left Key -> {, es decir la llave izquierda.\n",
        "*   Right Key -> }, es decir la llave derecha.\n",
        "*   Left Bracket -> \\[, es decir el bracket izquierdo.\n",
        "*   Right Bracket -> \\], es decir el bracket derecho.\n",
        "*   Double dot -> :, es decir los dos puntos que van luego del String.\n",
        "*   Comma -> ,, es decir la coma que separa elementos en la lista o dentro del JSON.\n",
        "*   Space -> [ ], es decir el espaco que se puede utilizar por comodidad para entender mejor el texto.\n",
        "\n",
        "Ahora vamos a probar con el ejemplo del taller:\n",
        "\n"
      ],
      "metadata": {
        "id": "teBTa09u5xry"
      }
    },
    {
      "cell_type": "code",
      "source": [
        "%%writefile json.txt\n",
        "String -> \"[ a-zA-Z0-9]+\"\n",
        "Number -> ([0-9]+)|([0-9]+.[0-9]+)\n",
        "Bool -> (True)|(False)\n",
        "Null -> (Null)|(null)|(NULL)\n",
        "Left Key -> {\n",
        "Right Key -> }\n",
        "Left Bracket -> \\[\n",
        "Right Bracket -> \\]\n",
        "Double dot -> :\n",
        "Comma -> ,\n",
        "Space -> [ ]"
      ],
      "metadata": {
        "colab": {
          "base_uri": "https://localhost:8080/"
        },
        "id": "5Y-e3L44AmMM",
        "outputId": "540b3610-4925-4dbf-805d-7c227d7b1e3c"
      },
      "execution_count": 53,
      "outputs": [
        {
          "output_type": "stream",
          "name": "stdout",
          "text": [
            "Overwriting json.txt\n"
          ]
        }
      ]
    },
    {
      "cell_type": "code",
      "source": [
        "%%writefile json_definitetest.txt\n",
        "{\n",
        "\"departamento\":8,\n",
        "\"nombredepto\":\"Ventas\",\n",
        "\"director\": \"Juan Rodriguez\",\n",
        "\"empleados\":[\n",
        "  {\n",
        "    \"nombre\":\"Pedro\",\n",
        "    \"apellido\":\"Fernandez\"\n",
        "  },{\n",
        "      \"nombre\":\"Jacinto\",\n",
        "      \"apellido\":\"Benavente\"\n",
        "    }\n",
        "  ]\n",
        "},{\n",
        "  \"Para que vea\":\"profe\",\n",
        "  \"Float\":9.8\n",
        "}"
      ],
      "metadata": {
        "colab": {
          "base_uri": "https://localhost:8080/"
        },
        "id": "IXOJdkLPgU3g",
        "outputId": "754211aa-a6f3-46e2-f7c2-a14b44192fe5"
      },
      "execution_count": 54,
      "outputs": [
        {
          "output_type": "stream",
          "name": "stdout",
          "text": [
            "Overwriting json_definitetest.txt\n"
          ]
        }
      ]
    },
    {
      "cell_type": "code",
      "source": [
        "diosporfavor = recieve_txt_input('json.txt','json_definitetest.txt')\n",
        "if(parse_multipleJSON(diosporfavor) == False):\n",
        "  print(\"No es un archivo en formato JSON\")\n",
        "else:\n",
        "  print(\"Es un archivo en formato JSON\")"
      ],
      "metadata": {
        "colab": {
          "base_uri": "https://localhost:8080/"
        },
        "id": "4W2jzjAiAqxV",
        "outputId": "16a55c19-3933-4894-dc65-9f841f44eded"
      },
      "execution_count": 55,
      "outputs": [
        {
          "output_type": "stream",
          "name": "stdout",
          "text": [
            "Tipo de token:  Left Key - Posición inicial:  1 - Posición final:  1 - valor:  {\n",
            "Tipo de token:  String - Posición inicial:  2 - Posición final:  15 - valor:  \"departamento\"\n",
            "Tipo de token:  Double dot - Posición inicial:  16 - Posición final:  16 - valor:  :\n",
            "Tipo de token:  Number - Posición inicial:  17 - Posición final:  17 - valor:  8\n",
            "Tipo de token:  Comma - Posición inicial:  18 - Posición final:  18 - valor:  ,\n",
            "Tipo de token:  String - Posición inicial:  19 - Posición final:  31 - valor:  \"nombredepto\"\n",
            "Tipo de token:  Double dot - Posición inicial:  32 - Posición final:  32 - valor:  :\n",
            "Tipo de token:  String - Posición inicial:  33 - Posición final:  40 - valor:  \"Ventas\"\n",
            "Tipo de token:  Comma - Posición inicial:  41 - Posición final:  41 - valor:  ,\n",
            "Tipo de token:  String - Posición inicial:  42 - Posición final:  51 - valor:  \"director\"\n",
            "Tipo de token:  Double dot - Posición inicial:  52 - Posición final:  52 - valor:  :\n",
            "Tipo de token:  Space - Posición inicial:  53 - Posición final:  53 - valor:   \n",
            "Tipo de token:  String - Posición inicial:  54 - Posición final:  69 - valor:  \"Juan Rodriguez\"\n",
            "Tipo de token:  Comma - Posición inicial:  70 - Posición final:  70 - valor:  ,\n",
            "Tipo de token:  String - Posición inicial:  71 - Posición final:  81 - valor:  \"empleados\"\n",
            "Tipo de token:  Double dot - Posición inicial:  82 - Posición final:  82 - valor:  :\n",
            "Tipo de token:  Left Bracket - Posición inicial:  83 - Posición final:  83 - valor:  [\n",
            "Tipo de token:  Space - Posición inicial:  84 - Posición final:  84 - valor:   \n",
            "Tipo de token:  Space - Posición inicial:  85 - Posición final:  85 - valor:   \n",
            "Tipo de token:  Left Key - Posición inicial:  86 - Posición final:  86 - valor:  {\n",
            "Tipo de token:  Space - Posición inicial:  87 - Posición final:  87 - valor:   \n",
            "Tipo de token:  Space - Posición inicial:  88 - Posición final:  88 - valor:   \n",
            "Tipo de token:  Space - Posición inicial:  89 - Posición final:  89 - valor:   \n",
            "Tipo de token:  Space - Posición inicial:  90 - Posición final:  90 - valor:   \n",
            "Tipo de token:  String - Posición inicial:  91 - Posición final:  98 - valor:  \"nombre\"\n",
            "Tipo de token:  Double dot - Posición inicial:  99 - Posición final:  99 - valor:  :\n",
            "Tipo de token:  String - Posición inicial:  100 - Posición final:  106 - valor:  \"Pedro\"\n",
            "Tipo de token:  Comma - Posición inicial:  107 - Posición final:  107 - valor:  ,\n",
            "Tipo de token:  Space - Posición inicial:  108 - Posición final:  108 - valor:   \n",
            "Tipo de token:  Space - Posición inicial:  109 - Posición final:  109 - valor:   \n",
            "Tipo de token:  Space - Posición inicial:  110 - Posición final:  110 - valor:   \n",
            "Tipo de token:  Space - Posición inicial:  111 - Posición final:  111 - valor:   \n",
            "Tipo de token:  String - Posición inicial:  112 - Posición final:  121 - valor:  \"apellido\"\n",
            "Tipo de token:  Double dot - Posición inicial:  122 - Posición final:  122 - valor:  :\n",
            "Tipo de token:  String - Posición inicial:  123 - Posición final:  133 - valor:  \"Fernandez\"\n",
            "Tipo de token:  Space - Posición inicial:  134 - Posición final:  134 - valor:   \n",
            "Tipo de token:  Space - Posición inicial:  135 - Posición final:  135 - valor:   \n",
            "Tipo de token:  Right Key - Posición inicial:  136 - Posición final:  136 - valor:  }\n",
            "Tipo de token:  Comma - Posición inicial:  137 - Posición final:  137 - valor:  ,\n",
            "Tipo de token:  Left Key - Posición inicial:  138 - Posición final:  138 - valor:  {\n",
            "Tipo de token:  Space - Posición inicial:  139 - Posición final:  139 - valor:   \n",
            "Tipo de token:  Space - Posición inicial:  140 - Posición final:  140 - valor:   \n",
            "Tipo de token:  Space - Posición inicial:  141 - Posición final:  141 - valor:   \n",
            "Tipo de token:  Space - Posición inicial:  142 - Posición final:  142 - valor:   \n",
            "Tipo de token:  Space - Posición inicial:  143 - Posición final:  143 - valor:   \n",
            "Tipo de token:  Space - Posición inicial:  144 - Posición final:  144 - valor:   \n",
            "Tipo de token:  String - Posición inicial:  145 - Posición final:  152 - valor:  \"nombre\"\n",
            "Tipo de token:  Double dot - Posición inicial:  153 - Posición final:  153 - valor:  :\n",
            "Tipo de token:  String - Posición inicial:  154 - Posición final:  162 - valor:  \"Jacinto\"\n",
            "Tipo de token:  Comma - Posición inicial:  163 - Posición final:  163 - valor:  ,\n",
            "Tipo de token:  Space - Posición inicial:  164 - Posición final:  164 - valor:   \n",
            "Tipo de token:  Space - Posición inicial:  165 - Posición final:  165 - valor:   \n",
            "Tipo de token:  Space - Posición inicial:  166 - Posición final:  166 - valor:   \n",
            "Tipo de token:  Space - Posición inicial:  167 - Posición final:  167 - valor:   \n",
            "Tipo de token:  Space - Posición inicial:  168 - Posición final:  168 - valor:   \n",
            "Tipo de token:  Space - Posición inicial:  169 - Posición final:  169 - valor:   \n",
            "Tipo de token:  String - Posición inicial:  170 - Posición final:  179 - valor:  \"apellido\"\n",
            "Tipo de token:  Double dot - Posición inicial:  180 - Posición final:  180 - valor:  :\n",
            "Tipo de token:  String - Posición inicial:  181 - Posición final:  191 - valor:  \"Benavente\"\n",
            "Tipo de token:  Space - Posición inicial:  192 - Posición final:  192 - valor:   \n",
            "Tipo de token:  Space - Posición inicial:  193 - Posición final:  193 - valor:   \n",
            "Tipo de token:  Space - Posición inicial:  194 - Posición final:  194 - valor:   \n",
            "Tipo de token:  Space - Posición inicial:  195 - Posición final:  195 - valor:   \n",
            "Tipo de token:  Right Key - Posición inicial:  196 - Posición final:  196 - valor:  }\n",
            "Tipo de token:  Space - Posición inicial:  197 - Posición final:  197 - valor:   \n",
            "Tipo de token:  Space - Posición inicial:  198 - Posición final:  198 - valor:   \n",
            "Tipo de token:  Right Bracket - Posición inicial:  199 - Posición final:  199 - valor:  ]\n",
            "Tipo de token:  Right Key - Posición inicial:  200 - Posición final:  200 - valor:  }\n",
            "Tipo de token:  Comma - Posición inicial:  201 - Posición final:  201 - valor:  ,\n",
            "Tipo de token:  Left Key - Posición inicial:  202 - Posición final:  202 - valor:  {\n",
            "Tipo de token:  Space - Posición inicial:  203 - Posición final:  203 - valor:   \n",
            "Tipo de token:  Space - Posición inicial:  204 - Posición final:  204 - valor:   \n",
            "Tipo de token:  String - Posición inicial:  205 - Posición final:  218 - valor:  \"Para que vea\"\n",
            "Tipo de token:  Double dot - Posición inicial:  219 - Posición final:  219 - valor:  :\n",
            "Tipo de token:  String - Posición inicial:  220 - Posición final:  226 - valor:  \"profe\"\n",
            "Tipo de token:  Comma - Posición inicial:  227 - Posición final:  227 - valor:  ,\n",
            "Tipo de token:  Space - Posición inicial:  228 - Posición final:  228 - valor:   \n",
            "Tipo de token:  Space - Posición inicial:  229 - Posición final:  229 - valor:   \n",
            "Tipo de token:  String - Posición inicial:  230 - Posición final:  236 - valor:  \"Float\"\n",
            "Tipo de token:  Double dot - Posición inicial:  237 - Posición final:  237 - valor:  :\n",
            "Tipo de token:  Number - Posición inicial:  238 - Posición final:  240 - valor:  9.8\n",
            "Tipo de token:  Right Key - Posición inicial:  241 - Posición final:  241 - valor:  }\n",
            "Es un archivo en formato JSON\n"
          ]
        }
      ]
    },
    {
      "cell_type": "markdown",
      "source": [
        "### Punto adicional\n",
        "\n",
        "En esta parte se gráfican los DFA que sirven para tokenisar el JSON"
      ],
      "metadata": {
        "id": "-88HnPk6WmLz"
      }
    },
    {
      "cell_type": "code",
      "source": [
        "info = dfa_born(regex_to_NFA('\"[ a-zA-Z0-9]+\"')[0])\n",
        "draw_DFA(info, \"regex String_DFA\")"
      ],
      "metadata": {
        "id": "peapx17X9eLB",
        "colab": {
          "base_uri": "https://localhost:8080/",
          "height": 1000
        },
        "outputId": "9b58ede0-1304-43ba-91f5-d4f93fddc06d"
      },
      "execution_count": 56,
      "outputs": [
        {
          "output_type": "execute_result",
          "data": {
            "text/plain": [
              "<graphviz.dot.Digraph at 0x7fe33dd07b10>"
            ],
            "image/svg+xml": "<?xml version=\"1.0\" encoding=\"UTF-8\" standalone=\"no\"?>\n<!DOCTYPE svg PUBLIC \"-//W3C//DTD SVG 1.1//EN\"\n \"http://www.w3.org/Graphics/SVG/1.1/DTD/svg11.dtd\">\n<!-- Generated by graphviz version 2.40.1 (20161225.0304)\n -->\n<!-- Title: %3 Pages: 1 -->\n<svg width=\"5032pt\" height=\"2625pt\"\n viewBox=\"0.00 0.00 5031.65 2624.70\" xmlns=\"http://www.w3.org/2000/svg\" xmlns:xlink=\"http://www.w3.org/1999/xlink\">\n<g id=\"graph0\" class=\"graph\" transform=\"scale(1 1) rotate(0) translate(4 2620.7047)\">\n<title>%3</title>\n<polygon fill=\"#ffffff\" stroke=\"transparent\" points=\"-4,4 -4,-2620.7047 5027.6476,-2620.7047 5027.6476,4 -4,4\"/>\n<!-- [0] -->\n<g id=\"node1\" class=\"node\">\n<title>[0]</title>\n<ellipse fill=\"none\" stroke=\"#000000\" cx=\"26.6476\" cy=\"-2590.0571\" rx=\"26.7961\" ry=\"26.7961\"/>\n<text text-anchor=\"middle\" x=\"26.6476\" y=\"-2586.3571\" font-family=\"Times,serif\" font-size=\"14.00\" fill=\"#000000\">q[0]</text>\n</g>\n<!-- [] -->\n<g id=\"node2\" class=\"node\">\n<title>[]</title>\n<ellipse fill=\"none\" stroke=\"#000000\" cx=\"2230.6476\" cy=\"-21.4481\" rx=\"21.3963\" ry=\"21.3963\"/>\n<text text-anchor=\"middle\" x=\"2230.6476\" y=\"-17.7481\" font-family=\"Times,serif\" font-size=\"14.00\" fill=\"#000000\">q[]</text>\n</g>\n<!-- [0]&#45;&gt;[] -->\n<g id=\"edge1\" class=\"edge\">\n<title>[0]&#45;&gt;[]</title>\n<path fill=\"none\" stroke=\"#000000\" d=\"M22.9367,-2563.5097C18.2101,-2527.3407 10.6476,-2460.5175 10.6476,-2403.2191 10.6476,-2403.2191 10.6476,-2403.2191 10.6476,-129.0934 10.6476,-71.7367 1926.6691,-28.045 2198.6787,-22.1312\"/>\n<polygon fill=\"#000000\" stroke=\"#000000\" points=\"2199.111,-25.6228 2209.0329,-21.9072 2198.9595,-18.6244 2199.111,-25.6228\"/>\n<text text-anchor=\"middle\" x=\"641.1476\" y=\"-1217.0105\" font-family=\"Times,serif\" font-size=\"14.00\" fill=\"#000000\">[&#39;O&#39;, &#39;x&#39;, &#39;q&#39;, &#39;7&#39;, &#39;z&#39;, &#39;L&#39;, &#39;c&#39;, &#39;g&#39;, &#39;V&#39;, &#39;F&#39;, &#39;8&#39;, &#39;6&#39;, &#39;e&#39;, &#39;W&#39;, &#39;n&#39;, &#39;v&#39;, &#39;m&#39;, &#39;k&#39;, &#39;d&#39;, &#39;r&#39;, &#39;J&#39;, &#39; &#39;, &#39;G&#39;, &#39;4&#39;, &#39;Q&#39;, &#39;i&#39;, &#39;j&#39;, &#39;P&#39;, &#39;a&#39;, &#39;D&#39;, &#39;l&#39;, &#39;0&#39;, &#39;u&#39;, &#39;2&#39;, &#39;3&#39;, &#39;b&#39;, &#39;w&#39;, &#39;M&#39;, &#39;p&#39;, &#39;H&#39;, &#39;N&#39;, &#39;U&#39;, &#39;X&#39;, &#39;o&#39;, &#39;y&#39;, &#39;I&#39;, &#39;A&#39;, &#39;S&#39;, &#39;B&#39;, &#39;T&#39;, &#39;Z&#39;, &#39;1&#39;, &#39;9&#39;, &#39;C&#39;, &#39;5&#39;, &#39;E&#39;, &#39;R&#39;, &#39;s&#39;, &#39;Y&#39;, &#39;h&#39;, &#39;K&#39;, &#39;f&#39;, &#39;t&#39;]</text>\n</g>\n<!-- [2, 8, 10, 16, 18, 24, 26] -->\n<g id=\"node3\" class=\"node\">\n<title>[2, 8, 10, 16, 18, 24, 26]</title>\n<ellipse fill=\"none\" stroke=\"#000000\" cx=\"2993.6476\" cy=\"-2403.2191\" rx=\"109.381\" ry=\"109.381\"/>\n<text text-anchor=\"middle\" x=\"2993.6476\" y=\"-2399.5191\" font-family=\"Times,serif\" font-size=\"14.00\" fill=\"#000000\">q[2, 8, 10, 16, 18, 24, 26]</text>\n</g>\n<!-- [0]&#45;&gt;[2, 8, 10, 16, 18, 24, 26] -->\n<g id=\"edge2\" class=\"edge\">\n<title>[0]&#45;&gt;[2, 8, 10, 16, 18, 24, 26]</title>\n<path fill=\"none\" stroke=\"#000000\" d=\"M53.6626,-2588.3559C312.5475,-2572.0534 2356.1119,-2443.3661 2874.4496,-2410.7253\"/>\n<polygon fill=\"#000000\" stroke=\"#000000\" points=\"2874.8053,-2414.2099 2884.5655,-2410.0883 2874.3653,-2407.2238 2874.8053,-2414.2099\"/>\n<text text-anchor=\"middle\" x=\"913.6476\" y=\"-2534.2095\" font-family=\"Times,serif\" font-size=\"14.00\" fill=\"#000000\">[&#39;&quot;&#39;]</text>\n</g>\n<!-- []&#45;&gt;[] -->\n<g id=\"edge3\" class=\"edge\">\n<title>[]&#45;&gt;[]</title>\n<path fill=\"none\" stroke=\"#000000\" d=\"M2250.539,-29.7699C2260.8244,-31.0501 2270.0957,-28.2762 2270.0957,-21.4481 2270.0957,-17.0738 2266.2908,-14.3634 2260.8518,-13.3168\"/>\n<polygon fill=\"#000000\" stroke=\"#000000\" points=\"2260.602,-9.8117 2250.539,-13.1263 2260.4726,-16.8105 2260.602,-9.8117\"/>\n<text text-anchor=\"middle\" x=\"2909.5957\" y=\"-17.7481\" font-family=\"Times,serif\" font-size=\"14.00\" fill=\"#000000\">[&#39;O&#39;, &#39;x&#39;, &#39;q&#39;, &#39;7&#39;, &#39;z&#39;, &#39;L&#39;, &#39;c&#39;, &#39;g&#39;, &#39;V&#39;, &#39;F&#39;, &#39;8&#39;, &#39;6&#39;, &#39;e&#39;, &#39;W&#39;, &#39;n&#39;, &#39;v&#39;, &#39;m&#39;, &#39;k&#39;, &#39;d&#39;, &#39;r&#39;, &#39;J&#39;, &#39; &#39;, &#39;G&#39;, &#39;4&#39;, &#39;Q&#39;, &#39;i&#39;, &#39;j&#39;, &#39;P&#39;, &#39;a&#39;, &#39;D&#39;, &#39;l&#39;, &#39;0&#39;, &#39;u&#39;, &#39;2&#39;, &#39;3&#39;, &#39;b&#39;, &#39;w&#39;, &#39;M&#39;, &#39;p&#39;, &#39;H&#39;, &#39;N&#39;, &#39;U&#39;, &#39;X&#39;, &#39;o&#39;, &#39;y&#39;, &#39;I&#39;, &#39;A&#39;, &#39;&quot;&#39;, &#39;S&#39;, &#39;B&#39;, &#39;T&#39;, &#39;Z&#39;, &#39;1&#39;, &#39;9&#39;, &#39;C&#39;, &#39;5&#39;, &#39;E&#39;, &#39;R&#39;, &#39;s&#39;, &#39;Y&#39;, &#39;h&#39;, &#39;K&#39;, &#39;f&#39;, &#39;t&#39;]</text>\n</g>\n<!-- [2, 8, 10, 16, 18, 24, 26]&#45;&gt;[] -->\n<g id=\"edge8\" class=\"edge\">\n<title>[2, 8, 10, 16, 18, 24, 26]&#45;&gt;[]</title>\n<path fill=\"none\" stroke=\"#000000\" d=\"M3103.0137,-2398.9589C3425.0188,-2385.4297 4365.2342,-2338.5895 4655.6476,-2243.0288 4822.3398,-2188.1787 5003.6476,-2231.9799 5003.6476,-2056.4954 5003.6476,-2056.4954 5003.6476,-2056.4954 5003.6476,-129.0934 5003.6476,-56.8897 2570.7699,-25.5056 2262.6069,-21.8199\"/>\n<polygon fill=\"#000000\" stroke=\"#000000\" points=\"2262.2051,-18.315 2252.1642,-21.6959 2262.1219,-25.3145 2262.2051,-18.315\"/>\n<text text-anchor=\"middle\" x=\"5013.6476\" y=\"-999.1276\" font-family=\"Times,serif\" font-size=\"14.00\" fill=\"#000000\">[&#39;&quot;&#39;]</text>\n</g>\n<!-- [32, 34, 36, 38, 40, 42, 44, 17, 19, 28, 30] -->\n<g id=\"node4\" class=\"node\">\n<title>[32, 34, 36, 38, 40, 42, 44, 17, 19, 28, 30]</title>\n<ellipse fill=\"none\" stroke=\"#000000\" cx=\"4095.6476\" cy=\"-2056.4954\" rx=\"177.3685\" ry=\"177.3685\"/>\n<text text-anchor=\"middle\" x=\"4095.6476\" y=\"-2052.7954\" font-family=\"Times,serif\" font-size=\"14.00\" fill=\"#000000\">q[32, 34, 36, 38, 40, 42, 44, 17, 19, 28, 30]</text>\n</g>\n<!-- [2, 8, 10, 16, 18, 24, 26]&#45;&gt;[32, 34, 36, 38, 40, 42, 44, 17, 19, 28, 30] -->\n<g id=\"edge4\" class=\"edge\">\n<title>[2, 8, 10, 16, 18, 24, 26]&#45;&gt;[32, 34, 36, 38, 40, 42, 44, 17, 19, 28, 30]</title>\n<path fill=\"none\" stroke=\"#000000\" d=\"M3097.8174,-2370.4441C3285.8138,-2311.2945 3683.8296,-2186.0662 3916.3582,-2112.9055\"/>\n<polygon fill=\"#000000\" stroke=\"#000000\" points=\"3917.4428,-2116.2334 3925.9314,-2109.8935 3915.3419,-2109.5561 3917.4428,-2116.2334\"/>\n<text text-anchor=\"middle\" x=\"3695.6476\" y=\"-2264.8288\" font-family=\"Times,serif\" font-size=\"14.00\" fill=\"#000000\">[&#39;O&#39;, &#39;L&#39;, &#39;V&#39;, &#39;F&#39;, &#39;W&#39;, &#39;J&#39;, &#39;G&#39;, &#39;Q&#39;, &#39;P&#39;, &#39;D&#39;, &#39;M&#39;, &#39;H&#39;, &#39;N&#39;, &#39;U&#39;, &#39;X&#39;, &#39;I&#39;, &#39;A&#39;, &#39;S&#39;, &#39;B&#39;, &#39;T&#39;, &#39;Z&#39;, &#39;C&#39;, &#39;E&#39;, &#39;R&#39;, &#39;Y&#39;, &#39;K&#39;]</text>\n</g>\n<!-- [32, 34, 36, 38, 40, 9, 42, 11, 44, 19, 28, 30] -->\n<g id=\"node5\" class=\"node\">\n<title>[32, 34, 36, 38, 40, 9, 42, 11, 44, 19, 28, 30]</title>\n<ellipse fill=\"none\" stroke=\"#000000\" cx=\"2029.6476\" cy=\"-2056.4954\" rx=\"186.5669\" ry=\"186.5669\"/>\n<text text-anchor=\"middle\" x=\"2029.6476\" y=\"-2052.7954\" font-family=\"Times,serif\" font-size=\"14.00\" fill=\"#000000\">q[32, 34, 36, 38, 40, 9, 42, 11, 44, 19, 28, 30]</text>\n</g>\n<!-- [2, 8, 10, 16, 18, 24, 26]&#45;&gt;[32, 34, 36, 38, 40, 9, 42, 11, 44, 19, 28, 30] -->\n<g id=\"edge5\" class=\"edge\">\n<title>[2, 8, 10, 16, 18, 24, 26]&#45;&gt;[32, 34, 36, 38, 40, 9, 42, 11, 44, 19, 28, 30]</title>\n<path fill=\"none\" stroke=\"#000000\" d=\"M2890.4827,-2366.1136C2729.3546,-2308.1604 2415.6449,-2195.3278 2214.716,-2123.0593\"/>\n<polygon fill=\"#000000\" stroke=\"#000000\" points=\"2215.8287,-2119.74 2205.2342,-2119.649 2213.4595,-2126.3269 2215.8287,-2119.74\"/>\n<text text-anchor=\"middle\" x=\"2869.1476\" y=\"-2264.8288\" font-family=\"Times,serif\" font-size=\"14.00\" fill=\"#000000\">[&#39;x&#39;, &#39;q&#39;, &#39;z&#39;, &#39;c&#39;, &#39;g&#39;, &#39;e&#39;, &#39;n&#39;, &#39;v&#39;, &#39;m&#39;, &#39;k&#39;, &#39;d&#39;, &#39;r&#39;, &#39;i&#39;, &#39;j&#39;, &#39;a&#39;, &#39;l&#39;, &#39;u&#39;, &#39;b&#39;, &#39;w&#39;, &#39;p&#39;, &#39;o&#39;, &#39;y&#39;, &#39;s&#39;, &#39;h&#39;, &#39;f&#39;, &#39;t&#39;]</text>\n</g>\n<!-- [32, 34, 36, 38, 40, 42, 44, 25, 28, 30] -->\n<g id=\"node6\" class=\"node\">\n<title>[32, 34, 36, 38, 40, 42, 44, 25, 28, 30]</title>\n<ellipse fill=\"none\" stroke=\"#000000\" cx=\"4483.6476\" cy=\"-2056.4954\" rx=\"163.2712\" ry=\"163.2712\"/>\n<text text-anchor=\"middle\" x=\"4483.6476\" y=\"-2052.7954\" font-family=\"Times,serif\" font-size=\"14.00\" fill=\"#000000\">q[32, 34, 36, 38, 40, 42, 44, 25, 28, 30]</text>\n</g>\n<!-- [2, 8, 10, 16, 18, 24, 26]&#45;&gt;[32, 34, 36, 38, 40, 42, 44, 25, 28, 30] -->\n<g id=\"edge6\" class=\"edge\">\n<title>[2, 8, 10, 16, 18, 24, 26]&#45;&gt;[32, 34, 36, 38, 40, 42, 44, 25, 28, 30]</title>\n<path fill=\"none\" stroke=\"#000000\" d=\"M3103.1814,-2398.1842C3374.8076,-2384.3425 4072.5418,-2340.1146 4281.6476,-2243.0288 4312.3843,-2228.7581 4341.6079,-2208.0574 4367.7939,-2185.5904\"/>\n<polygon fill=\"#000000\" stroke=\"#000000\" points=\"4370.2333,-2188.1068 4375.4583,-2178.8899 4365.626,-2182.8367 4370.2333,-2188.1068\"/>\n<text text-anchor=\"middle\" x=\"4325.1476\" y=\"-2264.8288\" font-family=\"Times,serif\" font-size=\"14.00\" fill=\"#000000\">[&#39;7&#39;, &#39;8&#39;, &#39;6&#39;, &#39;4&#39;, &#39;0&#39;, &#39;2&#39;, &#39;3&#39;, &#39;1&#39;, &#39;9&#39;, &#39;5&#39;]</text>\n</g>\n<!-- [32, 34, 3, 36, 38, 40, 42, 11, 44, 19, 28, 30] -->\n<g id=\"node7\" class=\"node\">\n<title>[32, 34, 3, 36, 38, 40, 42, 11, 44, 19, 28, 30]</title>\n<ellipse fill=\"none\" stroke=\"#000000\" cx=\"1378.6476\" cy=\"-2056.4954\" rx=\"186.5669\" ry=\"186.5669\"/>\n<text text-anchor=\"middle\" x=\"1378.6476\" y=\"-2052.7954\" font-family=\"Times,serif\" font-size=\"14.00\" fill=\"#000000\">q[32, 34, 3, 36, 38, 40, 42, 11, 44, 19, 28, 30]</text>\n</g>\n<!-- [2, 8, 10, 16, 18, 24, 26]&#45;&gt;[32, 34, 3, 36, 38, 40, 42, 11, 44, 19, 28, 30] -->\n<g id=\"edge7\" class=\"edge\">\n<title>[2, 8, 10, 16, 18, 24, 26]&#45;&gt;[32, 34, 3, 36, 38, 40, 42, 11, 44, 19, 28, 30]</title>\n<path fill=\"none\" stroke=\"#000000\" d=\"M2884.2848,-2397.3049C2676.4103,-2384.0565 2211.2831,-2344.7614 1833.6476,-2243.0288 1739.4922,-2217.664 1638.7807,-2177.801 1556.1062,-2141.4262\"/>\n<polygon fill=\"#000000\" stroke=\"#000000\" points=\"1557.4472,-2138.1923 1546.8858,-2137.351 1554.6174,-2144.5948 1557.4472,-2138.1923\"/>\n<text text-anchor=\"middle\" x=\"1965.6476\" y=\"-2264.8288\" font-family=\"Times,serif\" font-size=\"14.00\" fill=\"#000000\">[&#39; &#39;]</text>\n</g>\n<!-- [32, 34, 36, 38, 39, 40, 44, 28, 29, 30, 31] -->\n<g id=\"node8\" class=\"node\">\n<title>[32, 34, 36, 38, 39, 40, 44, 28, 29, 30, 31]</title>\n<ellipse fill=\"none\" stroke=\"#000000\" cx=\"1889.6476\" cy=\"-1641.5277\" rx=\"177.3685\" ry=\"177.3685\"/>\n<text text-anchor=\"middle\" x=\"1889.6476\" y=\"-1637.8277\" font-family=\"Times,serif\" font-size=\"14.00\" fill=\"#000000\">q[32, 34, 36, 38, 39, 40, 44, 28, 29, 30, 31]</text>\n</g>\n<!-- [32, 34, 36, 38, 40, 42, 44, 17, 19, 28, 30]&#45;&gt;[32, 34, 36, 38, 39, 40, 44, 28, 29, 30, 31] -->\n<g id=\"edge9\" class=\"edge\">\n<title>[32, 34, 36, 38, 40, 42, 44, 17, 19, 28, 30]&#45;&gt;[32, 34, 36, 38, 39, 40, 44, 28, 29, 30, 31]</title>\n<path fill=\"none\" stroke=\"#000000\" d=\"M3919.4791,-2034.4044C3663.115,-2001.1538 3172.7435,-1933.3882 2759.6476,-1851.9619 2519.8581,-1804.6965 2246.3304,-1736.0808 2071.0258,-1690.1883\"/>\n<polygon fill=\"#000000\" stroke=\"#000000\" points=\"2071.75,-1686.76 2061.1893,-1687.6101 2069.9752,-1693.5313 2071.75,-1686.76\"/>\n<text text-anchor=\"middle\" x=\"3042.6476\" y=\"-1840.7619\" font-family=\"Times,serif\" font-size=\"14.00\" fill=\"#000000\">[&#39;O&#39;, &#39;L&#39;, &#39;V&#39;, &#39;F&#39;, &#39;W&#39;, &#39;J&#39;, &#39;G&#39;, &#39;Q&#39;, &#39;P&#39;, &#39;D&#39;, &#39;M&#39;, &#39;H&#39;, &#39;N&#39;, &#39;U&#39;, &#39;X&#39;, &#39;I&#39;, &#39;A&#39;, &#39;S&#39;, &#39;B&#39;, &#39;T&#39;, &#39;Z&#39;, &#39;C&#39;, &#39;E&#39;, &#39;R&#39;, &#39;Y&#39;, &#39;K&#39;]</text>\n</g>\n<!-- [32, 33, 34, 36, 37, 38, 40, 44, 28, 29, 30, 31] -->\n<g id=\"node9\" class=\"node\">\n<title>[32, 33, 34, 36, 37, 38, 40, 44, 28, 29, 30, 31]</title>\n<ellipse fill=\"none\" stroke=\"#000000\" cx=\"3116.6476\" cy=\"-1220.7105\" rx=\"192.2659\" ry=\"192.2659\"/>\n<text text-anchor=\"middle\" x=\"3116.6476\" y=\"-1217.0105\" font-family=\"Times,serif\" font-size=\"14.00\" fill=\"#000000\">q[32, 33, 34, 36, 37, 38, 40, 44, 28, 29, 30, 31]</text>\n</g>\n<!-- [32, 34, 36, 38, 40, 42, 44, 17, 19, 28, 30]&#45;&gt;[32, 33, 34, 36, 37, 38, 40, 44, 28, 29, 30, 31] -->\n<g id=\"edge10\" class=\"edge\">\n<title>[32, 34, 36, 38, 40, 42, 44, 17, 19, 28, 30]&#45;&gt;[32, 33, 34, 36, 37, 38, 40, 44, 28, 29, 30, 31]</title>\n<path fill=\"none\" stroke=\"#000000\" d=\"M3999.577,-1907.1079C3975.144,-1879.6043 3946.6134,-1854.1776 3914.6476,-1836.9619 3881.59,-1819.1582 3773.4901,-1845.2157 3746.6476,-1818.9619 3632.9505,-1707.758 3797.2019,-1590.4684 3700.6476,-1464.0934 3608.9268,-1344.0446 3447.1857,-1282.7383 3317.1405,-1251.7065\"/>\n<polygon fill=\"#000000\" stroke=\"#000000\" points=\"3317.5776,-1248.2143 3307.043,-1249.3423 3315.9818,-1255.03 3317.5776,-1248.2143\"/>\n<text text-anchor=\"middle\" x=\"3990.1476\" y=\"-1637.8277\" font-family=\"Times,serif\" font-size=\"14.00\" fill=\"#000000\">[&#39;x&#39;, &#39;q&#39;, &#39;z&#39;, &#39;c&#39;, &#39;g&#39;, &#39;e&#39;, &#39;n&#39;, &#39;v&#39;, &#39;m&#39;, &#39;k&#39;, &#39;d&#39;, &#39;r&#39;, &#39;i&#39;, &#39;j&#39;, &#39;a&#39;, &#39;l&#39;, &#39;u&#39;, &#39;b&#39;, &#39;w&#39;, &#39;p&#39;, &#39;o&#39;, &#39;y&#39;, &#39;s&#39;, &#39;h&#39;, &#39;f&#39;, &#39;t&#39;]</text>\n</g>\n<!-- [32, 34, 36, 38, 40, 41, 44, 28, 29, 30] -->\n<g id=\"node10\" class=\"node\">\n<title>[32, 34, 36, 38, 40, 41, 44, 28, 29, 30]</title>\n<ellipse fill=\"none\" stroke=\"#000000\" cx=\"2511.6476\" cy=\"-814.192\" rx=\"163.2712\" ry=\"163.2712\"/>\n<text text-anchor=\"middle\" x=\"2511.6476\" y=\"-810.492\" font-family=\"Times,serif\" font-size=\"14.00\" fill=\"#000000\">q[32, 34, 36, 38, 40, 41, 44, 28, 29, 30]</text>\n</g>\n<!-- [32, 34, 36, 38, 40, 42, 44, 17, 19, 28, 30]&#45;&gt;[32, 34, 36, 38, 40, 41, 44, 28, 29, 30] -->\n<g id=\"edge11\" class=\"edge\">\n<title>[32, 34, 36, 38, 40, 42, 44, 17, 19, 28, 30]&#45;&gt;[32, 34, 36, 38, 40, 41, 44, 28, 29, 30]</title>\n<path fill=\"none\" stroke=\"#000000\" d=\"M4196.3036,-1910.3554C4211.7211,-1881.2526 4225.2734,-1850.0464 4233.6476,-1818.9619 4274.6749,-1666.6722 4291.8676,-1610.6739 4233.6476,-1464.0934 4135.3737,-1216.669 4063.863,-1140.9852 3822.6476,-1028.3276 3649.1867,-947.314 3150.1574,-1015.954 2962.6476,-977.3276 2862.8199,-956.7634 2755.3422,-918.5653 2670.3555,-884.2993\"/>\n<polygon fill=\"#000000\" stroke=\"#000000\" points=\"2671.4766,-880.9771 2660.8942,-880.4633 2668.8464,-887.4642 2671.4766,-880.9771\"/>\n<text text-anchor=\"middle\" x=\"4322.1476\" y=\"-1434.8934\" font-family=\"Times,serif\" font-size=\"14.00\" fill=\"#000000\">[&#39;7&#39;, &#39;8&#39;, &#39;6&#39;, &#39;4&#39;, &#39;0&#39;, &#39;2&#39;, &#39;3&#39;, &#39;1&#39;, &#39;9&#39;, &#39;5&#39;]</text>\n</g>\n<!-- [32, 33, 34, 35, 36, 38, 40, 44, 28, 29, 30, 31] -->\n<g id=\"node11\" class=\"node\">\n<title>[32, 33, 34, 35, 36, 38, 40, 44, 28, 29, 30, 31]</title>\n<ellipse fill=\"none\" stroke=\"#000000\" cx=\"2483.6476\" cy=\"-407.6736\" rx=\"192.2659\" ry=\"192.2659\"/>\n<text text-anchor=\"middle\" x=\"2483.6476\" y=\"-403.9736\" font-family=\"Times,serif\" font-size=\"14.00\" fill=\"#000000\">q[32, 33, 34, 35, 36, 38, 40, 44, 28, 29, 30, 31]</text>\n</g>\n<!-- [32, 34, 36, 38, 40, 42, 44, 17, 19, 28, 30]&#45;&gt;[32, 33, 34, 35, 36, 38, 40, 44, 28, 29, 30, 31] -->\n<g id=\"edge12\" class=\"edge\">\n<title>[32, 34, 36, 38, 40, 42, 44, 17, 19, 28, 30]&#45;&gt;[32, 33, 34, 35, 36, 38, 40, 44, 28, 29, 30, 31]</title>\n<path fill=\"none\" stroke=\"#000000\" d=\"M4210.6362,-1921.2754C4232.3275,-1889.4811 4252.3526,-1854.461 4265.6476,-1818.9619 4293.4326,-1744.7735 4244.9761,-1521.4254 4299.6476,-1464.0934 4339.301,-1422.5104 4443.4314,-1485.3954 4424.6476,-1431.0934 4280.5057,-1014.3942 4189.1518,-878.8848 3811.6476,-651.0565 3625.004,-538.4148 3008.4716,-460.9702 2685.3064,-427.0435\"/>\n<polygon fill=\"#000000\" stroke=\"#000000\" points=\"2685.6674,-423.5622 2675.3576,-426.003 2684.9393,-430.5243 2685.6674,-423.5622\"/>\n<text text-anchor=\"middle\" x=\"4425.6476\" y=\"-1217.0105\" font-family=\"Times,serif\" font-size=\"14.00\" fill=\"#000000\">[&#39; &#39;]</text>\n</g>\n<!-- [45] -->\n<g id=\"node12\" class=\"node\">\n<title>[45]</title>\n<ellipse fill=\"none\" stroke=\"#000000\" cx=\"2230.6476\" cy=\"-129.0934\" rx=\"31.373\" ry=\"31.373\"/>\n<ellipse fill=\"none\" stroke=\"#000000\" cx=\"2230.6476\" cy=\"-129.0934\" rx=\"35.3956\" ry=\"35.3956\"/>\n<text text-anchor=\"middle\" x=\"2230.6476\" y=\"-125.3934\" font-family=\"Times,serif\" font-size=\"14.00\" fill=\"#000000\">q[45]</text>\n</g>\n<!-- [32, 34, 36, 38, 40, 42, 44, 17, 19, 28, 30]&#45;&gt;[45] -->\n<g id=\"edge13\" class=\"edge\">\n<title>[32, 34, 36, 38, 40, 42, 44, 17, 19, 28, 30]&#45;&gt;[45]</title>\n<path fill=\"none\" stroke=\"#000000\" d=\"M4218.5959,-1928.1847C4246.9908,-1905.2115 4278.6308,-1884.1144 4311.6476,-1869.9619 4418.5701,-1824.1304 4754.4987,-1905.1343 4832.6476,-1818.9619 4859.1358,-1789.7543 4858.7297,-1493.6643 4832.6476,-1464.0934 4790.2752,-1416.053 4732.933,-1493.3129 4689.6476,-1446.0934 4556.4259,-1300.7634 4672.6476,-1199.9794 4672.6476,-1002.8276 4672.6476,-1002.8276 4672.6476,-1002.8276 4672.6476,-407.6736 4672.6476,-156.7734 2611.4209,-131.7525 2276.4079,-129.3428\"/>\n<polygon fill=\"#000000\" stroke=\"#000000\" points=\"2276.1337,-125.8409 2266.1098,-129.272 2276.0855,-132.8408 2276.1337,-125.8409\"/>\n<text text-anchor=\"middle\" x=\"4682.6476\" y=\"-999.1276\" font-family=\"Times,serif\" font-size=\"14.00\" fill=\"#000000\">[&#39;&quot;&#39;]</text>\n</g>\n<!-- [32, 34, 36, 38, 40, 9, 42, 11, 44, 19, 28, 30]&#45;&gt;[32, 34, 36, 38, 39, 40, 44, 28, 29, 30, 31] -->\n<g id=\"edge14\" class=\"edge\">\n<title>[32, 34, 36, 38, 40, 9, 42, 11, 44, 19, 28, 30]&#45;&gt;[32, 34, 36, 38, 39, 40, 44, 28, 29, 30, 31]</title>\n<path fill=\"none\" stroke=\"#000000\" d=\"M2032.9258,-1869.87C2030.8074,-1858.6182 2028.088,-1847.569 2024.6476,-1836.9619 2019.4629,-1820.9766 2012.5079,-1805.1282 2004.4776,-1789.7782\"/>\n<polygon fill=\"#000000\" stroke=\"#000000\" points=\"2007.4612,-1787.9372 1999.6304,-1780.8007 2001.3016,-1791.2629 2007.4612,-1787.9372\"/>\n<text text-anchor=\"middle\" x=\"2310.6476\" y=\"-1840.7619\" font-family=\"Times,serif\" font-size=\"14.00\" fill=\"#000000\">[&#39;O&#39;, &#39;L&#39;, &#39;V&#39;, &#39;F&#39;, &#39;W&#39;, &#39;J&#39;, &#39;G&#39;, &#39;Q&#39;, &#39;P&#39;, &#39;D&#39;, &#39;M&#39;, &#39;H&#39;, &#39;N&#39;, &#39;U&#39;, &#39;X&#39;, &#39;I&#39;, &#39;A&#39;, &#39;S&#39;, &#39;B&#39;, &#39;T&#39;, &#39;Z&#39;, &#39;C&#39;, &#39;E&#39;, &#39;R&#39;, &#39;Y&#39;, &#39;K&#39;]</text>\n</g>\n<!-- [32, 34, 36, 38, 40, 9, 42, 11, 44, 19, 28, 30]&#45;&gt;[32, 33, 34, 36, 37, 38, 40, 44, 28, 29, 30, 31] -->\n<g id=\"edge15\" class=\"edge\">\n<title>[32, 34, 36, 38, 40, 9, 42, 11, 44, 19, 28, 30]&#45;&gt;[32, 33, 34, 36, 37, 38, 40, 44, 28, 29, 30, 31]</title>\n<path fill=\"none\" stroke=\"#000000\" d=\"M2209.1242,-2005.5654C2344.9084,-1966.1228 2535.5465,-1908.7943 2700.6476,-1851.9619 2718.2076,-1845.9173 2721.462,-1840.7265 2739.6476,-1836.9619 2763.4959,-1832.0252 3160.7841,-1836.5327 3177.6476,-1818.9619 3231.5857,-1762.7617 3201.9158,-1568.8076 3167.7819,-1416.7899\"/>\n<polygon fill=\"#000000\" stroke=\"#000000\" points=\"3171.1507,-1415.819 3165.528,-1406.8394 3164.3237,-1417.3655 3171.1507,-1415.819\"/>\n<text text-anchor=\"middle\" x=\"3450.1476\" y=\"-1637.8277\" font-family=\"Times,serif\" font-size=\"14.00\" fill=\"#000000\">[&#39;x&#39;, &#39;q&#39;, &#39;z&#39;, &#39;c&#39;, &#39;g&#39;, &#39;e&#39;, &#39;n&#39;, &#39;v&#39;, &#39;m&#39;, &#39;k&#39;, &#39;d&#39;, &#39;r&#39;, &#39;i&#39;, &#39;j&#39;, &#39;a&#39;, &#39;l&#39;, &#39;u&#39;, &#39;b&#39;, &#39;w&#39;, &#39;p&#39;, &#39;o&#39;, &#39;y&#39;, &#39;s&#39;, &#39;h&#39;, &#39;f&#39;, &#39;t&#39;]</text>\n</g>\n<!-- [32, 34, 36, 38, 40, 9, 42, 11, 44, 19, 28, 30]&#45;&gt;[32, 34, 36, 38, 40, 41, 44, 28, 29, 30] -->\n<g id=\"edge16\" class=\"edge\">\n<title>[32, 34, 36, 38, 40, 9, 42, 11, 44, 19, 28, 30]&#45;&gt;[32, 34, 36, 38, 40, 41, 44, 28, 29, 30]</title>\n<path fill=\"none\" stroke=\"#000000\" d=\"M2023.8811,-1869.8841C2017.8006,-1857.6447 2009.871,-1846.4452 1999.6476,-1836.9619 1951.3338,-1792.1457 1748.8091,-1866.9532 1703.6476,-1818.9619 1585.4904,-1693.4012 1650.34,-1592.6162 1710.6476,-1431.0934 1782.218,-1239.4056 1763.1297,-1141.4212 1933.6476,-1028.3276 1965.1222,-1007.4525 2066.5549,-1021.4512 2102.6476,-1010.3276 2116.1391,-1006.1696 2118.0467,-1001.6936 2130.6476,-995.3276 2203.5334,-958.5055 2285.2007,-919.3993 2354.1753,-886.9829\"/>\n<polygon fill=\"#000000\" stroke=\"#000000\" points=\"2355.8226,-890.0761 2363.3871,-882.6579 2352.8476,-883.7397 2355.8226,-890.0761\"/>\n<text text-anchor=\"middle\" x=\"1809.1476\" y=\"-1434.8934\" font-family=\"Times,serif\" font-size=\"14.00\" fill=\"#000000\">[&#39;7&#39;, &#39;8&#39;, &#39;6&#39;, &#39;4&#39;, &#39;0&#39;, &#39;2&#39;, &#39;3&#39;, &#39;1&#39;, &#39;9&#39;, &#39;5&#39;]</text>\n</g>\n<!-- [32, 34, 36, 38, 40, 9, 42, 11, 44, 19, 28, 30]&#45;&gt;[32, 33, 34, 35, 36, 38, 40, 44, 28, 29, 30, 31] -->\n<g id=\"edge17\" class=\"edge\">\n<title>[32, 34, 36, 38, 40, 9, 42, 11, 44, 19, 28, 30]&#45;&gt;[32, 33, 34, 35, 36, 38, 40, 44, 28, 29, 30, 31]</title>\n<path fill=\"none\" stroke=\"#000000\" d=\"M2003.582,-1871.6974C1995.9746,-1858.5752 1986.4747,-1846.7054 1974.6476,-1836.9619 1916.251,-1788.8529 1695.6308,-1863.7469 1634.6476,-1818.9619 1346.7005,-1607.4989 1474.5373,-1385.2615 1489.6476,-1028.3276 1493.2064,-944.2638 1461.6179,-710.0125 1521.6476,-651.0565 1582.4263,-591.3651 2208.8647,-634.7973 2286.6476,-600.0565 2309.1899,-589.9883 2330.6543,-576.1528 2350.5585,-560.4798\"/>\n<polygon fill=\"#000000\" stroke=\"#000000\" points=\"2352.8207,-563.1517 2358.4013,-554.1457 2348.4225,-557.7059 2352.8207,-563.1517\"/>\n<text text-anchor=\"middle\" x=\"1498.6476\" y=\"-1217.0105\" font-family=\"Times,serif\" font-size=\"14.00\" fill=\"#000000\">[&#39; &#39;]</text>\n</g>\n<!-- [32, 34, 36, 38, 40, 9, 42, 11, 44, 19, 28, 30]&#45;&gt;[45] -->\n<g id=\"edge18\" class=\"edge\">\n<title>[32, 34, 36, 38, 40, 9, 42, 11, 44, 19, 28, 30]&#45;&gt;[45]</title>\n<path fill=\"none\" stroke=\"#000000\" d=\"M1861.4625,-1975.442C1777.1404,-1937.9535 1672.394,-1896.0492 1574.6476,-1869.9619 1545.4057,-1862.1576 1461.5304,-1872.87 1439.6476,-1851.9619 1246.3582,-1667.2822 1332.1269,-915.8841 1368.6476,-651.0565 1395.7015,-454.8779 1314.8824,-348.2489 1461.6476,-215.2907 1515.4812,-166.5215 2027.2375,-138.6327 2184.7438,-131.1525\"/>\n<polygon fill=\"#000000\" stroke=\"#000000\" points=\"2185.2053,-134.6348 2195.03,-130.6692 2184.8767,-127.6425 2185.2053,-134.6348\"/>\n<text text-anchor=\"middle\" x=\"1341.6476\" y=\"-999.1276\" font-family=\"Times,serif\" font-size=\"14.00\" fill=\"#000000\">[&#39;&quot;&#39;]</text>\n</g>\n<!-- [32, 34, 36, 38, 40, 42, 44, 25, 28, 30]&#45;&gt;[32, 34, 36, 38, 39, 40, 44, 28, 29, 30, 31] -->\n<g id=\"edge19\" class=\"edge\">\n<title>[32, 34, 36, 38, 40, 42, 44, 25, 28, 30]&#45;&gt;[32, 34, 36, 38, 39, 40, 44, 28, 29, 30, 31]</title>\n<path fill=\"none\" stroke=\"#000000\" d=\"M4377.24,-1932.5994C4348.9129,-1907.3934 4316.4191,-1884.246 4281.6476,-1869.9619 4227.1444,-1847.5721 3810.5353,-1853.9987 3751.6476,-1851.9619 3562.3102,-1845.4134 3515.006,-1842.8739 3325.6476,-1836.9619 3178.7759,-1832.3765 2810.4234,-1837.4492 2664.6476,-1818.9619 2458.0953,-1792.767 2225.8849,-1735.8386 2069.9656,-1693.4893\"/>\n<polygon fill=\"#000000\" stroke=\"#000000\" points=\"2070.8417,-1690.1004 2060.2733,-1690.8488 2069.0017,-1696.8543 2070.8417,-1690.1004\"/>\n<text text-anchor=\"middle\" x=\"4034.6476\" y=\"-1840.7619\" font-family=\"Times,serif\" font-size=\"14.00\" fill=\"#000000\">[&#39;O&#39;, &#39;L&#39;, &#39;V&#39;, &#39;F&#39;, &#39;W&#39;, &#39;J&#39;, &#39;G&#39;, &#39;Q&#39;, &#39;P&#39;, &#39;D&#39;, &#39;M&#39;, &#39;H&#39;, &#39;N&#39;, &#39;U&#39;, &#39;X&#39;, &#39;I&#39;, &#39;A&#39;, &#39;S&#39;, &#39;B&#39;, &#39;T&#39;, &#39;Z&#39;, &#39;C&#39;, &#39;E&#39;, &#39;R&#39;, &#39;Y&#39;, &#39;K&#39;]</text>\n</g>\n<!-- [32, 34, 36, 38, 40, 42, 44, 25, 28, 30]&#45;&gt;[32, 33, 34, 36, 37, 38, 40, 44, 28, 29, 30, 31] -->\n<g id=\"edge20\" class=\"edge\">\n<title>[32, 34, 36, 38, 40, 42, 44, 25, 28, 30]&#45;&gt;[32, 33, 34, 36, 37, 38, 40, 44, 28, 29, 30, 31]</title>\n<path fill=\"none\" stroke=\"#000000\" d=\"M4420.115,-1906.1023C4407.9667,-1877.1989 4395.3817,-1847.1553 4383.6476,-1818.9619 4318.1158,-1661.5087 4368.4022,-1573.5886 4237.6476,-1464.0934 4100.237,-1349.0244 3601.9019,-1275.4504 3318.0929,-1241.9046\"/>\n<polygon fill=\"#000000\" stroke=\"#000000\" points=\"3318.4288,-1238.4201 3308.0884,-1240.7282 3317.6112,-1245.3722 3318.4288,-1238.4201\"/>\n<text text-anchor=\"middle\" x=\"4627.1476\" y=\"-1637.8277\" font-family=\"Times,serif\" font-size=\"14.00\" fill=\"#000000\">[&#39;x&#39;, &#39;q&#39;, &#39;z&#39;, &#39;c&#39;, &#39;g&#39;, &#39;e&#39;, &#39;n&#39;, &#39;v&#39;, &#39;m&#39;, &#39;k&#39;, &#39;d&#39;, &#39;r&#39;, &#39;i&#39;, &#39;j&#39;, &#39;a&#39;, &#39;l&#39;, &#39;u&#39;, &#39;b&#39;, &#39;w&#39;, &#39;p&#39;, &#39;o&#39;, &#39;y&#39;, &#39;s&#39;, &#39;h&#39;, &#39;f&#39;, &#39;t&#39;]</text>\n</g>\n<!-- [32, 34, 36, 38, 40, 42, 44, 25, 28, 30]&#45;&gt;[32, 34, 36, 38, 40, 41, 44, 28, 29, 30] -->\n<g id=\"edge21\" class=\"edge\">\n<title>[32, 34, 36, 38, 40, 42, 44, 25, 28, 30]&#45;&gt;[32, 34, 36, 38, 40, 41, 44, 28, 29, 30]</title>\n<path fill=\"none\" stroke=\"#000000\" d=\"M4641.3772,-2013.4677C4722.0442,-1982.5862 4813.0437,-1931.947 4860.6476,-1851.9619 4904.7297,-1777.8944 4917.8238,-1528.5924 4860.6476,-1464.0934 4838.5237,-1439.1359 4739.2889,-1464.7564 4711.6476,-1446.0934 4535.9858,-1327.4889 4661.6761,-1140.1929 4481.6476,-1028.3276 4338.2106,-939.1992 3128.6352,-1008.411 2962.6476,-977.3276 2862.3666,-958.5486 2754.7604,-920.3727 2669.8152,-885.6704\"/>\n<polygon fill=\"#000000\" stroke=\"#000000\" points=\"2670.939,-882.3482 2660.3592,-881.7835 2668.2777,-888.8226 2670.939,-882.3482\"/>\n<text text-anchor=\"middle\" x=\"4810.1476\" y=\"-1434.8934\" font-family=\"Times,serif\" font-size=\"14.00\" fill=\"#000000\">[&#39;7&#39;, &#39;8&#39;, &#39;6&#39;, &#39;4&#39;, &#39;0&#39;, &#39;2&#39;, &#39;3&#39;, &#39;1&#39;, &#39;9&#39;, &#39;5&#39;]</text>\n</g>\n<!-- [32, 34, 36, 38, 40, 42, 44, 25, 28, 30]&#45;&gt;[32, 33, 34, 35, 36, 38, 40, 44, 28, 29, 30, 31] -->\n<g id=\"edge22\" class=\"edge\">\n<title>[32, 34, 36, 38, 40, 42, 44, 25, 28, 30]&#45;&gt;[32, 33, 34, 35, 36, 38, 40, 44, 28, 29, 30, 31]</title>\n<path fill=\"none\" stroke=\"#000000\" d=\"M4643.4678,-2022.9314C4746.2701,-1990.9107 4865.695,-1930.3691 4893.6476,-1818.9619 4935.6311,-1651.6336 4947.3713,-1599.2061 4908.6476,-1431.0934 4860.3029,-1221.2122 4847.4077,-1149.1416 4696.6476,-995.3276 4461.4712,-755.3872 4343.1131,-755.0812 4023.6476,-651.0565 3559.3663,-499.8768 2984.7465,-440.9076 2685.8126,-419.262\"/>\n<polygon fill=\"#000000\" stroke=\"#000000\" points=\"2685.9588,-415.7636 2675.7339,-418.5388 2685.4578,-422.7456 2685.9588,-415.7636\"/>\n<text text-anchor=\"middle\" x=\"4912.6476\" y=\"-1217.0105\" font-family=\"Times,serif\" font-size=\"14.00\" fill=\"#000000\">[&#39; &#39;]</text>\n</g>\n<!-- [32, 34, 36, 38, 40, 42, 44, 25, 28, 30]&#45;&gt;[45] -->\n<g id=\"edge23\" class=\"edge\">\n<title>[32, 34, 36, 38, 40, 42, 44, 25, 28, 30]&#45;&gt;[45]</title>\n<path fill=\"none\" stroke=\"#000000\" d=\"M4636.749,-1998.9406C4719.0898,-1963.7349 4819.6441,-1913.6001 4898.6476,-1851.9619 4975.5203,-1791.9863 4960.6476,-1739.0289 4960.6476,-1641.5277 4960.6476,-1641.5277 4960.6476,-1641.5277 4960.6476,-407.6736 4960.6476,-258.8761 4827.6802,-262.7301 4686.6476,-215.2907 4568.006,-175.3829 2602.4436,-136.1968 2276.3231,-129.9548\"/>\n<polygon fill=\"#000000\" stroke=\"#000000\" points=\"2275.9155,-126.4465 2265.8505,-129.7549 2275.7818,-133.4452 2275.9155,-126.4465\"/>\n<text text-anchor=\"middle\" x=\"4970.6476\" y=\"-999.1276\" font-family=\"Times,serif\" font-size=\"14.00\" fill=\"#000000\">[&#39;&quot;&#39;]</text>\n</g>\n<!-- [32, 34, 3, 36, 38, 40, 42, 11, 44, 19, 28, 30]&#45;&gt;[32, 34, 36, 38, 39, 40, 44, 28, 29, 30, 31] -->\n<g id=\"edge24\" class=\"edge\">\n<title>[32, 34, 3, 36, 38, 40, 42, 11, 44, 19, 28, 30]&#45;&gt;[32, 34, 36, 38, 39, 40, 44, 28, 29, 30, 31]</title>\n<path fill=\"none\" stroke=\"#000000\" d=\"M1426.7056,-1876.2509C1434.6504,-1862.0711 1443.8946,-1848.717 1454.6476,-1836.9619 1474.2489,-1815.5342 1603.0296,-1758.8897 1715.4262,-1712.0674\"/>\n<polygon fill=\"#000000\" stroke=\"#000000\" points=\"1716.9743,-1715.2143 1724.8638,-1708.1428 1714.2864,-1708.7509 1716.9743,-1715.2143\"/>\n<text text-anchor=\"middle\" x=\"1737.6476\" y=\"-1840.7619\" font-family=\"Times,serif\" font-size=\"14.00\" fill=\"#000000\">[&#39;O&#39;, &#39;L&#39;, &#39;V&#39;, &#39;F&#39;, &#39;W&#39;, &#39;J&#39;, &#39;G&#39;, &#39;Q&#39;, &#39;P&#39;, &#39;D&#39;, &#39;M&#39;, &#39;H&#39;, &#39;N&#39;, &#39;U&#39;, &#39;X&#39;, &#39;I&#39;, &#39;A&#39;, &#39;S&#39;, &#39;B&#39;, &#39;T&#39;, &#39;Z&#39;, &#39;C&#39;, &#39;E&#39;, &#39;R&#39;, &#39;Y&#39;, &#39;K&#39;]</text>\n</g>\n<!-- [32, 34, 3, 36, 38, 40, 42, 11, 44, 19, 28, 30]&#45;&gt;[32, 33, 34, 36, 37, 38, 40, 44, 28, 29, 30, 31] -->\n<g id=\"edge25\" class=\"edge\">\n<title>[32, 34, 3, 36, 38, 40, 42, 11, 44, 19, 28, 30]&#45;&gt;[32, 33, 34, 36, 37, 38, 40, 44, 28, 29, 30, 31]</title>\n<path fill=\"none\" stroke=\"#000000\" d=\"M1544.6657,-1971.2891C1628.8994,-1932.543 1734.2076,-1890.7736 1833.6476,-1869.9619 1999.8711,-1835.1732 2433.3718,-1895.0193 2597.6476,-1851.9619 2627.8434,-1844.0475 2642.5718,-1845.0931 2659.6476,-1818.9619 2702.9106,-1752.7565 2629.8175,-1519.0951 2686.6476,-1464.0934 2719.8927,-1431.918 3069.627,-1478.4992 3102.6476,-1446.0934 3109.9161,-1438.9603 3115.8537,-1430.9541 3120.6556,-1422.3256\"/>\n<polygon fill=\"#000000\" stroke=\"#000000\" points=\"3123.917,-1423.6287 3125.2567,-1413.1189 3117.6554,-1420.4994 3123.917,-1423.6287\"/>\n<text text-anchor=\"middle\" x=\"2930.1476\" y=\"-1637.8277\" font-family=\"Times,serif\" font-size=\"14.00\" fill=\"#000000\">[&#39;x&#39;, &#39;q&#39;, &#39;z&#39;, &#39;c&#39;, &#39;g&#39;, &#39;e&#39;, &#39;n&#39;, &#39;v&#39;, &#39;m&#39;, &#39;k&#39;, &#39;d&#39;, &#39;r&#39;, &#39;i&#39;, &#39;j&#39;, &#39;a&#39;, &#39;l&#39;, &#39;u&#39;, &#39;b&#39;, &#39;w&#39;, &#39;p&#39;, &#39;o&#39;, &#39;y&#39;, &#39;s&#39;, &#39;h&#39;, &#39;f&#39;, &#39;t&#39;]</text>\n</g>\n<!-- [32, 34, 3, 36, 38, 40, 42, 11, 44, 19, 28, 30]&#45;&gt;[32, 34, 36, 38, 40, 41, 44, 28, 29, 30] -->\n<g id=\"edge26\" class=\"edge\">\n<title>[32, 34, 3, 36, 38, 40, 42, 11, 44, 19, 28, 30]&#45;&gt;[32, 34, 36, 38, 40, 41, 44, 28, 29, 30]</title>\n<path fill=\"none\" stroke=\"#000000\" d=\"M1401.6115,-1871.1838C1420.6646,-1744.7495 1452.9812,-1574.8079 1503.6476,-1431.0934 1570.7703,-1240.7012 1543.6642,-1137.2324 1713.6476,-1028.3276 1747.7439,-1006.4828 2038.6274,-1021.1523 2077.6476,-1010.3276 2091.2515,-1006.5536 2092.9708,-1001.541 2105.6476,-995.3276 2185.9019,-955.9919 2276.6227,-915.1806 2351.9207,-882.2769\"/>\n<polygon fill=\"#000000\" stroke=\"#000000\" points=\"2353.7297,-885.3063 2361.4955,-878.0991 2350.9303,-878.8904 2353.7297,-885.3063\"/>\n<text text-anchor=\"middle\" x=\"1602.1476\" y=\"-1434.8934\" font-family=\"Times,serif\" font-size=\"14.00\" fill=\"#000000\">[&#39;7&#39;, &#39;8&#39;, &#39;6&#39;, &#39;4&#39;, &#39;0&#39;, &#39;2&#39;, &#39;3&#39;, &#39;1&#39;, &#39;9&#39;, &#39;5&#39;]</text>\n</g>\n<!-- [32, 34, 3, 36, 38, 40, 42, 11, 44, 19, 28, 30]&#45;&gt;[32, 33, 34, 35, 36, 38, 40, 44, 28, 29, 30, 31] -->\n<g id=\"edge27\" class=\"edge\">\n<title>[32, 34, 3, 36, 38, 40, 42, 11, 44, 19, 28, 30]&#45;&gt;[32, 33, 34, 35, 36, 38, 40, 44, 28, 29, 30, 31]</title>\n<path fill=\"none\" stroke=\"#000000\" d=\"M1372.2229,-1869.9954C1361.5834,-1509.0616 1348.4056,-742.343 1424.6476,-651.0565 1486.1512,-577.4168 2198.2495,-637.3562 2286.6476,-600.0565 2309.5885,-590.3766 2331.3493,-576.6717 2351.4606,-560.9804\"/>\n<polygon fill=\"#000000\" stroke=\"#000000\" points=\"2353.7676,-563.6169 2359.3812,-554.6314 2349.3894,-558.155 2353.7676,-563.6169\"/>\n<text text-anchor=\"middle\" x=\"1379.6476\" y=\"-1217.0105\" font-family=\"Times,serif\" font-size=\"14.00\" fill=\"#000000\">[&#39; &#39;]</text>\n</g>\n<!-- [32, 34, 3, 36, 38, 40, 42, 11, 44, 19, 28, 30]&#45;&gt;[45] -->\n<g id=\"edge28\" class=\"edge\">\n<title>[32, 34, 3, 36, 38, 40, 42, 11, 44, 19, 28, 30]&#45;&gt;[45]</title>\n<path fill=\"none\" stroke=\"#000000\" d=\"M1329.1767,-1876.6248C1313.256,-1804.1698 1299.6476,-1719.4482 1299.6476,-1641.5277 1299.6476,-1641.5277 1299.6476,-1641.5277 1299.6476,-407.6736 1299.6476,-317.1332 1299.5949,-276.1306 1366.6476,-215.2907 1427.7467,-159.8528 2016.1652,-136.1961 2185.3567,-130.5057\"/>\n<polygon fill=\"#000000\" stroke=\"#000000\" points=\"2185.5454,-134.0015 2195.4239,-130.1718 2185.3133,-127.0054 2185.5454,-134.0015\"/>\n<text text-anchor=\"middle\" x=\"1309.6476\" y=\"-999.1276\" font-family=\"Times,serif\" font-size=\"14.00\" fill=\"#000000\">[&#39;&quot;&#39;]</text>\n</g>\n<!-- [32, 34, 36, 38, 39, 40, 44, 28, 29, 30, 31]&#45;&gt;[32, 34, 36, 38, 39, 40, 44, 28, 29, 30, 31] -->\n<g id=\"edge29\" class=\"edge\">\n<title>[32, 34, 36, 38, 39, 40, 44, 28, 29, 30, 31]&#45;&gt;[32, 34, 36, 38, 39, 40, 44, 28, 29, 30, 31]</title>\n<path fill=\"none\" stroke=\"#000000\" d=\"M2064.9318,-1669.3329C2077.4398,-1663.0266 2085.0819,-1653.7582 2085.0819,-1641.5277 2085.0819,-1632.5459 2080.9605,-1625.1616 2073.8171,-1619.3748\"/>\n<polygon fill=\"#000000\" stroke=\"#000000\" points=\"2075.2479,-1616.1369 2064.9318,-1613.7225 2071.4907,-1622.0431 2075.2479,-1616.1369\"/>\n<text text-anchor=\"middle\" x=\"2368.0819\" y=\"-1637.8277\" font-family=\"Times,serif\" font-size=\"14.00\" fill=\"#000000\">[&#39;O&#39;, &#39;L&#39;, &#39;V&#39;, &#39;F&#39;, &#39;W&#39;, &#39;J&#39;, &#39;G&#39;, &#39;Q&#39;, &#39;P&#39;, &#39;D&#39;, &#39;M&#39;, &#39;H&#39;, &#39;N&#39;, &#39;U&#39;, &#39;X&#39;, &#39;I&#39;, &#39;A&#39;, &#39;S&#39;, &#39;B&#39;, &#39;T&#39;, &#39;Z&#39;, &#39;C&#39;, &#39;E&#39;, &#39;R&#39;, &#39;Y&#39;, &#39;K&#39;]</text>\n</g>\n<!-- [32, 34, 36, 38, 39, 40, 44, 28, 29, 30, 31]&#45;&gt;[32, 33, 34, 36, 37, 38, 40, 44, 28, 29, 30, 31] -->\n<g id=\"edge30\" class=\"edge\">\n<title>[32, 34, 36, 38, 39, 40, 44, 28, 29, 30, 31]&#45;&gt;[32, 33, 34, 36, 37, 38, 40, 44, 28, 29, 30, 31]</title>\n<path fill=\"none\" stroke=\"#000000\" d=\"M2064.1838,-1608.6218C2209.6657,-1577.5567 2420.2205,-1524.0329 2592.6476,-1446.0934 2603.7684,-1441.0667 2604.17,-1435.241 2615.6476,-1431.0934 2680.8717,-1407.5243 2704.634,-1434.351 2770.6476,-1413.0934 2830.9156,-1393.6861 2892.6129,-1363.3341 2946.9067,-1332.4275\"/>\n<polygon fill=\"#000000\" stroke=\"#000000\" points=\"2948.974,-1335.2766 2955.904,-1327.2625 2945.4889,-1329.2058 2948.974,-1335.2766\"/>\n<text text-anchor=\"middle\" x=\"2859.1476\" y=\"-1434.8934\" font-family=\"Times,serif\" font-size=\"14.00\" fill=\"#000000\">[&#39;x&#39;, &#39;q&#39;, &#39;z&#39;, &#39;c&#39;, &#39;g&#39;, &#39;e&#39;, &#39;n&#39;, &#39;v&#39;, &#39;m&#39;, &#39;k&#39;, &#39;d&#39;, &#39;r&#39;, &#39;i&#39;, &#39;j&#39;, &#39;a&#39;, &#39;l&#39;, &#39;u&#39;, &#39;b&#39;, &#39;w&#39;, &#39;p&#39;, &#39;o&#39;, &#39;y&#39;, &#39;s&#39;, &#39;h&#39;, &#39;f&#39;, &#39;t&#39;]</text>\n</g>\n<!-- [32, 34, 36, 38, 39, 40, 44, 28, 29, 30, 31]&#45;&gt;[32, 34, 36, 38, 40, 41, 44, 28, 29, 30] -->\n<g id=\"edge31\" class=\"edge\">\n<title>[32, 34, 36, 38, 39, 40, 44, 28, 29, 30, 31]&#45;&gt;[32, 34, 36, 38, 40, 41, 44, 28, 29, 30]</title>\n<path fill=\"none\" stroke=\"#000000\" d=\"M1957.2517,-1477.2211C1971.0474,-1459.0341 1987.3879,-1442.8653 2006.6476,-1431.0934 2057.0179,-1400.3064 2496.6176,-1455.5379 2537.6476,-1413.0934 2656.5019,-1290.1419 2569.1787,-1196.4026 2537.6476,-1028.3276 2536.0649,-1019.8911 2532.6357,-1018.6778 2530.6476,-1010.3276 2528.837,-1002.7225 2527.1982,-994.9123 2525.715,-986.9942\"/>\n<polygon fill=\"#000000\" stroke=\"#000000\" points=\"2529.1189,-986.1448 2523.9183,-976.9142 2522.2275,-987.3733 2529.1189,-986.1448\"/>\n<text text-anchor=\"middle\" x=\"2696.1476\" y=\"-1217.0105\" font-family=\"Times,serif\" font-size=\"14.00\" fill=\"#000000\">[&#39;7&#39;, &#39;8&#39;, &#39;6&#39;, &#39;4&#39;, &#39;0&#39;, &#39;2&#39;, &#39;3&#39;, &#39;1&#39;, &#39;9&#39;, &#39;5&#39;]</text>\n</g>\n<!-- [32, 34, 36, 38, 39, 40, 44, 28, 29, 30, 31]&#45;&gt;[32, 33, 34, 35, 36, 38, 40, 44, 28, 29, 30, 31] -->\n<g id=\"edge32\" class=\"edge\">\n<title>[32, 34, 36, 38, 39, 40, 44, 28, 29, 30, 31]&#45;&gt;[32, 33, 34, 35, 36, 38, 40, 44, 28, 29, 30, 31]</title>\n<path fill=\"none\" stroke=\"#000000\" d=\"M1906.1321,-1464.7091C1906.6543,-1458.4276 1907.1613,-1452.2073 1907.6476,-1446.0934 1922.4046,-1260.5892 1807.8369,-1163.5829 1935.6476,-1028.3276 1957.9484,-1004.7278 2053.0081,-1027.3666 2080.6476,-1010.3276 2124.0555,-983.5678 2274.0021,-749.1833 2378.2066,-580.7656\"/>\n<polygon fill=\"#000000\" stroke=\"#000000\" points=\"2381.3182,-582.3883 2383.5997,-572.042 2375.3641,-578.7074 2381.3182,-582.3883\"/>\n<text text-anchor=\"middle\" x=\"2104.6476\" y=\"-999.1276\" font-family=\"Times,serif\" font-size=\"14.00\" fill=\"#000000\">[&#39; &#39;]</text>\n</g>\n<!-- [32, 34, 36, 38, 39, 40, 44, 28, 29, 30, 31]&#45;&gt;[45] -->\n<g id=\"edge33\" class=\"edge\">\n<title>[32, 34, 36, 38, 39, 40, 44, 28, 29, 30, 31]&#45;&gt;[45]</title>\n<path fill=\"none\" stroke=\"#000000\" d=\"M1716.2432,-1603.4633C1617.7261,-1571.339 1504.5486,-1513.8189 1455.6476,-1413.0934 1418.6654,-1336.918 1422.8629,-732.6116 1445.6476,-651.0565 1540.7841,-310.5273 2034.3904,-173.0201 2186.1846,-138.3866\"/>\n<polygon fill=\"#000000\" stroke=\"#000000\" points=\"2187.1072,-141.7666 2196.0976,-136.161 2185.5737,-134.9367 2187.1072,-141.7666\"/>\n<text text-anchor=\"middle\" x=\"1455.6476\" y=\"-810.492\" font-family=\"Times,serif\" font-size=\"14.00\" fill=\"#000000\">[&#39;&quot;&#39;]</text>\n</g>\n<!-- [32, 33, 34, 36, 37, 38, 40, 44, 28, 29, 30, 31]&#45;&gt;[32, 34, 36, 38, 39, 40, 44, 28, 29, 30, 31] -->\n<g id=\"edge34\" class=\"edge\">\n<title>[32, 33, 34, 36, 37, 38, 40, 44, 28, 29, 30, 31]&#45;&gt;[32, 34, 36, 38, 39, 40, 44, 28, 29, 30, 31]</title>\n<path fill=\"none\" stroke=\"#000000\" d=\"M2958.2105,-1329.8843C2901.576,-1363.0641 2835.639,-1395.4031 2770.6476,-1413.0934 2730.5393,-1424.0107 2058.8111,-1410.5979 2022.6476,-1431.0934 2010.3116,-1438.0849 1995.5615,-1455.3175 1980.4454,-1477.0819\"/>\n<polygon fill=\"#000000\" stroke=\"#000000\" points=\"1977.3607,-1475.3942 1974.6383,-1485.6333 1983.1517,-1479.3268 1977.3607,-1475.3942\"/>\n<text text-anchor=\"middle\" x=\"2305.6476\" y=\"-1434.8934\" font-family=\"Times,serif\" font-size=\"14.00\" fill=\"#000000\">[&#39;O&#39;, &#39;L&#39;, &#39;V&#39;, &#39;F&#39;, &#39;W&#39;, &#39;J&#39;, &#39;G&#39;, &#39;Q&#39;, &#39;P&#39;, &#39;D&#39;, &#39;M&#39;, &#39;H&#39;, &#39;N&#39;, &#39;U&#39;, &#39;X&#39;, &#39;I&#39;, &#39;A&#39;, &#39;S&#39;, &#39;B&#39;, &#39;T&#39;, &#39;Z&#39;, &#39;C&#39;, &#39;E&#39;, &#39;R&#39;, &#39;Y&#39;, &#39;K&#39;]</text>\n</g>\n<!-- [32, 33, 34, 36, 37, 38, 40, 44, 28, 29, 30, 31]&#45;&gt;[32, 33, 34, 36, 37, 38, 40, 44, 28, 29, 30, 31] -->\n<g id=\"edge35\" class=\"edge\">\n<title>[32, 33, 34, 36, 37, 38, 40, 44, 28, 29, 30, 31]&#45;&gt;[32, 33, 34, 36, 37, 38, 40, 44, 28, 29, 30, 31]</title>\n<path fill=\"none\" stroke=\"#000000\" d=\"M3306.9423,-1249.6116C3319.454,-1242.895 3327.0306,-1233.2613 3327.0306,-1220.7105 3327.0306,-1211.2974 3322.7687,-1203.5252 3315.3594,-1197.3938\"/>\n<polygon fill=\"#000000\" stroke=\"#000000\" points=\"3317.2101,-1194.4214 3306.9423,-1191.8094 3313.3401,-1200.2544 3317.2101,-1194.4214\"/>\n<text text-anchor=\"middle\" x=\"3570.5306\" y=\"-1217.0105\" font-family=\"Times,serif\" font-size=\"14.00\" fill=\"#000000\">[&#39;x&#39;, &#39;q&#39;, &#39;z&#39;, &#39;c&#39;, &#39;g&#39;, &#39;e&#39;, &#39;n&#39;, &#39;v&#39;, &#39;m&#39;, &#39;k&#39;, &#39;d&#39;, &#39;r&#39;, &#39;i&#39;, &#39;j&#39;, &#39;a&#39;, &#39;l&#39;, &#39;u&#39;, &#39;b&#39;, &#39;w&#39;, &#39;p&#39;, &#39;o&#39;, &#39;y&#39;, &#39;s&#39;, &#39;h&#39;, &#39;f&#39;, &#39;t&#39;]</text>\n</g>\n<!-- [32, 33, 34, 36, 37, 38, 40, 44, 28, 29, 30, 31]&#45;&gt;[32, 34, 36, 38, 40, 41, 44, 28, 29, 30] -->\n<g id=\"edge36\" class=\"edge\">\n<title>[32, 33, 34, 36, 37, 38, 40, 44, 28, 29, 30, 31]&#45;&gt;[32, 34, 36, 38, 40, 41, 44, 28, 29, 30]</title>\n<path fill=\"none\" stroke=\"#000000\" d=\"M2956.7497,-1113.0943C2900.2644,-1080.2512 2834.7915,-1047.7236 2770.6476,-1028.3276 2722.6349,-1013.8093 2582.7062,-1044.1308 2545.6476,-1010.3276 2537.8113,-1003.1796 2531.3652,-994.9264 2526.0887,-985.9358\"/>\n<polygon fill=\"#000000\" stroke=\"#000000\" points=\"2529.1729,-984.281 2521.381,-977.102 2522.9953,-987.5732 2529.1729,-984.281\"/>\n<text text-anchor=\"middle\" x=\"2644.1476\" y=\"-999.1276\" font-family=\"Times,serif\" font-size=\"14.00\" fill=\"#000000\">[&#39;7&#39;, &#39;8&#39;, &#39;6&#39;, &#39;4&#39;, &#39;0&#39;, &#39;2&#39;, &#39;3&#39;, &#39;1&#39;, &#39;9&#39;, &#39;5&#39;]</text>\n</g>\n<!-- [32, 33, 34, 36, 37, 38, 40, 44, 28, 29, 30, 31]&#45;&gt;[32, 33, 34, 35, 36, 38, 40, 44, 28, 29, 30, 31] -->\n<g id=\"edge37\" class=\"edge\">\n<title>[32, 33, 34, 36, 37, 38, 40, 44, 28, 29, 30, 31]&#45;&gt;[32, 33, 34, 35, 36, 38, 40, 44, 28, 29, 30, 31]</title>\n<path fill=\"none\" stroke=\"#000000\" d=\"M3248.6576,-1080.5984C3260.841,-1053.0608 3264.6954,-1023.8498 3252.6476,-995.3276 3146.0253,-742.9064 2863.1818,-573.6111 2671.9008,-483.9685\"/>\n<polygon fill=\"#000000\" stroke=\"#000000\" points=\"2673.1206,-480.6757 2662.5777,-479.6282 2670.1663,-487.0217 2673.1206,-480.6757\"/>\n<text text-anchor=\"middle\" x=\"3249.6476\" y=\"-810.492\" font-family=\"Times,serif\" font-size=\"14.00\" fill=\"#000000\">[&#39; &#39;]</text>\n</g>\n<!-- [32, 33, 34, 36, 37, 38, 40, 44, 28, 29, 30, 31]&#45;&gt;[45] -->\n<g id=\"edge38\" class=\"edge\">\n<title>[32, 33, 34, 36, 37, 38, 40, 44, 28, 29, 30, 31]&#45;&gt;[45]</title>\n<path fill=\"none\" stroke=\"#000000\" d=\"M2961.6345,-1106.7435C2911.9435,-1075.8929 2855.1071,-1046.1375 2798.6476,-1028.3276 2700.774,-997.4536 2416.6823,-1045.1369 2339.6476,-977.3276 2101.264,-767.4917 2185.1415,-316.1371 2219.179,-173.3497\"/>\n<polygon fill=\"#000000\" stroke=\"#000000\" points=\"2222.6805,-173.7613 2221.6349,-163.2182 2215.8775,-172.1122 2222.6805,-173.7613\"/>\n<text text-anchor=\"middle\" x=\"2192.6476\" y=\"-621.8565\" font-family=\"Times,serif\" font-size=\"14.00\" fill=\"#000000\">[&#39;&quot;&#39;]</text>\n</g>\n<!-- [32, 34, 36, 38, 40, 41, 44, 28, 29, 30]&#45;&gt;[32, 34, 36, 38, 39, 40, 44, 28, 29, 30, 31] -->\n<g id=\"edge39\" class=\"edge\">\n<title>[32, 34, 36, 38, 40, 41, 44, 28, 29, 30]&#45;&gt;[32, 34, 36, 38, 39, 40, 44, 28, 29, 30, 31]</title>\n<path fill=\"none\" stroke=\"#000000\" d=\"M2382.4559,-913.9639C2348.8939,-936.9045 2311.9409,-959.7066 2275.6476,-977.3276 2230.8793,-999.0633 2217.4777,-1000.722 2168.6476,-1010.3276 2124.6455,-1018.9834 1999.1535,-996.4137 1967.6476,-1028.3276 1934.9411,-1061.4576 1942.7798,-1400.0886 1935.6476,-1446.0934 1934.9943,-1450.3076 1934.2984,-1454.5653 1933.5654,-1458.8528\"/>\n<polygon fill=\"#000000\" stroke=\"#000000\" points=\"1930.0827,-1458.4482 1931.7904,-1468.9045 1936.9761,-1459.6655 1930.0827,-1458.4482\"/>\n<text text-anchor=\"middle\" x=\"2250.6476\" y=\"-1217.0105\" font-family=\"Times,serif\" font-size=\"14.00\" fill=\"#000000\">[&#39;O&#39;, &#39;L&#39;, &#39;V&#39;, &#39;F&#39;, &#39;W&#39;, &#39;J&#39;, &#39;G&#39;, &#39;Q&#39;, &#39;P&#39;, &#39;D&#39;, &#39;M&#39;, &#39;H&#39;, &#39;N&#39;, &#39;U&#39;, &#39;X&#39;, &#39;I&#39;, &#39;A&#39;, &#39;S&#39;, &#39;B&#39;, &#39;T&#39;, &#39;Z&#39;, &#39;C&#39;, &#39;E&#39;, &#39;R&#39;, &#39;Y&#39;, &#39;K&#39;]</text>\n</g>\n<!-- [32, 34, 36, 38, 40, 41, 44, 28, 29, 30]&#45;&gt;[32, 33, 34, 36, 37, 38, 40, 44, 28, 29, 30, 31] -->\n<g id=\"edge40\" class=\"edge\">\n<title>[32, 34, 36, 38, 40, 41, 44, 28, 29, 30]&#45;&gt;[32, 33, 34, 36, 37, 38, 40, 44, 28, 29, 30, 31]</title>\n<path fill=\"none\" stroke=\"#000000\" d=\"M2638.6839,-916.9728C2678.5952,-947.9822 2723.3075,-981.4383 2765.6476,-1010.3276 2821.1891,-1048.2243 2883.6362,-1086.8544 2940.2921,-1120.4962\"/>\n<polygon fill=\"#000000\" stroke=\"#000000\" points=\"2938.5823,-1123.5513 2948.9698,-1125.6369 2942.1501,-1117.5288 2938.5823,-1123.5513\"/>\n<text text-anchor=\"middle\" x=\"3009.1476\" y=\"-999.1276\" font-family=\"Times,serif\" font-size=\"14.00\" fill=\"#000000\">[&#39;x&#39;, &#39;q&#39;, &#39;z&#39;, &#39;c&#39;, &#39;g&#39;, &#39;e&#39;, &#39;n&#39;, &#39;v&#39;, &#39;m&#39;, &#39;k&#39;, &#39;d&#39;, &#39;r&#39;, &#39;i&#39;, &#39;j&#39;, &#39;a&#39;, &#39;l&#39;, &#39;u&#39;, &#39;b&#39;, &#39;w&#39;, &#39;p&#39;, &#39;o&#39;, &#39;y&#39;, &#39;s&#39;, &#39;h&#39;, &#39;f&#39;, &#39;t&#39;]</text>\n</g>\n<!-- [32, 34, 36, 38, 40, 41, 44, 28, 29, 30]&#45;&gt;[32, 34, 36, 38, 40, 41, 44, 28, 29, 30] -->\n<g id=\"edge41\" class=\"edge\">\n<title>[32, 34, 36, 38, 40, 41, 44, 28, 29, 30]&#45;&gt;[32, 34, 36, 38, 40, 41, 44, 28, 29, 30]</title>\n<path fill=\"none\" stroke=\"#000000\" d=\"M2672.6832,-840.7667C2685.1175,-834.8921 2692.7832,-826.0338 2692.7832,-814.192 2692.7832,-805.4957 2688.649,-798.4085 2681.5281,-792.9303\"/>\n<polygon fill=\"#000000\" stroke=\"#000000\" points=\"2683.0578,-789.7663 2672.6832,-787.6174 2679.4533,-795.767 2683.0578,-789.7663\"/>\n<text text-anchor=\"middle\" x=\"2791.2832\" y=\"-810.492\" font-family=\"Times,serif\" font-size=\"14.00\" fill=\"#000000\">[&#39;7&#39;, &#39;8&#39;, &#39;6&#39;, &#39;4&#39;, &#39;0&#39;, &#39;2&#39;, &#39;3&#39;, &#39;1&#39;, &#39;9&#39;, &#39;5&#39;]</text>\n</g>\n<!-- [32, 34, 36, 38, 40, 41, 44, 28, 29, 30]&#45;&gt;[32, 33, 34, 35, 36, 38, 40, 44, 28, 29, 30, 31] -->\n<g id=\"edge42\" class=\"edge\">\n<title>[32, 34, 36, 38, 40, 41, 44, 28, 29, 30]&#45;&gt;[32, 33, 34, 35, 36, 38, 40, 44, 28, 29, 30, 31]</title>\n<path fill=\"none\" stroke=\"#000000\" d=\"M2611.2993,-684.8847C2618.6641,-663.1816 2621.0438,-640.4291 2614.6476,-618.0565 2610.4758,-603.4641 2604.9666,-588.8988 2598.5677,-574.6302\"/>\n<polygon fill=\"#000000\" stroke=\"#000000\" points=\"2601.6224,-572.898 2594.2393,-565.2992 2595.2723,-575.8436 2601.6224,-572.898\"/>\n<text text-anchor=\"middle\" x=\"2625.6476\" y=\"-621.8565\" font-family=\"Times,serif\" font-size=\"14.00\" fill=\"#000000\">[&#39; &#39;]</text>\n</g>\n<!-- [32, 34, 36, 38, 40, 41, 44, 28, 29, 30]&#45;&gt;[45] -->\n<g id=\"edge43\" class=\"edge\">\n<title>[32, 34, 36, 38, 40, 41, 44, 28, 29, 30]&#45;&gt;[45]</title>\n<path fill=\"none\" stroke=\"#000000\" d=\"M2373.0934,-727.5299C2330.2321,-693.3304 2287.7269,-650.1473 2262.6476,-600.0565 2225.7569,-526.3747 2227.0777,-277.8446 2229.3413,-174.6258\"/>\n<polygon fill=\"#000000\" stroke=\"#000000\" points=\"2232.8428,-174.597 2229.5763,-164.5183 2225.8447,-174.4342 2232.8428,-174.597\"/>\n<text text-anchor=\"middle\" x=\"2272.6476\" y=\"-403.9736\" font-family=\"Times,serif\" font-size=\"14.00\" fill=\"#000000\">[&#39;&quot;&#39;]</text>\n</g>\n<!-- [32, 33, 34, 35, 36, 38, 40, 44, 28, 29, 30, 31]&#45;&gt;[32, 34, 36, 38, 39, 40, 44, 28, 29, 30, 31] -->\n<g id=\"edge44\" class=\"edge\">\n<title>[32, 33, 34, 35, 36, 38, 40, 44, 28, 29, 30, 31]&#45;&gt;[32, 34, 36, 38, 39, 40, 44, 28, 29, 30, 31]</title>\n<path fill=\"none\" stroke=\"#000000\" d=\"M2356.3717,-552.3893C2334.6987,-570.7129 2311.1991,-587.4318 2286.6476,-600.0565 2246.0983,-620.9075 2229.3005,-604.8869 2185.6476,-618.0565 2150.3925,-628.6926 2142.5516,-634.5224 2109.6476,-651.0565 1835.279,-788.926 1664.4381,-729.5558 1510.6476,-995.3276 1507.3087,-1001.0978 1508.2868,-1004.0929 1510.6476,-1010.3276 1516.1723,-1024.9174 1876.8812,-1416.5974 1882.6476,-1431.0934 1885.6254,-1438.579 1888.1423,-1446.3354 1890.2557,-1454.2604\"/>\n<polygon fill=\"#000000\" stroke=\"#000000\" points=\"1886.8629,-1455.121 1892.6373,-1464.004 1893.6628,-1453.4589 1886.8629,-1455.121\"/>\n<text text-anchor=\"middle\" x=\"1793.6476\" y=\"-999.1276\" font-family=\"Times,serif\" font-size=\"14.00\" fill=\"#000000\">[&#39;O&#39;, &#39;L&#39;, &#39;V&#39;, &#39;F&#39;, &#39;W&#39;, &#39;J&#39;, &#39;G&#39;, &#39;Q&#39;, &#39;P&#39;, &#39;D&#39;, &#39;M&#39;, &#39;H&#39;, &#39;N&#39;, &#39;U&#39;, &#39;X&#39;, &#39;I&#39;, &#39;A&#39;, &#39;S&#39;, &#39;B&#39;, &#39;T&#39;, &#39;Z&#39;, &#39;C&#39;, &#39;E&#39;, &#39;R&#39;, &#39;Y&#39;, &#39;K&#39;]</text>\n</g>\n<!-- [32, 33, 34, 35, 36, 38, 40, 44, 28, 29, 30, 31]&#45;&gt;[32, 33, 34, 36, 37, 38, 40, 44, 28, 29, 30, 31] -->\n<g id=\"edge45\" class=\"edge\">\n<title>[32, 33, 34, 35, 36, 38, 40, 44, 28, 29, 30, 31]&#45;&gt;[32, 33, 34, 36, 37, 38, 40, 44, 28, 29, 30, 31]</title>\n<path fill=\"none\" stroke=\"#000000\" d=\"M2673.5384,-440.8572C2880.4441,-481.2988 3191.5774,-556.1381 3262.6476,-651.0565 3358.3643,-778.8918 3317.7954,-858.3801 3268.6476,-1010.3276 3262.7431,-1028.5823 3254.598,-1046.5844 3245.1209,-1063.9131\"/>\n<polygon fill=\"#000000\" stroke=\"#000000\" points=\"3241.9102,-1062.4813 3240.0483,-1072.9112 3248.008,-1065.9188 3241.9102,-1062.4813\"/>\n<text text-anchor=\"middle\" x=\"3564.1476\" y=\"-810.492\" font-family=\"Times,serif\" font-size=\"14.00\" fill=\"#000000\">[&#39;x&#39;, &#39;q&#39;, &#39;z&#39;, &#39;c&#39;, &#39;g&#39;, &#39;e&#39;, &#39;n&#39;, &#39;v&#39;, &#39;m&#39;, &#39;k&#39;, &#39;d&#39;, &#39;r&#39;, &#39;i&#39;, &#39;j&#39;, &#39;a&#39;, &#39;l&#39;, &#39;u&#39;, &#39;b&#39;, &#39;w&#39;, &#39;p&#39;, &#39;o&#39;, &#39;y&#39;, &#39;s&#39;, &#39;h&#39;, &#39;f&#39;, &#39;t&#39;]</text>\n</g>\n<!-- [32, 33, 34, 35, 36, 38, 40, 44, 28, 29, 30, 31]&#45;&gt;[32, 34, 36, 38, 40, 41, 44, 28, 29, 30] -->\n<g id=\"edge46\" class=\"edge\">\n<title>[32, 33, 34, 35, 36, 38, 40, 44, 28, 29, 30, 31]&#45;&gt;[32, 34, 36, 38, 40, 41, 44, 28, 29, 30]</title>\n<path fill=\"none\" stroke=\"#000000\" d=\"M2409.5911,-585.2591C2408.6094,-601.3591 2409.7006,-617.4666 2413.6476,-633.0565 2416.3183,-643.6051 2419.739,-654.2056 2423.6936,-664.6966\"/>\n<polygon fill=\"#000000\" stroke=\"#000000\" points=\"2420.5518,-666.2708 2427.4693,-674.2957 2427.0659,-663.7085 2420.5518,-666.2708\"/>\n<text text-anchor=\"middle\" x=\"2512.1476\" y=\"-621.8565\" font-family=\"Times,serif\" font-size=\"14.00\" fill=\"#000000\">[&#39;7&#39;, &#39;8&#39;, &#39;6&#39;, &#39;4&#39;, &#39;0&#39;, &#39;2&#39;, &#39;3&#39;, &#39;1&#39;, &#39;9&#39;, &#39;5&#39;]</text>\n</g>\n<!-- [32, 33, 34, 35, 36, 38, 40, 44, 28, 29, 30, 31]&#45;&gt;[32, 33, 34, 35, 36, 38, 40, 44, 28, 29, 30, 31] -->\n<g id=\"edge47\" class=\"edge\">\n<title>[32, 33, 34, 35, 36, 38, 40, 44, 28, 29, 30, 31]&#45;&gt;[32, 33, 34, 35, 36, 38, 40, 44, 28, 29, 30, 31]</title>\n<path fill=\"none\" stroke=\"#000000\" d=\"M2673.9423,-436.5747C2686.454,-429.8581 2694.0306,-420.2244 2694.0306,-407.6736 2694.0306,-398.2605 2689.7687,-390.4883 2682.3594,-384.3569\"/>\n<polygon fill=\"#000000\" stroke=\"#000000\" points=\"2684.2101,-381.3845 2673.9423,-378.7725 2680.3401,-387.2175 2684.2101,-381.3845\"/>\n<text text-anchor=\"middle\" x=\"2703.0306\" y=\"-403.9736\" font-family=\"Times,serif\" font-size=\"14.00\" fill=\"#000000\">[&#39; &#39;]</text>\n</g>\n<!-- [32, 33, 34, 35, 36, 38, 40, 44, 28, 29, 30, 31]&#45;&gt;[45] -->\n<g id=\"edge48\" class=\"edge\">\n<title>[32, 33, 34, 35, 36, 38, 40, 44, 28, 29, 30, 31]&#45;&gt;[45]</title>\n<path fill=\"none\" stroke=\"#000000\" d=\"M2354.183,-265.1192C2319.5873,-227.0255 2285.2873,-189.2576 2261.641,-163.2204\"/>\n<polygon fill=\"#000000\" stroke=\"#000000\" points=\"2263.97,-160.5789 2254.6559,-155.5291 2258.788,-165.285 2263.97,-160.5789\"/>\n<text text-anchor=\"middle\" x=\"2301.6476\" y=\"-186.0907\" font-family=\"Times,serif\" font-size=\"14.00\" fill=\"#000000\">[&#39;&quot;&#39;]</text>\n</g>\n<!-- [45]&#45;&gt;[] -->\n<g id=\"edge49\" class=\"edge\">\n<title>[45]&#45;&gt;[]</title>\n<path fill=\"none\" stroke=\"#000000\" d=\"M2230.6476,-93.8463C2230.6476,-80.7208 2230.6476,-65.9154 2230.6476,-53.1291\"/>\n<polygon fill=\"#000000\" stroke=\"#000000\" points=\"2234.1477,-52.9448 2230.6476,-42.9448 2227.1477,-52.9448 2234.1477,-52.9448\"/>\n<text text-anchor=\"middle\" x=\"2870.1476\" y=\"-64.6962\" font-family=\"Times,serif\" font-size=\"14.00\" fill=\"#000000\">[&#39;O&#39;, &#39;x&#39;, &#39;q&#39;, &#39;7&#39;, &#39;z&#39;, &#39;L&#39;, &#39;c&#39;, &#39;g&#39;, &#39;V&#39;, &#39;F&#39;, &#39;8&#39;, &#39;6&#39;, &#39;e&#39;, &#39;W&#39;, &#39;n&#39;, &#39;v&#39;, &#39;m&#39;, &#39;k&#39;, &#39;d&#39;, &#39;r&#39;, &#39;J&#39;, &#39; &#39;, &#39;G&#39;, &#39;4&#39;, &#39;Q&#39;, &#39;i&#39;, &#39;j&#39;, &#39;P&#39;, &#39;a&#39;, &#39;D&#39;, &#39;l&#39;, &#39;0&#39;, &#39;u&#39;, &#39;2&#39;, &#39;3&#39;, &#39;b&#39;, &#39;w&#39;, &#39;M&#39;, &#39;p&#39;, &#39;H&#39;, &#39;N&#39;, &#39;U&#39;, &#39;X&#39;, &#39;o&#39;, &#39;y&#39;, &#39;I&#39;, &#39;A&#39;, &#39;&quot;&#39;, &#39;S&#39;, &#39;B&#39;, &#39;T&#39;, &#39;Z&#39;, &#39;1&#39;, &#39;9&#39;, &#39;C&#39;, &#39;5&#39;, &#39;E&#39;, &#39;R&#39;, &#39;s&#39;, &#39;Y&#39;, &#39;h&#39;, &#39;K&#39;, &#39;f&#39;, &#39;t&#39;]</text>\n</g>\n</g>\n</svg>\n"
          },
          "metadata": {},
          "execution_count": 56
        }
      ]
    },
    {
      "cell_type": "code",
      "source": [
        "info = dfa_born(regex_to_NFA('([0-9]+)|([0-9]+.[0-9]+)')[0])\n",
        "draw_DFA(info, \"regex Number_DFA\")"
      ],
      "metadata": {
        "id": "mKFNqtlY-iW7",
        "colab": {
          "base_uri": "https://localhost:8080/",
          "height": 1000
        },
        "outputId": "fe2f1314-6eb8-4797-e661-a87aaea3a12f"
      },
      "execution_count": 57,
      "outputs": [
        {
          "output_type": "execute_result",
          "data": {
            "text/plain": [
              "<graphviz.dot.Digraph at 0x7fe33dd40d10>"
            ],
            "image/svg+xml": "<?xml version=\"1.0\" encoding=\"UTF-8\" standalone=\"no\"?>\n<!DOCTYPE svg PUBLIC \"-//W3C//DTD SVG 1.1//EN\"\n \"http://www.w3.org/Graphics/SVG/1.1/DTD/svg11.dtd\">\n<!-- Generated by graphviz version 2.40.1 (20161225.0304)\n -->\n<!-- Title: %3 Pages: 1 -->\n<svg width=\"631pt\" height=\"1283pt\"\n viewBox=\"0.00 0.00 630.64 1283.22\" xmlns=\"http://www.w3.org/2000/svg\" xmlns:xlink=\"http://www.w3.org/1999/xlink\">\n<g id=\"graph0\" class=\"graph\" transform=\"scale(1 1) rotate(0) translate(4 1279.2168)\">\n<title>%3</title>\n<polygon fill=\"#ffffff\" stroke=\"transparent\" points=\"-4,4 -4,-1279.2168 626.6407,-1279.2168 626.6407,4 -4,4\"/>\n<!-- [32, 4, 14] -->\n<g id=\"node1\" class=\"node\">\n<title>[32, 4, 14]</title>\n<ellipse fill=\"none\" stroke=\"#000000\" cx=\"498.6407\" cy=\"-1219.3218\" rx=\"55.7903\" ry=\"55.7903\"/>\n<text text-anchor=\"middle\" x=\"498.6407\" y=\"-1215.6218\" font-family=\"Times,serif\" font-size=\"14.00\" fill=\"#000000\">q[32, 4, 14]</text>\n</g>\n<!-- [33, 6, 8, 9, 16, 18, 20] -->\n<g id=\"node2\" class=\"node\">\n<title>[33, 6, 8, 9, 16, 18, 20]</title>\n<ellipse fill=\"none\" stroke=\"#000000\" cx=\"392.6407\" cy=\"-1003.786\" rx=\"104.7764\" ry=\"104.7764\"/>\n<ellipse fill=\"none\" stroke=\"#000000\" cx=\"392.6407\" cy=\"-1003.786\" rx=\"108.7816\" ry=\"108.7816\"/>\n<text text-anchor=\"middle\" x=\"392.6407\" y=\"-1000.086\" font-family=\"Times,serif\" font-size=\"14.00\" fill=\"#000000\">q[33, 6, 8, 9, 16, 18, 20]</text>\n</g>\n<!-- [32, 4, 14]&#45;&gt;[33, 6, 8, 9, 16, 18, 20] -->\n<g id=\"edge1\" class=\"edge\">\n<title>[32, 4, 14]&#45;&gt;[33, 6, 8, 9, 16, 18, 20]</title>\n<path fill=\"none\" stroke=\"#000000\" d=\"M447.3399,-1196.4775C426.7656,-1184.4534 405.2204,-1167.5447 393.6407,-1145.4268 389.789,-1138.0698 386.9361,-1130.1891 384.8854,-1122.0508\"/>\n<polygon fill=\"#000000\" stroke=\"#000000\" points=\"388.2571,-1121.0767 382.7688,-1112.0142 381.4077,-1122.5212 388.2571,-1121.0767\"/>\n<text text-anchor=\"middle\" x=\"492.1407\" y=\"-1134.2268\" font-family=\"Times,serif\" font-size=\"14.00\" fill=\"#000000\">[&#39;5&#39;, &#39;7&#39;, &#39;2&#39;, &#39;4&#39;, &#39;8&#39;, &#39;6&#39;, &#39;9&#39;, &#39;1&#39;, &#39;0&#39;, &#39;3&#39;]</text>\n</g>\n<!-- [] -->\n<g id=\"node3\" class=\"node\">\n<title>[]</title>\n<ellipse fill=\"none\" stroke=\"#000000\" cx=\"224.6407\" cy=\"-21.4481\" rx=\"21.3963\" ry=\"21.3963\"/>\n<text text-anchor=\"middle\" x=\"224.6407\" y=\"-17.7481\" font-family=\"Times,serif\" font-size=\"14.00\" fill=\"#000000\">q[]</text>\n</g>\n<!-- [32, 4, 14]&#45;&gt;[] -->\n<g id=\"edge2\" class=\"edge\">\n<title>[32, 4, 14]&#45;&gt;[]</title>\n<path fill=\"none\" stroke=\"#000000\" d=\"M547.1787,-1191.5707C563.7372,-1179.5681 580.5927,-1163.9819 590.6407,-1145.4268 620.7634,-1089.801 604.6407,-1067.0442 604.6407,-1003.786 604.6407,-1003.786 604.6407,-1003.786 604.6407,-173.2895 604.6407,-137.0072 611.7644,-119.0747 585.6407,-93.8962 538.4959,-48.457 335.6214,-29.3474 256.4546,-23.5262\"/>\n<polygon fill=\"#000000\" stroke=\"#000000\" points=\"256.3572,-20.0105 246.1339,-22.7917 255.8601,-26.9929 256.3572,-20.0105\"/>\n<text text-anchor=\"middle\" x=\"613.6407\" y=\"-540.9667\" font-family=\"Times,serif\" font-size=\"14.00\" fill=\"#000000\">[&#39;.&#39;]</text>\n</g>\n<!-- [33, 6, 7, 9, 16, 17, 20] -->\n<g id=\"node4\" class=\"node\">\n<title>[33, 6, 7, 9, 16, 17, 20]</title>\n<ellipse fill=\"none\" stroke=\"#000000\" cx=\"108.6407\" cy=\"-735.5046\" rx=\"104.7764\" ry=\"104.7764\"/>\n<ellipse fill=\"none\" stroke=\"#000000\" cx=\"108.6407\" cy=\"-735.5046\" rx=\"108.7816\" ry=\"108.7816\"/>\n<text text-anchor=\"middle\" x=\"108.6407\" y=\"-731.8046\" font-family=\"Times,serif\" font-size=\"14.00\" fill=\"#000000\">q[33, 6, 7, 9, 16, 17, 20]</text>\n</g>\n<!-- [33, 6, 8, 9, 16, 18, 20]&#45;&gt;[33, 6, 7, 9, 16, 17, 20] -->\n<g id=\"edge3\" class=\"edge\">\n<title>[33, 6, 8, 9, 16, 18, 20]&#45;&gt;[33, 6, 7, 9, 16, 17, 20]</title>\n<path fill=\"none\" stroke=\"#000000\" d=\"M313.3211,-929.5427C295.013,-912.3606 275.6314,-894.1344 257.6407,-877.1453 237.3029,-857.9398 215.4524,-837.2181 194.9216,-817.7086\"/>\n<polygon fill=\"#000000\" stroke=\"#000000\" points=\"197.0821,-814.9334 187.4226,-810.5808 192.2595,-820.0071 197.0821,-814.9334\"/>\n<text text-anchor=\"middle\" x=\"356.1407\" y=\"-865.9453\" font-family=\"Times,serif\" font-size=\"14.00\" fill=\"#000000\">[&#39;5&#39;, &#39;7&#39;, &#39;2&#39;, &#39;4&#39;, &#39;8&#39;, &#39;6&#39;, &#39;9&#39;, &#39;1&#39;, &#39;0&#39;, &#39;3&#39;]</text>\n</g>\n<!-- [26] -->\n<g id=\"node5\" class=\"node\">\n<title>[26]</title>\n<ellipse fill=\"none\" stroke=\"#000000\" cx=\"174.6407\" cy=\"-544.6667\" rx=\"31.3957\" ry=\"31.3957\"/>\n<text text-anchor=\"middle\" x=\"174.6407\" y=\"-540.9667\" font-family=\"Times,serif\" font-size=\"14.00\" fill=\"#000000\">q[26]</text>\n</g>\n<!-- [33, 6, 8, 9, 16, 18, 20]&#45;&gt;[26] -->\n<g id=\"edge4\" class=\"edge\">\n<title>[33, 6, 8, 9, 16, 18, 20]&#45;&gt;[26]</title>\n<path fill=\"none\" stroke=\"#000000\" d=\"M444.9111,-908.3162C448.861,-898.0243 452.2376,-887.5193 454.6407,-877.1453 464.0925,-836.3436 581.2714,-805.4182 441.6407,-626.8639 413.5775,-590.9777 282.9256,-563.4973 215.3587,-551.4102\"/>\n<polygon fill=\"#000000\" stroke=\"#000000\" points=\"215.9294,-547.9569 205.4742,-549.6714 214.7166,-554.8511 215.9294,-547.9569\"/>\n<text text-anchor=\"middle\" x=\"517.6407\" y=\"-731.8046\" font-family=\"Times,serif\" font-size=\"14.00\" fill=\"#000000\">[&#39;.&#39;]</text>\n</g>\n<!-- []&#45;&gt;[] -->\n<g id=\"edge5\" class=\"edge\">\n<title>[]&#45;&gt;[]</title>\n<path fill=\"none\" stroke=\"#000000\" d=\"M244.5321,-29.7699C254.8175,-31.0501 264.0888,-28.2762 264.0888,-21.4481 264.0888,-17.0738 260.2839,-14.3634 254.8449,-13.3168\"/>\n<polygon fill=\"#000000\" stroke=\"#000000\" points=\"254.5951,-9.8117 244.5321,-13.1263 254.4657,-16.8105 254.5951,-9.8117\"/>\n<text text-anchor=\"middle\" x=\"370.5888\" y=\"-17.7481\" font-family=\"Times,serif\" font-size=\"14.00\" fill=\"#000000\">[&#39;5&#39;, &#39;.&#39;, &#39;7&#39;, &#39;2&#39;, &#39;4&#39;, &#39;8&#39;, &#39;6&#39;, &#39;9&#39;, &#39;1&#39;, &#39;0&#39;, &#39;3&#39;]</text>\n</g>\n<!-- [33, 6, 7, 9, 16, 17, 20]&#45;&gt;[33, 6, 7, 9, 16, 17, 20] -->\n<g id=\"edge6\" class=\"edge\">\n<title>[33, 6, 7, 9, 16, 17, 20]&#45;&gt;[33, 6, 7, 9, 16, 17, 20]</title>\n<path fill=\"none\" stroke=\"#000000\" d=\"M215.3503,-756.7958C227.4437,-752.8087 235.2814,-745.7116 235.2814,-735.5046 235.2814,-728.3278 231.4066,-722.6885 224.902,-718.5867\"/>\n<polygon fill=\"#000000\" stroke=\"#000000\" points=\"225.8996,-715.1941 215.3503,-714.2134 222.9855,-721.5587 225.8996,-715.1941\"/>\n<text text-anchor=\"middle\" x=\"333.7814\" y=\"-731.8046\" font-family=\"Times,serif\" font-size=\"14.00\" fill=\"#000000\">[&#39;5&#39;, &#39;7&#39;, &#39;2&#39;, &#39;4&#39;, &#39;8&#39;, &#39;6&#39;, &#39;9&#39;, &#39;1&#39;, &#39;0&#39;, &#39;3&#39;]</text>\n</g>\n<!-- [33, 6, 7, 9, 16, 17, 20]&#45;&gt;[26] -->\n<g id=\"edge7\" class=\"edge\">\n<title>[33, 6, 7, 9, 16, 17, 20]&#45;&gt;[26]</title>\n<path fill=\"none\" stroke=\"#000000\" d=\"M144.1522,-632.8236C150.1515,-615.4769 156.0394,-598.4521 161.0167,-584.0602\"/>\n<polygon fill=\"#000000\" stroke=\"#000000\" points=\"164.3465,-585.1405 164.3072,-574.5457 157.7309,-582.8525 164.3465,-585.1405\"/>\n<text text-anchor=\"middle\" x=\"166.6407\" y=\"-597.6639\" font-family=\"Times,serif\" font-size=\"14.00\" fill=\"#000000\">[&#39;.&#39;]</text>\n</g>\n<!-- [26]&#45;&gt;[] -->\n<g id=\"edge9\" class=\"edge\">\n<title>[26]&#45;&gt;[]</title>\n<path fill=\"none\" stroke=\"#000000\" d=\"M159.9979,-516.9972C152.5964,-501.4443 144.402,-481.4032 140.6407,-462.4694 108.6753,-301.5625 109.0425,-249.6218 160.6407,-93.8962 167.6332,-72.7927 184.5257,-54.1307 199.2004,-41.0342\"/>\n<polygon fill=\"#000000\" stroke=\"#000000\" points=\"201.704,-43.4992 207.0478,-34.3507 197.1653,-38.17 201.704,-43.4992\"/>\n<text text-anchor=\"middle\" x=\"128.6407\" y=\"-274.4828\" font-family=\"Times,serif\" font-size=\"14.00\" fill=\"#000000\">[&#39;.&#39;]</text>\n</g>\n<!-- [33, 28, 30, 31] -->\n<g id=\"node6\" class=\"node\">\n<title>[33, 28, 30, 31]</title>\n<ellipse fill=\"none\" stroke=\"#000000\" cx=\"228.6407\" cy=\"-383.0761\" rx=\"75.2921\" ry=\"75.2921\"/>\n<ellipse fill=\"none\" stroke=\"#000000\" cx=\"228.6407\" cy=\"-383.0761\" rx=\"79.2868\" ry=\"79.2868\"/>\n<text text-anchor=\"middle\" x=\"228.6407\" y=\"-379.3761\" font-family=\"Times,serif\" font-size=\"14.00\" fill=\"#000000\">q[33, 28, 30, 31]</text>\n</g>\n<!-- [26]&#45;&gt;[33, 28, 30, 31] -->\n<g id=\"edge8\" class=\"edge\">\n<title>[26]&#45;&gt;[33, 28, 30, 31]</title>\n<path fill=\"none\" stroke=\"#000000\" d=\"M184.5451,-515.0285C188.9993,-501.6996 194.508,-485.2154 200.105,-468.4669\"/>\n<polygon fill=\"#000000\" stroke=\"#000000\" points=\"203.5533,-469.1907 203.4033,-458.597 196.9142,-466.972 203.5533,-469.1907\"/>\n<text text-anchor=\"middle\" x=\"294.1407\" y=\"-484.2694\" font-family=\"Times,serif\" font-size=\"14.00\" fill=\"#000000\">[&#39;5&#39;, &#39;7&#39;, &#39;2&#39;, &#39;4&#39;, &#39;8&#39;, &#39;6&#39;, &#39;9&#39;, &#39;1&#39;, &#39;0&#39;, &#39;3&#39;]</text>\n</g>\n<!-- [33, 28, 30, 31]&#45;&gt;[] -->\n<g id=\"edge11\" class=\"edge\">\n<title>[33, 28, 30, 31]&#45;&gt;[]</title>\n<path fill=\"none\" stroke=\"#000000\" d=\"M194.3176,-311.1051C187.018,-292.4911 180.3868,-272.1891 176.6407,-252.6828 163.3311,-183.3774 156.2867,-161.4691 176.6407,-93.8962 181.9952,-76.1199 193.2917,-58.6946 203.581,-45.3897\"/>\n<polygon fill=\"#000000\" stroke=\"#000000\" points=\"206.5694,-47.2597 210.1246,-37.2792 201.1214,-42.8643 206.5694,-47.2597\"/>\n<text text-anchor=\"middle\" x=\"185.6407\" y=\"-169.5895\" font-family=\"Times,serif\" font-size=\"14.00\" fill=\"#000000\">[&#39;.&#39;]</text>\n</g>\n<!-- [33, 28, 29, 31] -->\n<g id=\"node7\" class=\"node\">\n<title>[33, 28, 29, 31]</title>\n<ellipse fill=\"none\" stroke=\"#000000\" cx=\"282.6407\" cy=\"-173.2895\" rx=\"75.2921\" ry=\"75.2921\"/>\n<ellipse fill=\"none\" stroke=\"#000000\" cx=\"282.6407\" cy=\"-173.2895\" rx=\"79.2868\" ry=\"79.2868\"/>\n<text text-anchor=\"middle\" x=\"282.6407\" y=\"-169.5895\" font-family=\"Times,serif\" font-size=\"14.00\" fill=\"#000000\">q[33, 28, 29, 31]</text>\n</g>\n<!-- [33, 28, 30, 31]&#45;&gt;[33, 28, 29, 31] -->\n<g id=\"edge10\" class=\"edge\">\n<title>[33, 28, 30, 31]&#45;&gt;[33, 28, 29, 31]</title>\n<path fill=\"none\" stroke=\"#000000\" d=\"M248.4417,-306.1506C252.2936,-291.186 256.3565,-275.4021 260.2842,-260.1433\"/>\n<polygon fill=\"#000000\" stroke=\"#000000\" points=\"263.7388,-260.7626 262.8421,-250.2058 256.9598,-259.0176 263.7388,-260.7626\"/>\n<text text-anchor=\"middle\" x=\"356.1407\" y=\"-274.4828\" font-family=\"Times,serif\" font-size=\"14.00\" fill=\"#000000\">[&#39;5&#39;, &#39;7&#39;, &#39;2&#39;, &#39;4&#39;, &#39;8&#39;, &#39;6&#39;, &#39;9&#39;, &#39;1&#39;, &#39;0&#39;, &#39;3&#39;]</text>\n</g>\n<!-- [33, 28, 29, 31]&#45;&gt;[] -->\n<g id=\"edge13\" class=\"edge\">\n<title>[33, 28, 29, 31]&#45;&gt;[]</title>\n<path fill=\"none\" stroke=\"#000000\" d=\"M254.1505,-98.7033C247.6956,-81.8049 241.2072,-64.8183 235.9646,-51.0936\"/>\n<polygon fill=\"#000000\" stroke=\"#000000\" points=\"239.2237,-49.8171 232.3858,-41.7243 232.6846,-52.3149 239.2237,-49.8171\"/>\n<text text-anchor=\"middle\" x=\"254.6407\" y=\"-64.6962\" font-family=\"Times,serif\" font-size=\"14.00\" fill=\"#000000\">[&#39;.&#39;]</text>\n</g>\n<!-- [33, 28, 29, 31]&#45;&gt;[33, 28, 29, 31] -->\n<g id=\"edge12\" class=\"edge\">\n<title>[33, 28, 29, 31]&#45;&gt;[33, 28, 29, 31]</title>\n<path fill=\"none\" stroke=\"#000000\" d=\"M360.1911,-191.0709C372.0091,-188.3573 380.034,-182.4301 380.034,-173.2895 380.034,-167.0053 376.241,-162.24 370.03,-158.9936\"/>\n<polygon fill=\"#000000\" stroke=\"#000000\" points=\"370.7858,-155.5483 360.1911,-155.5081 368.4483,-162.1465 370.7858,-155.5483\"/>\n<text text-anchor=\"middle\" x=\"478.534\" y=\"-169.5895\" font-family=\"Times,serif\" font-size=\"14.00\" fill=\"#000000\">[&#39;5&#39;, &#39;7&#39;, &#39;2&#39;, &#39;4&#39;, &#39;8&#39;, &#39;6&#39;, &#39;9&#39;, &#39;1&#39;, &#39;0&#39;, &#39;3&#39;]</text>\n</g>\n</g>\n</svg>\n"
          },
          "metadata": {},
          "execution_count": 57
        }
      ]
    },
    {
      "cell_type": "code",
      "source": [
        "info = dfa_born(regex_to_NFA('(True)|(False)')[0])\n",
        "draw_DFA(info, \"regex Bool_NFA\")\n"
      ],
      "metadata": {
        "id": "JDU8FZ36-wgV",
        "colab": {
          "base_uri": "https://localhost:8080/",
          "height": 1000
        },
        "outputId": "596d1dd5-364c-4dc6-ca5b-f223ee0409c2"
      },
      "execution_count": 58,
      "outputs": [
        {
          "output_type": "execute_result",
          "data": {
            "text/plain": [
              "<graphviz.dot.Digraph at 0x7fe343dfc890>"
            ],
            "image/svg+xml": "<?xml version=\"1.0\" encoding=\"UTF-8\" standalone=\"no\"?>\n<!DOCTYPE svg PUBLIC \"-//W3C//DTD SVG 1.1//EN\"\n \"http://www.w3.org/Graphics/SVG/1.1/DTD/svg11.dtd\">\n<!-- Generated by graphviz version 2.40.1 (20161225.0304)\n -->\n<!-- Title: %3 Pages: 1 -->\n<svg width=\"1119pt\" height=\"808pt\"\n viewBox=\"0.00 0.00 1119.15 808.16\" xmlns=\"http://www.w3.org/2000/svg\" xmlns:xlink=\"http://www.w3.org/1999/xlink\">\n<g id=\"graph0\" class=\"graph\" transform=\"scale(1 1) rotate(0) translate(4 804.1569)\">\n<title>%3</title>\n<polygon fill=\"#ffffff\" stroke=\"transparent\" points=\"-4,4 -4,-804.1569 1115.1459,-804.1569 1115.1459,4 -4,4\"/>\n<!-- [8, 0, 18] -->\n<g id=\"node1\" class=\"node\">\n<title>[8, 0, 18]</title>\n<ellipse fill=\"none\" stroke=\"#000000\" cx=\"183\" cy=\"-749.4614\" rx=\"50.8918\" ry=\"50.8918\"/>\n<text text-anchor=\"middle\" x=\"183\" y=\"-745.7614\" font-family=\"Times,serif\" font-size=\"14.00\" fill=\"#000000\">q[8, 0, 18]</text>\n</g>\n<!-- [] -->\n<g id=\"node2\" class=\"node\">\n<title>[]</title>\n<ellipse fill=\"none\" stroke=\"#000000\" cx=\"480\" cy=\"-21.4481\" rx=\"21.3963\" ry=\"21.3963\"/>\n<text text-anchor=\"middle\" x=\"480\" y=\"-17.7481\" font-family=\"Times,serif\" font-size=\"14.00\" fill=\"#000000\">q[]</text>\n</g>\n<!-- [8, 0, 18]&#45;&gt;[] -->\n<g id=\"edge1\" class=\"edge\">\n<title>[8, 0, 18]&#45;&gt;[]</title>\n<path fill=\"none\" stroke=\"#000000\" d=\"M133.4776,-736.6863C79.2813,-719.3688 0,-682.729 0,-616.5686 0,-616.5686 0,-616.5686 0,-144.0421 0,-51.223 341.2045,-27.7732 448.2643,-22.6999\"/>\n<polygon fill=\"#000000\" stroke=\"#000000\" points=\"448.611,-26.1879 458.4429,-22.2401 448.2951,-19.195 448.611,-26.1879\"/>\n<text text-anchor=\"middle\" x=\"53.5\" y=\"-386.0797\" font-family=\"Times,serif\" font-size=\"14.00\" fill=\"#000000\">[&#39;r&#39;, &#39;s&#39;, &#39;a&#39;, &#39;e&#39;, &#39;l&#39;, &#39;u&#39;]</text>\n</g>\n<!-- [2] -->\n<g id=\"node3\" class=\"node\">\n<title>[2]</title>\n<ellipse fill=\"none\" stroke=\"#000000\" cx=\"183\" cy=\"-503.1742\" rx=\"26.7961\" ry=\"26.7961\"/>\n<text text-anchor=\"middle\" x=\"183\" y=\"-499.4742\" font-family=\"Times,serif\" font-size=\"14.00\" fill=\"#000000\">q[2]</text>\n</g>\n<!-- [8, 0, 18]&#45;&gt;[2] -->\n<g id=\"edge2\" class=\"edge\">\n<title>[8, 0, 18]&#45;&gt;[2]</title>\n<path fill=\"none\" stroke=\"#000000\" d=\"M183,-698.7291C183,-651.4769 183,-582.1631 183,-540.0028\"/>\n<polygon fill=\"#000000\" stroke=\"#000000\" points=\"186.5001,-539.899 183,-529.899 179.5001,-539.8991 186.5001,-539.899\"/>\n<text text-anchor=\"middle\" x=\"194.5\" y=\"-612.8686\" font-family=\"Times,serif\" font-size=\"14.00\" fill=\"#000000\">[&#39;T&#39;]</text>\n</g>\n<!-- [10] -->\n<g id=\"node4\" class=\"node\">\n<title>[10]</title>\n<ellipse fill=\"none\" stroke=\"#000000\" cx=\"481\" cy=\"-616.5686\" rx=\"31.3957\" ry=\"31.3957\"/>\n<text text-anchor=\"middle\" x=\"481\" y=\"-612.8686\" font-family=\"Times,serif\" font-size=\"14.00\" fill=\"#000000\">q[10]</text>\n</g>\n<!-- [8, 0, 18]&#45;&gt;[10] -->\n<g id=\"edge3\" class=\"edge\">\n<title>[8, 0, 18]&#45;&gt;[10]</title>\n<path fill=\"none\" stroke=\"#000000\" d=\"M229.5625,-728.6969C288.3982,-702.4592 388.5361,-657.8028 442.9948,-633.517\"/>\n<polygon fill=\"#000000\" stroke=\"#000000\" points=\"444.5838,-636.6407 452.2913,-629.3713 441.7327,-630.2476 444.5838,-636.6407\"/>\n<text text-anchor=\"middle\" x=\"378\" y=\"-669.5659\" font-family=\"Times,serif\" font-size=\"14.00\" fill=\"#000000\">[&#39;F&#39;]</text>\n</g>\n<!-- []&#45;&gt;[] -->\n<g id=\"edge4\" class=\"edge\">\n<title>[]&#45;&gt;[]</title>\n<path fill=\"none\" stroke=\"#000000\" d=\"M499.8914,-29.7699C510.1768,-31.0501 519.4481,-28.2762 519.4481,-21.4481 519.4481,-17.0738 515.6431,-14.3634 510.2042,-13.3168\"/>\n<polygon fill=\"#000000\" stroke=\"#000000\" points=\"509.9544,-9.8117 499.8914,-13.1263 509.825,-16.8105 509.9544,-9.8117\"/>\n<text text-anchor=\"middle\" x=\"593.4481\" y=\"-17.7481\" font-family=\"Times,serif\" font-size=\"14.00\" fill=\"#000000\">[&#39;r&#39;, &#39;s&#39;, &#39;T&#39;, &#39;F&#39;, &#39;a&#39;, &#39;e&#39;, &#39;l&#39;, &#39;u&#39;]</text>\n</g>\n<!-- [2]&#45;&gt;[] -->\n<g id=\"edge6\" class=\"edge\">\n<title>[2]&#45;&gt;[]</title>\n<path fill=\"none\" stroke=\"#000000\" d=\"M167.5483,-481.3113C153.5164,-459.2809 135,-423.7702 135,-389.7797 135,-389.7797 135,-389.7797 135,-144.0421 135,-77.8267 363.4977,-38.1914 448.5785,-25.7283\"/>\n<polygon fill=\"#000000\" stroke=\"#000000\" points=\"449.2779,-29.1639 458.6791,-24.2783 448.2832,-22.2349 449.2779,-29.1639\"/>\n<text text-anchor=\"middle\" x=\"201\" y=\"-272.6852\" font-family=\"Times,serif\" font-size=\"14.00\" fill=\"#000000\">[&#39;s&#39;, &#39;T&#39;, &#39;F&#39;, &#39;a&#39;, &#39;e&#39;, &#39;l&#39;, &#39;u&#39;]</text>\n</g>\n<!-- [4] -->\n<g id=\"node5\" class=\"node\">\n<title>[4]</title>\n<ellipse fill=\"none\" stroke=\"#000000\" cx=\"295\" cy=\"-389.7797\" rx=\"26.7961\" ry=\"26.7961\"/>\n<text text-anchor=\"middle\" x=\"295\" y=\"-386.0797\" font-family=\"Times,serif\" font-size=\"14.00\" fill=\"#000000\">q[4]</text>\n</g>\n<!-- [2]&#45;&gt;[4] -->\n<g id=\"edge5\" class=\"edge\">\n<title>[2]&#45;&gt;[4]</title>\n<path fill=\"none\" stroke=\"#000000\" d=\"M201.7463,-484.1945C220.1596,-465.5519 248.4072,-436.9526 268.989,-416.1145\"/>\n<polygon fill=\"#000000\" stroke=\"#000000\" points=\"271.6555,-418.3955 276.1926,-408.8213 266.6752,-413.4765 271.6555,-418.3955\"/>\n<text text-anchor=\"middle\" x=\"255.5\" y=\"-442.7769\" font-family=\"Times,serif\" font-size=\"14.00\" fill=\"#000000\">[&#39;r&#39;]</text>\n</g>\n<!-- [10]&#45;&gt;[] -->\n<g id=\"edge7\" class=\"edge\">\n<title>[10]&#45;&gt;[]</title>\n<path fill=\"none\" stroke=\"#000000\" d=\"M480.5469,-585.1134C479.8339,-533.8817 478.4818,-429.2278 478,-340.5825 477.9638,-333.9159 476.4821,-332.074 478,-325.5825 492.8341,-262.1412 526.8294,-257.3018 543,-194.188 556.0604,-143.2135 546.8886,-128.5055 548,-75.8962 548.1408,-69.231 551.3273,-66.6732 548,-60.8962 539.8087,-46.6745 524.309,-37.1094 510.1742,-30.9643\"/>\n<polygon fill=\"#000000\" stroke=\"#000000\" points=\"511.3003,-27.6462 500.7132,-27.2411 508.7369,-34.16 511.3003,-27.6462\"/>\n<text text-anchor=\"middle\" x=\"543\" y=\"-329.3825\" font-family=\"Times,serif\" font-size=\"14.00\" fill=\"#000000\">[&#39;r&#39;, &#39;s&#39;, &#39;T&#39;, &#39;F&#39;, &#39;e&#39;, &#39;l&#39;, &#39;u&#39;]</text>\n</g>\n<!-- [12] -->\n<g id=\"node6\" class=\"node\">\n<title>[12]</title>\n<ellipse fill=\"none\" stroke=\"#000000\" cx=\"626\" cy=\"-503.1742\" rx=\"31.3957\" ry=\"31.3957\"/>\n<text text-anchor=\"middle\" x=\"626\" y=\"-499.4742\" font-family=\"Times,serif\" font-size=\"14.00\" fill=\"#000000\">q[12]</text>\n</g>\n<!-- [10]&#45;&gt;[12] -->\n<g id=\"edge8\" class=\"edge\">\n<title>[10]&#45;&gt;[12]</title>\n<path fill=\"none\" stroke=\"#000000\" d=\"M505.5973,-597.3328C529.7613,-578.4358 566.7756,-549.4895 593.3841,-528.6808\"/>\n<polygon fill=\"#000000\" stroke=\"#000000\" points=\"595.5609,-531.4217 601.2821,-522.5044 591.2487,-525.9076 595.5609,-531.4217\"/>\n<text text-anchor=\"middle\" x=\"572\" y=\"-556.1714\" font-family=\"Times,serif\" font-size=\"14.00\" fill=\"#000000\">[&#39;a&#39;]</text>\n</g>\n<!-- [4]&#45;&gt;[] -->\n<g id=\"edge9\" class=\"edge\">\n<title>[4]&#45;&gt;[]</title>\n<path fill=\"none\" stroke=\"#000000\" d=\"M296.3122,-362.9472C296.5744,-332.2748 293.1286,-281.6159 271,-245.188 264.0776,-233.7925 252.9628,-239.1137 247,-227.188 229.3007,-191.7894 182.945,-252.2725 281,-93.8962 292.4256,-75.4418 297.8458,-71.1054 317,-60.8962 359.08,-38.4676 414.031,-28.5911 448.1622,-24.3858\"/>\n<polygon fill=\"#000000\" stroke=\"#000000\" points=\"448.9302,-27.821 458.4695,-23.211 448.1375,-20.8661 448.9302,-27.821\"/>\n<text text-anchor=\"middle\" x=\"311.5\" y=\"-215.988\" font-family=\"Times,serif\" font-size=\"14.00\" fill=\"#000000\">[&#39;r&#39;, &#39;s&#39;, &#39;T&#39;, &#39;F&#39;, &#39;a&#39;, &#39;e&#39;, &#39;l&#39;]</text>\n</g>\n<!-- [6] -->\n<g id=\"node7\" class=\"node\">\n<title>[6]</title>\n<ellipse fill=\"none\" stroke=\"#000000\" cx=\"394\" cy=\"-276.3852\" rx=\"26.7961\" ry=\"26.7961\"/>\n<text text-anchor=\"middle\" x=\"394\" y=\"-272.6852\" font-family=\"Times,serif\" font-size=\"14.00\" fill=\"#000000\">q[6]</text>\n</g>\n<!-- [4]&#45;&gt;[6] -->\n<g id=\"edge10\" class=\"edge\">\n<title>[4]&#45;&gt;[6]</title>\n<path fill=\"none\" stroke=\"#000000\" d=\"M312.6992,-369.507C328.6074,-351.2858 352.1148,-324.3605 369.7659,-304.143\"/>\n<polygon fill=\"#000000\" stroke=\"#000000\" points=\"372.5138,-306.3173 376.454,-296.4824 367.2407,-301.7135 372.5138,-306.3173\"/>\n<text text-anchor=\"middle\" x=\"361\" y=\"-329.3825\" font-family=\"Times,serif\" font-size=\"14.00\" fill=\"#000000\">[&#39;u&#39;]</text>\n</g>\n<!-- [12]&#45;&gt;[] -->\n<g id=\"edge11\" class=\"edge\">\n<title>[12]&#45;&gt;[]</title>\n<path fill=\"none\" stroke=\"#000000\" d=\"M628.201,-472.0514C629.7172,-435.8199 629.0006,-374.6808 612,-325.5825 608.8541,-316.4969 603.229,-316.6388 600,-307.5825 563.0056,-203.8243 641.6918,-149.3209 576,-60.8962 560.8554,-40.5107 533.2894,-30.6148 511.569,-25.8373\"/>\n<polygon fill=\"#000000\" stroke=\"#000000\" points=\"511.9389,-22.344 501.456,-23.8796 510.6085,-29.2164 511.9389,-22.344\"/>\n<text text-anchor=\"middle\" x=\"666.5\" y=\"-272.6852\" font-family=\"Times,serif\" font-size=\"14.00\" fill=\"#000000\">[&#39;r&#39;, &#39;s&#39;, &#39;T&#39;, &#39;F&#39;, &#39;a&#39;, &#39;e&#39;, &#39;u&#39;]</text>\n</g>\n<!-- [14] -->\n<g id=\"node8\" class=\"node\">\n<title>[14]</title>\n<ellipse fill=\"none\" stroke=\"#000000\" cx=\"761\" cy=\"-389.7797\" rx=\"31.3957\" ry=\"31.3957\"/>\n<text text-anchor=\"middle\" x=\"761\" y=\"-386.0797\" font-family=\"Times,serif\" font-size=\"14.00\" fill=\"#000000\">q[14]</text>\n</g>\n<!-- [12]&#45;&gt;[14] -->\n<g id=\"edge12\" class=\"edge\">\n<title>[12]&#45;&gt;[14]</title>\n<path fill=\"none\" stroke=\"#000000\" d=\"M650.1353,-482.9015C672.2122,-464.3578 705.0218,-436.7991 729.2239,-416.4703\"/>\n<polygon fill=\"#000000\" stroke=\"#000000\" points=\"731.6676,-418.9886 737.0737,-409.8768 727.1653,-413.6286 731.6676,-418.9886\"/>\n<text text-anchor=\"middle\" x=\"710\" y=\"-442.7769\" font-family=\"Times,serif\" font-size=\"14.00\" fill=\"#000000\">[&#39;l&#39;]</text>\n</g>\n<!-- [6]&#45;&gt;[] -->\n<g id=\"edge13\" class=\"edge\">\n<title>[6]&#45;&gt;[]</title>\n<path fill=\"none\" stroke=\"#000000\" d=\"M394.4542,-249.5616C393.2529,-236.6848 389.5781,-221.9677 380,-212.188 356.0142,-187.6973 326.2235,-221.1078 305,-194.188 277.4031,-159.1842 280.2324,-130.9559 305,-93.8962 337.0194,-45.9857 407.2078,-29.7197 448.3033,-24.2249\"/>\n<polygon fill=\"#000000\" stroke=\"#000000\" points=\"448.8181,-27.6883 458.3295,-23.0211 447.9835,-20.7383 448.8181,-27.6883\"/>\n<text text-anchor=\"middle\" x=\"370\" y=\"-140.3421\" font-family=\"Times,serif\" font-size=\"14.00\" fill=\"#000000\">[&#39;r&#39;, &#39;s&#39;, &#39;T&#39;, &#39;F&#39;, &#39;a&#39;, &#39;l&#39;, &#39;u&#39;]</text>\n</g>\n<!-- [19, 7] -->\n<g id=\"node9\" class=\"node\">\n<title>[19, 7]</title>\n<ellipse fill=\"none\" stroke=\"#000000\" cx=\"489\" cy=\"-144.0421\" rx=\"40.8976\" ry=\"40.8976\"/>\n<ellipse fill=\"none\" stroke=\"#000000\" cx=\"489\" cy=\"-144.0421\" rx=\"44.8928\" ry=\"44.8928\"/>\n<text text-anchor=\"middle\" x=\"489\" y=\"-140.3421\" font-family=\"Times,serif\" font-size=\"14.00\" fill=\"#000000\">q[19, 7]</text>\n</g>\n<!-- [6]&#45;&gt;[19, 7] -->\n<g id=\"edge14\" class=\"edge\">\n<title>[6]&#45;&gt;[19, 7]</title>\n<path fill=\"none\" stroke=\"#000000\" d=\"M409.6873,-254.5315C422.4448,-236.7593 440.8684,-211.0936 456.7484,-188.9714\"/>\n<polygon fill=\"#000000\" stroke=\"#000000\" points=\"459.7047,-190.8549 462.6929,-180.6901 454.0181,-186.7728 459.7047,-190.8549\"/>\n<text text-anchor=\"middle\" x=\"448\" y=\"-215.988\" font-family=\"Times,serif\" font-size=\"14.00\" fill=\"#000000\">[&#39;e&#39;]</text>\n</g>\n<!-- [14]&#45;&gt;[] -->\n<g id=\"edge15\" class=\"edge\">\n<title>[14]&#45;&gt;[]</title>\n<path fill=\"none\" stroke=\"#000000\" d=\"M762.1704,-358.5108C761.9331,-327.63 757.7143,-280.0906 737,-245.188 730.3751,-234.0254 722.5989,-236.9118 714,-227.188 656.8694,-162.5837 682.2442,-113.6253 614,-60.8962 584.0903,-37.7864 540.9306,-28.1941 511.7413,-24.2258\"/>\n<polygon fill=\"#000000\" stroke=\"#000000\" points=\"512.0188,-20.7339 501.6699,-23.0036 511.1754,-27.6829 512.0188,-20.7339\"/>\n<text text-anchor=\"middle\" x=\"779.5\" y=\"-215.988\" font-family=\"Times,serif\" font-size=\"14.00\" fill=\"#000000\">[&#39;r&#39;, &#39;T&#39;, &#39;F&#39;, &#39;a&#39;, &#39;e&#39;, &#39;l&#39;, &#39;u&#39;]</text>\n</g>\n<!-- [16] -->\n<g id=\"node10\" class=\"node\">\n<title>[16]</title>\n<ellipse fill=\"none\" stroke=\"#000000\" cx=\"863\" cy=\"-276.3852\" rx=\"31.3957\" ry=\"31.3957\"/>\n<text text-anchor=\"middle\" x=\"863\" y=\"-272.6852\" font-family=\"Times,serif\" font-size=\"14.00\" fill=\"#000000\">q[16]</text>\n</g>\n<!-- [14]&#45;&gt;[16] -->\n<g id=\"edge16\" class=\"edge\">\n<title>[14]&#45;&gt;[16]</title>\n<path fill=\"none\" stroke=\"#000000\" d=\"M781.8874,-366.559C797.1869,-349.5503 818.1194,-326.2794 834.8873,-307.6384\"/>\n<polygon fill=\"#000000\" stroke=\"#000000\" points=\"837.7045,-309.74 841.7901,-299.9646 832.5002,-305.0586 837.7045,-309.74\"/>\n<text text-anchor=\"middle\" x=\"827.5\" y=\"-329.3825\" font-family=\"Times,serif\" font-size=\"14.00\" fill=\"#000000\">[&#39;s&#39;]</text>\n</g>\n<!-- [19, 7]&#45;&gt;[] -->\n<g id=\"edge17\" class=\"edge\">\n<title>[19, 7]&#45;&gt;[]</title>\n<path fill=\"none\" stroke=\"#000000\" d=\"M455.4499,-113.8917C447.324,-107.0527 438.519,-100.0094 430,-93.8962 417.3669,-84.8307 407.6611,-89.4271 400,-75.8962 386.8037,-52.5891 421.0678,-37.1952 448.7987,-28.8975\"/>\n<polygon fill=\"#000000\" stroke=\"#000000\" points=\"449.9268,-32.2165 458.6198,-26.1599 448.0472,-25.4736 449.9268,-32.2165\"/>\n<text text-anchor=\"middle\" x=\"474\" y=\"-64.6962\" font-family=\"Times,serif\" font-size=\"14.00\" fill=\"#000000\">[&#39;r&#39;, &#39;s&#39;, &#39;T&#39;, &#39;F&#39;, &#39;a&#39;, &#39;e&#39;, &#39;l&#39;, &#39;u&#39;]</text>\n</g>\n<!-- [16]&#45;&gt;[] -->\n<g id=\"edge18\" class=\"edge\">\n<title>[16]&#45;&gt;[]</title>\n<path fill=\"none\" stroke=\"#000000\" d=\"M859.1359,-245.4275C857.0397,-234.5707 853.8439,-222.5158 849,-212.188 812.7897,-134.9833 804.4828,-104.163 731,-60.8962 694.4105,-39.3522 570.9035,-27.902 511.8994,-23.548\"/>\n<polygon fill=\"#000000\" stroke=\"#000000\" points=\"511.8923,-20.0386 501.6682,-22.8167 511.3932,-27.0208 511.8923,-20.0386\"/>\n<text text-anchor=\"middle\" x=\"904\" y=\"-140.3421\" font-family=\"Times,serif\" font-size=\"14.00\" fill=\"#000000\">[&#39;r&#39;, &#39;s&#39;, &#39;T&#39;, &#39;F&#39;, &#39;a&#39;, &#39;l&#39;, &#39;u&#39;]</text>\n</g>\n<!-- [17, 19] -->\n<g id=\"node11\" class=\"node\">\n<title>[17, 19]</title>\n<ellipse fill=\"none\" stroke=\"#000000\" cx=\"1061\" cy=\"-144.0421\" rx=\"46.2806\" ry=\"46.2806\"/>\n<ellipse fill=\"none\" stroke=\"#000000\" cx=\"1061\" cy=\"-144.0421\" rx=\"50.2922\" ry=\"50.2922\"/>\n<text text-anchor=\"middle\" x=\"1061\" y=\"-140.3421\" font-family=\"Times,serif\" font-size=\"14.00\" fill=\"#000000\">q[17, 19]</text>\n</g>\n<!-- [16]&#45;&gt;[17, 19] -->\n<g id=\"edge19\" class=\"edge\">\n<title>[16]&#45;&gt;[17, 19]</title>\n<path fill=\"none\" stroke=\"#000000\" d=\"M890.2716,-260.8919C917.7642,-244.9886 961.1439,-219.1111 997,-194.188 1002.5291,-190.3448 1008.2198,-186.1927 1013.82,-181.9803\"/>\n<polygon fill=\"#000000\" stroke=\"#000000\" points=\"1016.102,-184.6417 1021.9308,-175.7943 1011.8569,-179.0757 1016.102,-184.6417\"/>\n<text text-anchor=\"middle\" x=\"978\" y=\"-215.988\" font-family=\"Times,serif\" font-size=\"14.00\" fill=\"#000000\">[&#39;e&#39;]</text>\n</g>\n<!-- [17, 19]&#45;&gt;[] -->\n<g id=\"edge20\" class=\"edge\">\n<title>[17, 19]&#45;&gt;[]</title>\n<path fill=\"none\" stroke=\"#000000\" d=\"M1023.4079,-110.6489C1015.1111,-104.4336 1006.0773,-98.4672 997,-93.8962 947.5969,-69.0188 931.3825,-71.0004 877,-60.8962 742.5498,-35.9156 579.3462,-26.0029 511.7133,-22.7749\"/>\n<polygon fill=\"#000000\" stroke=\"#000000\" points=\"511.849,-19.2775 501.6983,-22.3129 511.5264,-26.2701 511.849,-19.2775\"/>\n<text text-anchor=\"middle\" x=\"1027\" y=\"-64.6962\" font-family=\"Times,serif\" font-size=\"14.00\" fill=\"#000000\">[&#39;r&#39;, &#39;s&#39;, &#39;T&#39;, &#39;F&#39;, &#39;a&#39;, &#39;e&#39;, &#39;l&#39;, &#39;u&#39;]</text>\n</g>\n</g>\n</svg>\n"
          },
          "metadata": {},
          "execution_count": 58
        }
      ]
    },
    {
      "cell_type": "code",
      "source": [
        "info = dfa_born(regex_to_NFA('(Null)|(null)|(NULL)')[0])\n",
        "draw_DFA(info,\"regex Null_DFA\")"
      ],
      "metadata": {
        "id": "_2CrMqgY-5Rz",
        "colab": {
          "base_uri": "https://localhost:8080/",
          "height": 1000
        },
        "outputId": "1e80f0b4-b2f3-4e03-9509-4adabc3ba663"
      },
      "execution_count": 59,
      "outputs": [
        {
          "output_type": "execute_result",
          "data": {
            "text/plain": [
              "<graphviz.dot.Digraph at 0x7fe33dd6e210>"
            ],
            "image/svg+xml": "<?xml version=\"1.0\" encoding=\"UTF-8\" standalone=\"no\"?>\n<!DOCTYPE svg PUBLIC \"-//W3C//DTD SVG 1.1//EN\"\n \"http://www.w3.org/Graphics/SVG/1.1/DTD/svg11.dtd\">\n<!-- Generated by graphviz version 2.40.1 (20161225.0304)\n -->\n<!-- Title: %3 Pages: 1 -->\n<svg width=\"1242pt\" height=\"801pt\"\n viewBox=\"0.00 0.00 1242.44 801.35\" xmlns=\"http://www.w3.org/2000/svg\" xmlns:xlink=\"http://www.w3.org/1999/xlink\">\n<g id=\"graph0\" class=\"graph\" transform=\"scale(1 1) rotate(0) translate(4 797.3529)\">\n<title>%3</title>\n<polygon fill=\"#ffffff\" stroke=\"transparent\" points=\"-4,4 -4,-797.3529 1238.4446,-797.3529 1238.4446,4 -4,4\"/>\n<!-- [0, 8, 16, 18, 26] -->\n<g id=\"node1\" class=\"node\">\n<title>[0, 8, 16, 18, 26]</title>\n<ellipse fill=\"none\" stroke=\"#000000\" cx=\"677\" cy=\"-713.41\" rx=\"79.8859\" ry=\"79.8859\"/>\n<text text-anchor=\"middle\" x=\"677\" y=\"-709.71\" font-family=\"Times,serif\" font-size=\"14.00\" fill=\"#000000\">q[0, 8, 16, 18, 26]</text>\n</g>\n<!-- [2, 20] -->\n<g id=\"node2\" class=\"node\">\n<title>[2, 20]</title>\n<ellipse fill=\"none\" stroke=\"#000000\" cx=\"303\" cy=\"-541.5208\" rx=\"40.8928\" ry=\"40.8928\"/>\n<text text-anchor=\"middle\" x=\"303\" y=\"-537.8208\" font-family=\"Times,serif\" font-size=\"14.00\" fill=\"#000000\">q[2, 20]</text>\n</g>\n<!-- [0, 8, 16, 18, 26]&#45;&gt;[2, 20] -->\n<g id=\"edge1\" class=\"edge\">\n<title>[0, 8, 16, 18, 26]&#45;&gt;[2, 20]</title>\n<path fill=\"none\" stroke=\"#000000\" d=\"M604.0012,-679.86C528.7828,-645.2899 413.7711,-592.4308 349.8915,-563.072\"/>\n<polygon fill=\"#000000\" stroke=\"#000000\" points=\"351.0183,-559.7379 340.4704,-558.742 348.095,-566.0983 351.0183,-559.7379\"/>\n<text text-anchor=\"middle\" x=\"468.5\" y=\"-604.2671\" font-family=\"Times,serif\" font-size=\"14.00\" fill=\"#000000\">[&#39;N&#39;]</text>\n</g>\n<!-- [] -->\n<g id=\"node3\" class=\"node\">\n<title>[]</title>\n<ellipse fill=\"none\" stroke=\"#000000\" cx=\"491\" cy=\"-21.4481\" rx=\"21.3963\" ry=\"21.3963\"/>\n<text text-anchor=\"middle\" x=\"491\" y=\"-17.7481\" font-family=\"Times,serif\" font-size=\"14.00\" fill=\"#000000\">q[]</text>\n</g>\n<!-- [0, 8, 16, 18, 26]&#45;&gt;[] -->\n<g id=\"edge2\" class=\"edge\">\n<title>[0, 8, 16, 18, 26]&#45;&gt;[]</title>\n<path fill=\"none\" stroke=\"#000000\" d=\"M671.5258,-633.6145C667.7128,-560.6513 664.9194,-449.8519 675,-354.1799 681.2567,-294.7999 696.7433,-282.1655 703,-222.7855 709.0026,-165.8167 724.0924,-147.1558 703,-93.8962 695.5906,-75.1869 689.5069,-70.8183 672,-60.8962 646.7442,-46.5824 567.0997,-32.8394 522.334,-25.9802\"/>\n<polygon fill=\"#000000\" stroke=\"#000000\" points=\"522.6959,-22.4953 512.2861,-24.4665 521.6531,-29.4172 522.6959,-22.4953\"/>\n<text text-anchor=\"middle\" x=\"715.5\" y=\"-357.9799\" font-family=\"Times,serif\" font-size=\"14.00\" fill=\"#000000\">[&#39;U&#39;, &#39;L&#39;, &#39;l&#39;, &#39;u&#39;]</text>\n</g>\n<!-- [10] -->\n<g id=\"node4\" class=\"node\">\n<title>[10]</title>\n<ellipse fill=\"none\" stroke=\"#000000\" cx=\"773\" cy=\"-541.5208\" rx=\"31.3957\" ry=\"31.3957\"/>\n<text text-anchor=\"middle\" x=\"773\" y=\"-537.8208\" font-family=\"Times,serif\" font-size=\"14.00\" fill=\"#000000\">q[10]</text>\n</g>\n<!-- [0, 8, 16, 18, 26]&#45;&gt;[10] -->\n<g id=\"edge3\" class=\"edge\">\n<title>[0, 8, 16, 18, 26]&#45;&gt;[10]</title>\n<path fill=\"none\" stroke=\"#000000\" d=\"M716.0469,-643.4961C728.627,-620.9711 742.0578,-596.9231 752.7156,-577.8403\"/>\n<polygon fill=\"#000000\" stroke=\"#000000\" points=\"755.8885,-579.3369 757.7089,-568.8996 749.7771,-575.9236 755.8885,-579.3369\"/>\n<text text-anchor=\"middle\" x=\"750\" y=\"-604.2671\" font-family=\"Times,serif\" font-size=\"14.00\" fill=\"#000000\">[&#39;n&#39;]</text>\n</g>\n<!-- [2, 20]&#45;&gt;[] -->\n<g id=\"edge4\" class=\"edge\">\n<title>[2, 20]&#45;&gt;[]</title>\n<path fill=\"none\" stroke=\"#000000\" d=\"M262.4505,-533.8891C179.8857,-517.1893 0,-474.379 0,-418.3772 0,-418.3772 0,-418.3772 0,-158.3408 0,-119.8069 26.082,-115.4856 58,-93.8962 93.2894,-70.0263 106.5469,-70.7324 148,-60.8962 260.5126,-34.1988 398.2351,-25.3367 459.2777,-22.5903\"/>\n<polygon fill=\"#000000\" stroke=\"#000000\" points=\"459.5793,-26.0807 469.4217,-22.1592 459.282,-19.0871 459.5793,-26.0807\"/>\n<text text-anchor=\"middle\" x=\"40.5\" y=\"-301.2827\" font-family=\"Times,serif\" font-size=\"14.00\" fill=\"#000000\">[&#39;N&#39;, &#39;L&#39;, &#39;l&#39;, &#39;n&#39;]</text>\n</g>\n<!-- [22] -->\n<g id=\"node5\" class=\"node\">\n<title>[22]</title>\n<ellipse fill=\"none\" stroke=\"#000000\" cx=\"266\" cy=\"-418.3772\" rx=\"31.3957\" ry=\"31.3957\"/>\n<text text-anchor=\"middle\" x=\"266\" y=\"-414.6772\" font-family=\"Times,serif\" font-size=\"14.00\" fill=\"#000000\">q[22]</text>\n</g>\n<!-- [2, 20]&#45;&gt;[22] -->\n<g id=\"edge5\" class=\"edge\">\n<title>[2, 20]&#45;&gt;[22]</title>\n<path fill=\"none\" stroke=\"#000000\" d=\"M291.1912,-502.2188C286.9707,-488.1719 282.2131,-472.3378 277.9784,-458.2438\"/>\n<polygon fill=\"#000000\" stroke=\"#000000\" points=\"281.232,-456.909 275.0024,-448.3391 274.5281,-458.9233 281.232,-456.909\"/>\n<text text-anchor=\"middle\" x=\"296.5\" y=\"-471.3744\" font-family=\"Times,serif\" font-size=\"14.00\" fill=\"#000000\">[&#39;U&#39;]</text>\n</g>\n<!-- [4] -->\n<g id=\"node6\" class=\"node\">\n<title>[4]</title>\n<ellipse fill=\"none\" stroke=\"#000000\" cx=\"354\" cy=\"-418.3772\" rx=\"26.7961\" ry=\"26.7961\"/>\n<text text-anchor=\"middle\" x=\"354\" y=\"-414.6772\" font-family=\"Times,serif\" font-size=\"14.00\" fill=\"#000000\">q[4]</text>\n</g>\n<!-- [2, 20]&#45;&gt;[4] -->\n<g id=\"edge6\" class=\"edge\">\n<title>[2, 20]&#45;&gt;[4]</title>\n<path fill=\"none\" stroke=\"#000000\" d=\"M318.7178,-503.5688C325.4558,-487.2995 333.2677,-468.4369 339.8256,-452.6024\"/>\n<polygon fill=\"#000000\" stroke=\"#000000\" points=\"343.1331,-453.7631 343.7259,-443.1848 336.6658,-451.0846 343.1331,-453.7631\"/>\n<text text-anchor=\"middle\" x=\"344\" y=\"-471.3744\" font-family=\"Times,serif\" font-size=\"14.00\" fill=\"#000000\">[&#39;u&#39;]</text>\n</g>\n<!-- []&#45;&gt;[] -->\n<g id=\"edge7\" class=\"edge\">\n<title>[]&#45;&gt;[]</title>\n<path fill=\"none\" stroke=\"#000000\" d=\"M510.8914,-29.7699C521.1768,-31.0501 530.4481,-28.2762 530.4481,-21.4481 530.4481,-17.0738 526.6431,-14.3634 521.2042,-13.3168\"/>\n<polygon fill=\"#000000\" stroke=\"#000000\" points=\"520.9544,-9.8117 510.8914,-13.1263 520.825,-16.8105 520.9544,-9.8117\"/>\n<text text-anchor=\"middle\" x=\"591.9481\" y=\"-17.7481\" font-family=\"Times,serif\" font-size=\"14.00\" fill=\"#000000\">[&#39;N&#39;, &#39;U&#39;, &#39;L&#39;, &#39;l&#39;, &#39;n&#39;, &#39;u&#39;]</text>\n</g>\n<!-- [10]&#45;&gt;[] -->\n<g id=\"edge8\" class=\"edge\">\n<title>[10]&#45;&gt;[]</title>\n<path fill=\"none\" stroke=\"#000000\" d=\"M770.8527,-510.2899C763.5373,-404.3576 739.8286,-65.0498 736,-60.8962 721.6811,-45.3619 585.4672,-30.4733 522.5617,-24.3609\"/>\n<polygon fill=\"#000000\" stroke=\"#000000\" points=\"522.7061,-20.8589 512.418,-23.3898 522.0389,-27.827 522.7061,-20.8589\"/>\n<text text-anchor=\"middle\" x=\"809.5\" y=\"-301.2827\" font-family=\"Times,serif\" font-size=\"14.00\" fill=\"#000000\">[&#39;N&#39;, &#39;U&#39;, &#39;L&#39;, &#39;l&#39;, &#39;n&#39;]</text>\n</g>\n<!-- [12] -->\n<g id=\"node7\" class=\"node\">\n<title>[12]</title>\n<ellipse fill=\"none\" stroke=\"#000000\" cx=\"891\" cy=\"-418.3772\" rx=\"31.3957\" ry=\"31.3957\"/>\n<text text-anchor=\"middle\" x=\"891\" y=\"-414.6772\" font-family=\"Times,serif\" font-size=\"14.00\" fill=\"#000000\">q[12]</text>\n</g>\n<!-- [10]&#45;&gt;[12] -->\n<g id=\"edge9\" class=\"edge\">\n<title>[10]&#45;&gt;[12]</title>\n<path fill=\"none\" stroke=\"#000000\" d=\"M794.643,-518.9343C813.5694,-499.1829 841.2086,-470.339 862.0368,-448.6028\"/>\n<polygon fill=\"#000000\" stroke=\"#000000\" points=\"864.703,-450.8793 869.0946,-441.2374 859.6488,-446.0362 864.703,-450.8793\"/>\n<text text-anchor=\"middle\" x=\"853\" y=\"-471.3744\" font-family=\"Times,serif\" font-size=\"14.00\" fill=\"#000000\">[&#39;u&#39;]</text>\n</g>\n<!-- [22]&#45;&gt;[] -->\n<g id=\"edge10\" class=\"edge\">\n<title>[22]&#45;&gt;[]</title>\n<path fill=\"none\" stroke=\"#000000\" d=\"M239.5276,-401.554C201.5206,-375.6347 133.0901,-321.9371 106,-255.7855 87.6801,-211.05 -5.7687,-310.2557 136,-93.8962 149.9887,-72.5474 159.2015,-70.1204 183,-60.8962 232.9792,-41.5244 391.1643,-28.4449 459.2877,-23.5713\"/>\n<polygon fill=\"#000000\" stroke=\"#000000\" points=\"459.6872,-27.0519 469.4174,-22.8599 459.1967,-20.0691 459.6872,-27.0519\"/>\n<text text-anchor=\"middle\" x=\"157\" y=\"-244.5855\" font-family=\"Times,serif\" font-size=\"14.00\" fill=\"#000000\">[&#39;N&#39;, &#39;U&#39;, &#39;l&#39;, &#39;n&#39;, &#39;u&#39;]</text>\n</g>\n<!-- [24] -->\n<g id=\"node8\" class=\"node\">\n<title>[24]</title>\n<ellipse fill=\"none\" stroke=\"#000000\" cx=\"266\" cy=\"-304.9827\" rx=\"31.3957\" ry=\"31.3957\"/>\n<text text-anchor=\"middle\" x=\"266\" y=\"-301.2827\" font-family=\"Times,serif\" font-size=\"14.00\" fill=\"#000000\">q[24]</text>\n</g>\n<!-- [22]&#45;&gt;[24] -->\n<g id=\"edge11\" class=\"edge\">\n<title>[22]&#45;&gt;[24]</title>\n<path fill=\"none\" stroke=\"#000000\" d=\"M266,-387.0915C266,-374.677 266,-360.2131 266,-346.9142\"/>\n<polygon fill=\"#000000\" stroke=\"#000000\" points=\"269.5001,-346.5599 266,-336.56 262.5001,-346.56 269.5001,-346.5599\"/>\n<text text-anchor=\"middle\" x=\"277.5\" y=\"-357.9799\" font-family=\"Times,serif\" font-size=\"14.00\" fill=\"#000000\">[&#39;L&#39;]</text>\n</g>\n<!-- [4]&#45;&gt;[] -->\n<g id=\"edge12\" class=\"edge\">\n<title>[4]&#45;&gt;[]</title>\n<path fill=\"none\" stroke=\"#000000\" d=\"M345.7018,-392.7245C335.517,-356.1637 322.8239,-288.2493 351,-240.7855 359.5281,-226.4195 372.5798,-234.9793 384,-222.7855 438.2053,-164.9079 417.0341,-128.1784 459,-60.8962 462.229,-55.7193 466.05,-50.4592 469.9071,-45.5392\"/>\n<polygon fill=\"#000000\" stroke=\"#000000\" points=\"472.7288,-47.6171 476.3344,-37.6546 467.3031,-43.1942 472.7288,-47.6171\"/>\n<text text-anchor=\"middle\" x=\"404.5\" y=\"-244.5855\" font-family=\"Times,serif\" font-size=\"14.00\" fill=\"#000000\">[&#39;N&#39;, &#39;U&#39;, &#39;L&#39;, &#39;n&#39;, &#39;u&#39;]</text>\n</g>\n<!-- [6] -->\n<g id=\"node9\" class=\"node\">\n<title>[6]</title>\n<ellipse fill=\"none\" stroke=\"#000000\" cx=\"476\" cy=\"-304.9827\" rx=\"26.7961\" ry=\"26.7961\"/>\n<text text-anchor=\"middle\" x=\"476\" y=\"-301.2827\" font-family=\"Times,serif\" font-size=\"14.00\" fill=\"#000000\">q[6]</text>\n</g>\n<!-- [4]&#45;&gt;[6] -->\n<g id=\"edge13\" class=\"edge\">\n<title>[4]&#45;&gt;[6]</title>\n<path fill=\"none\" stroke=\"#000000\" d=\"M373.6014,-400.1584C394.0557,-381.1469 426.2684,-351.2064 449.096,-329.989\"/>\n<polygon fill=\"#000000\" stroke=\"#000000\" points=\"451.5053,-332.528 456.4472,-323.1563 446.7397,-327.4007 451.5053,-332.528\"/>\n<text text-anchor=\"middle\" x=\"431\" y=\"-357.9799\" font-family=\"Times,serif\" font-size=\"14.00\" fill=\"#000000\">[&#39;l&#39;]</text>\n</g>\n<!-- [12]&#45;&gt;[] -->\n<g id=\"edge14\" class=\"edge\">\n<title>[12]&#45;&gt;[]</title>\n<path fill=\"none\" stroke=\"#000000\" d=\"M888.0708,-387.1316C884.7672,-357.5024 878.3178,-311.9666 867,-273.7855 865.166,-267.5983 779.1423,-64.795 774,-60.8962 735.057,-31.3703 588.4196,-23.9261 522.931,-22.0632\"/>\n<polygon fill=\"#000000\" stroke=\"#000000\" points=\"522.8678,-18.5605 512.7808,-21.8012 522.6871,-25.5582 522.8678,-18.5605\"/>\n<text text-anchor=\"middle\" x=\"912.5\" y=\"-244.5855\" font-family=\"Times,serif\" font-size=\"14.00\" fill=\"#000000\">[&#39;N&#39;, &#39;U&#39;, &#39;L&#39;, &#39;n&#39;, &#39;u&#39;]</text>\n</g>\n<!-- [14] -->\n<g id=\"node10\" class=\"node\">\n<title>[14]</title>\n<ellipse fill=\"none\" stroke=\"#000000\" cx=\"981\" cy=\"-304.9827\" rx=\"31.3957\" ry=\"31.3957\"/>\n<text text-anchor=\"middle\" x=\"981\" y=\"-301.2827\" font-family=\"Times,serif\" font-size=\"14.00\" fill=\"#000000\">q[14]</text>\n</g>\n<!-- [12]&#45;&gt;[14] -->\n<g id=\"edge15\" class=\"edge\">\n<title>[12]&#45;&gt;[14]</title>\n<path fill=\"none\" stroke=\"#000000\" d=\"M910.5287,-393.7723C923.6197,-377.2783 940.9991,-355.3814 955.2229,-337.4602\"/>\n<polygon fill=\"#000000\" stroke=\"#000000\" points=\"958.0341,-339.5482 961.5095,-329.5396 952.5512,-335.1965 958.0341,-339.5482\"/>\n<text text-anchor=\"middle\" x=\"950\" y=\"-357.9799\" font-family=\"Times,serif\" font-size=\"14.00\" fill=\"#000000\">[&#39;l&#39;]</text>\n</g>\n<!-- [24]&#45;&gt;[] -->\n<g id=\"edge16\" class=\"edge\">\n<title>[24]&#45;&gt;[]</title>\n<path fill=\"none\" stroke=\"#000000\" d=\"M248.7945,-278.7374C239.2433,-265.8526 226.3924,-250.9545 212,-240.7855 193.3921,-227.6379 176.9777,-241.5122 164,-222.7855 131.3713,-175.7022 131.1156,-140.8012 164,-93.8962 197.8834,-45.5663 383.6748,-28.3282 459.1299,-23.2629\"/>\n<polygon fill=\"#000000\" stroke=\"#000000\" points=\"459.6756,-26.7352 469.4308,-22.6016 459.2271,-19.7495 459.6756,-26.7352\"/>\n<text text-anchor=\"middle\" x=\"215\" y=\"-154.6408\" font-family=\"Times,serif\" font-size=\"14.00\" fill=\"#000000\">[&#39;N&#39;, &#39;U&#39;, &#39;l&#39;, &#39;n&#39;, &#39;u&#39;]</text>\n</g>\n<!-- [25, 27] -->\n<g id=\"node11\" class=\"node\">\n<title>[25, 27]</title>\n<ellipse fill=\"none\" stroke=\"#000000\" cx=\"325\" cy=\"-158.3408\" rx=\"46.2806\" ry=\"46.2806\"/>\n<ellipse fill=\"none\" stroke=\"#000000\" cx=\"325\" cy=\"-158.3408\" rx=\"50.2922\" ry=\"50.2922\"/>\n<text text-anchor=\"middle\" x=\"325\" y=\"-154.6408\" font-family=\"Times,serif\" font-size=\"14.00\" fill=\"#000000\">q[25, 27]</text>\n</g>\n<!-- [24]&#45;&gt;[25, 27] -->\n<g id=\"edge17\" class=\"edge\">\n<title>[24]&#45;&gt;[25, 27]</title>\n<path fill=\"none\" stroke=\"#000000\" d=\"M277.6565,-276.011C284.7042,-258.4943 293.9283,-235.5682 302.3606,-214.61\"/>\n<polygon fill=\"#000000\" stroke=\"#000000\" points=\"305.6829,-215.7293 306.1685,-205.1456 299.1888,-213.1164 305.6829,-215.7293\"/>\n<text text-anchor=\"middle\" x=\"301.5\" y=\"-244.5855\" font-family=\"Times,serif\" font-size=\"14.00\" fill=\"#000000\">[&#39;L&#39;]</text>\n</g>\n<!-- [6]&#45;&gt;[] -->\n<g id=\"edge18\" class=\"edge\">\n<title>[6]&#45;&gt;[]</title>\n<path fill=\"none\" stroke=\"#000000\" d=\"M470.3017,-278.7407C467.7699,-267.1103 464.7469,-253.2629 462,-240.7855 460.238,-232.782 458.8942,-230.9317 458,-222.7855 451.7493,-165.8434 445.8509,-149.8772 458,-93.8962 461.373,-78.3539 468.3812,-62.1463 475.0751,-49.0116\"/>\n<polygon fill=\"#000000\" stroke=\"#000000\" points=\"478.2382,-50.5175 479.8372,-40.044 472.0559,-47.2344 478.2382,-50.5175\"/>\n<text text-anchor=\"middle\" x=\"511.5\" y=\"-154.6408\" font-family=\"Times,serif\" font-size=\"14.00\" fill=\"#000000\">[&#39;N&#39;, &#39;U&#39;, &#39;L&#39;, &#39;n&#39;, &#39;u&#39;]</text>\n</g>\n<!-- [17, 27, 7] -->\n<g id=\"node12\" class=\"node\">\n<title>[17, 27, 7]</title>\n<ellipse fill=\"none\" stroke=\"#000000\" cx=\"634\" cy=\"-158.3408\" rx=\"55.7973\" ry=\"55.7973\"/>\n<ellipse fill=\"none\" stroke=\"#000000\" cx=\"634\" cy=\"-158.3408\" rx=\"59.7903\" ry=\"59.7903\"/>\n<text text-anchor=\"middle\" x=\"634\" y=\"-154.6408\" font-family=\"Times,serif\" font-size=\"14.00\" fill=\"#000000\">q[17, 27, 7]</text>\n</g>\n<!-- [6]&#45;&gt;[17, 27, 7] -->\n<g id=\"edge19\" class=\"edge\">\n<title>[6]&#45;&gt;[17, 27, 7]</title>\n<path fill=\"none\" stroke=\"#000000\" d=\"M495.6913,-286.7069C517.2733,-266.6764 552.7719,-233.7297 582.401,-206.2305\"/>\n<polygon fill=\"#000000\" stroke=\"#000000\" points=\"584.8467,-208.7359 589.7953,-199.3678 580.0847,-203.6051 584.8467,-208.7359\"/>\n<text text-anchor=\"middle\" x=\"549\" y=\"-244.5855\" font-family=\"Times,serif\" font-size=\"14.00\" fill=\"#000000\">[&#39;l&#39;]</text>\n</g>\n<!-- [14]&#45;&gt;[] -->\n<g id=\"edge20\" class=\"edge\">\n<title>[14]&#45;&gt;[]</title>\n<path fill=\"none\" stroke=\"#000000\" d=\"M977.5724,-273.6804C969.8032,-219.6745 945.4762,-110.0649 873,-60.8962 844.2336,-41.3807 608.8178,-27.4818 522.5394,-23\"/>\n<polygon fill=\"#000000\" stroke=\"#000000\" points=\"522.7136,-19.5044 512.5478,-22.4886 522.3558,-26.4953 522.7136,-19.5044\"/>\n<text text-anchor=\"middle\" x=\"1020.5\" y=\"-154.6408\" font-family=\"Times,serif\" font-size=\"14.00\" fill=\"#000000\">[&#39;N&#39;, &#39;U&#39;, &#39;L&#39;, &#39;n&#39;, &#39;u&#39;]</text>\n</g>\n<!-- [17, 27, 15] -->\n<g id=\"node13\" class=\"node\">\n<title>[17, 27, 15]</title>\n<ellipse fill=\"none\" stroke=\"#000000\" cx=\"1170\" cy=\"-158.3408\" rx=\"60.3928\" ry=\"60.3928\"/>\n<ellipse fill=\"none\" stroke=\"#000000\" cx=\"1170\" cy=\"-158.3408\" rx=\"64.3893\" ry=\"64.3893\"/>\n<text text-anchor=\"middle\" x=\"1170\" y=\"-154.6408\" font-family=\"Times,serif\" font-size=\"14.00\" fill=\"#000000\">q[17, 27, 15]</text>\n</g>\n<!-- [14]&#45;&gt;[17, 27, 15] -->\n<g id=\"edge21\" class=\"edge\">\n<title>[14]&#45;&gt;[17, 27, 15]</title>\n<path fill=\"none\" stroke=\"#000000\" d=\"M1006.4148,-286.7514C1029.1008,-270.3389 1063.1058,-245.3944 1092,-222.7855 1098.6619,-217.5727 1105.5776,-212.0406 1112.4158,-206.4939\"/>\n<polygon fill=\"#000000\" stroke=\"#000000\" points=\"1114.8491,-209.0259 1120.3877,-199.9941 1110.4256,-203.6006 1114.8491,-209.0259\"/>\n<text text-anchor=\"middle\" x=\"1077\" y=\"-244.5855\" font-family=\"Times,serif\" font-size=\"14.00\" fill=\"#000000\">[&#39;l&#39;]</text>\n</g>\n<!-- [25, 27]&#45;&gt;[] -->\n<g id=\"edge22\" class=\"edge\">\n<title>[25, 27]&#45;&gt;[]</title>\n<path fill=\"none\" stroke=\"#000000\" d=\"M285.9598,-126.8678C265.9199,-106.9361 248.9557,-81.1888 266,-60.8962 290.3217,-31.9393 403.2724,-24.2335 459.3049,-22.1865\"/>\n<polygon fill=\"#000000\" stroke=\"#000000\" points=\"459.51,-25.6817 469.3904,-21.857 459.2814,-18.6855 459.51,-25.6817\"/>\n<text text-anchor=\"middle\" x=\"327.5\" y=\"-64.6962\" font-family=\"Times,serif\" font-size=\"14.00\" fill=\"#000000\">[&#39;N&#39;, &#39;U&#39;, &#39;L&#39;, &#39;l&#39;, &#39;n&#39;, &#39;u&#39;]</text>\n</g>\n<!-- [17, 27, 7]&#45;&gt;[] -->\n<g id=\"edge23\" class=\"edge\">\n<title>[17, 27, 7]&#45;&gt;[]</title>\n<path fill=\"none\" stroke=\"#000000\" d=\"M590.7072,-116.897C565.4866,-92.7535 534.6895,-63.2717 514.0551,-43.5186\"/>\n<polygon fill=\"#000000\" stroke=\"#000000\" points=\"516.3212,-40.8427 506.6772,-36.4558 511.4806,-45.8992 516.3212,-40.8427\"/>\n<text text-anchor=\"middle\" x=\"606.5\" y=\"-64.6962\" font-family=\"Times,serif\" font-size=\"14.00\" fill=\"#000000\">[&#39;N&#39;, &#39;U&#39;, &#39;L&#39;, &#39;l&#39;, &#39;n&#39;, &#39;u&#39;]</text>\n</g>\n<!-- [17, 27, 15]&#45;&gt;[] -->\n<g id=\"edge24\" class=\"edge\">\n<title>[17, 27, 15]&#45;&gt;[]</title>\n<path fill=\"none\" stroke=\"#000000\" d=\"M1122.4602,-114.5428C1112.8213,-106.9958 1102.4292,-99.7192 1092,-93.8962 1052.24,-71.6967 1039.6024,-70.0777 995,-60.8962 903.9475,-42.1528 618.4801,-27.4178 522.6946,-22.8916\"/>\n<polygon fill=\"#000000\" stroke=\"#000000\" points=\"522.6399,-19.3853 512.4873,-22.4142 522.3128,-26.3777 522.6399,-19.3853\"/>\n<text text-anchor=\"middle\" x=\"1114.5\" y=\"-64.6962\" font-family=\"Times,serif\" font-size=\"14.00\" fill=\"#000000\">[&#39;N&#39;, &#39;U&#39;, &#39;L&#39;, &#39;l&#39;, &#39;n&#39;, &#39;u&#39;]</text>\n</g>\n</g>\n</svg>\n"
          },
          "metadata": {},
          "execution_count": 59
        }
      ]
    },
    {
      "cell_type": "code",
      "source": [
        "info = dfa_born(regex_to_NFA('{')[0])\n",
        "draw_DFA(info,\"regex Left_Key_DFA\")"
      ],
      "metadata": {
        "id": "Aedv1Pne_Gf0",
        "colab": {
          "base_uri": "https://localhost:8080/",
          "height": 377
        },
        "outputId": "4c2ece50-b1b1-4436-fa47-d1990d9b9a4d"
      },
      "execution_count": 60,
      "outputs": [
        {
          "output_type": "execute_result",
          "data": {
            "text/plain": [
              "<graphviz.dot.Digraph at 0x7fe33ddbb3d0>"
            ],
            "image/svg+xml": "<?xml version=\"1.0\" encoding=\"UTF-8\" standalone=\"no\"?>\n<!DOCTYPE svg PUBLIC \"-//W3C//DTD SVG 1.1//EN\"\n \"http://www.w3.org/Graphics/SVG/1.1/DTD/svg11.dtd\">\n<!-- Generated by graphviz version 2.40.1 (20161225.0304)\n -->\n<!-- Title: %3 Pages: 1 -->\n<svg width=\"99pt\" height=\"267pt\"\n viewBox=\"0.00 0.00 99.10 267.49\" xmlns=\"http://www.w3.org/2000/svg\" xmlns:xlink=\"http://www.w3.org/1999/xlink\">\n<g id=\"graph0\" class=\"graph\" transform=\"scale(1 1) rotate(0) translate(4 263.4867)\">\n<title>%3</title>\n<polygon fill=\"#ffffff\" stroke=\"transparent\" points=\"-4,4 -4,-263.4867 95.0957,-263.4867 95.0957,4 -4,4\"/>\n<!-- [0] -->\n<g id=\"node1\" class=\"node\">\n<title>[0]</title>\n<ellipse fill=\"none\" stroke=\"#000000\" cx=\"30.6476\" cy=\"-232.8391\" rx=\"26.7961\" ry=\"26.7961\"/>\n<text text-anchor=\"middle\" x=\"30.6476\" y=\"-229.1391\" font-family=\"Times,serif\" font-size=\"14.00\" fill=\"#000000\">q[0]</text>\n</g>\n<!-- [1] -->\n<g id=\"node2\" class=\"node\">\n<title>[1]</title>\n<ellipse fill=\"none\" stroke=\"#000000\" cx=\"30.6476\" cy=\"-124.5438\" rx=\"26.7766\" ry=\"26.7766\"/>\n<ellipse fill=\"none\" stroke=\"#000000\" cx=\"30.6476\" cy=\"-124.5438\" rx=\"30.796\" ry=\"30.796\"/>\n<text text-anchor=\"middle\" x=\"30.6476\" y=\"-120.8438\" font-family=\"Times,serif\" font-size=\"14.00\" fill=\"#000000\">q[1]</text>\n</g>\n<!-- [0]&#45;&gt;[1] -->\n<g id=\"edge1\" class=\"edge\">\n<title>[0]&#45;&gt;[1]</title>\n<path fill=\"none\" stroke=\"#000000\" d=\"M30.6476,-206.0695C30.6476,-193.791 30.6476,-178.9637 30.6476,-165.3393\"/>\n<polygon fill=\"#000000\" stroke=\"#000000\" points=\"34.1477,-165.2172 30.6476,-155.2172 27.1477,-165.2172 34.1477,-165.2172\"/>\n<text text-anchor=\"middle\" x=\"41.1476\" y=\"-176.9915\" font-family=\"Times,serif\" font-size=\"14.00\" fill=\"#000000\">[&#39;{&#39;]</text>\n</g>\n<!-- [] -->\n<g id=\"node3\" class=\"node\">\n<title>[]</title>\n<ellipse fill=\"none\" stroke=\"#000000\" cx=\"30.6476\" cy=\"-21.4481\" rx=\"21.3963\" ry=\"21.3963\"/>\n<text text-anchor=\"middle\" x=\"30.6476\" y=\"-17.7481\" font-family=\"Times,serif\" font-size=\"14.00\" fill=\"#000000\">q[]</text>\n</g>\n<!-- [1]&#45;&gt;[] -->\n<g id=\"edge2\" class=\"edge\">\n<title>[1]&#45;&gt;[]</title>\n<path fill=\"none\" stroke=\"#000000\" d=\"M30.6476,-93.8908C30.6476,-81.0924 30.6476,-66.2254 30.6476,-53.302\"/>\n<polygon fill=\"#000000\" stroke=\"#000000\" points=\"34.1477,-52.9916 30.6476,-42.9917 27.1477,-52.9917 34.1477,-52.9916\"/>\n<text text-anchor=\"middle\" x=\"41.1476\" y=\"-64.6962\" font-family=\"Times,serif\" font-size=\"14.00\" fill=\"#000000\">[&#39;{&#39;]</text>\n</g>\n<!-- []&#45;&gt;[] -->\n<g id=\"edge3\" class=\"edge\">\n<title>[]&#45;&gt;[]</title>\n<path fill=\"none\" stroke=\"#000000\" d=\"M50.539,-29.7699C60.8244,-31.0501 70.0957,-28.2762 70.0957,-21.4481 70.0957,-17.0738 66.2908,-14.3634 60.8518,-13.3168\"/>\n<polygon fill=\"#000000\" stroke=\"#000000\" points=\"60.602,-9.8117 50.539,-13.1263 60.4726,-16.8105 60.602,-9.8117\"/>\n<text text-anchor=\"middle\" x=\"80.5957\" y=\"-17.7481\" font-family=\"Times,serif\" font-size=\"14.00\" fill=\"#000000\">[&#39;{&#39;]</text>\n</g>\n</g>\n</svg>\n"
          },
          "metadata": {},
          "execution_count": 60
        }
      ]
    },
    {
      "cell_type": "code",
      "source": [
        "info = dfa_born(regex_to_NFA('}')[0])\n",
        "draw_DFA(info,\"regex Right_Key_DFA\")"
      ],
      "metadata": {
        "id": "T7MRVp_t_NGP",
        "colab": {
          "base_uri": "https://localhost:8080/",
          "height": 377
        },
        "outputId": "e2376172-d7d7-4376-d22d-750299f11574"
      },
      "execution_count": 61,
      "outputs": [
        {
          "output_type": "execute_result",
          "data": {
            "text/plain": [
              "<graphviz.dot.Digraph at 0x7fe33ddbb510>"
            ],
            "image/svg+xml": "<?xml version=\"1.0\" encoding=\"UTF-8\" standalone=\"no\"?>\n<!DOCTYPE svg PUBLIC \"-//W3C//DTD SVG 1.1//EN\"\n \"http://www.w3.org/Graphics/SVG/1.1/DTD/svg11.dtd\">\n<!-- Generated by graphviz version 2.40.1 (20161225.0304)\n -->\n<!-- Title: %3 Pages: 1 -->\n<svg width=\"99pt\" height=\"267pt\"\n viewBox=\"0.00 0.00 99.10 267.49\" xmlns=\"http://www.w3.org/2000/svg\" xmlns:xlink=\"http://www.w3.org/1999/xlink\">\n<g id=\"graph0\" class=\"graph\" transform=\"scale(1 1) rotate(0) translate(4 263.4867)\">\n<title>%3</title>\n<polygon fill=\"#ffffff\" stroke=\"transparent\" points=\"-4,4 -4,-263.4867 95.0957,-263.4867 95.0957,4 -4,4\"/>\n<!-- [0] -->\n<g id=\"node1\" class=\"node\">\n<title>[0]</title>\n<ellipse fill=\"none\" stroke=\"#000000\" cx=\"30.6476\" cy=\"-232.8391\" rx=\"26.7961\" ry=\"26.7961\"/>\n<text text-anchor=\"middle\" x=\"30.6476\" y=\"-229.1391\" font-family=\"Times,serif\" font-size=\"14.00\" fill=\"#000000\">q[0]</text>\n</g>\n<!-- [1] -->\n<g id=\"node2\" class=\"node\">\n<title>[1]</title>\n<ellipse fill=\"none\" stroke=\"#000000\" cx=\"30.6476\" cy=\"-124.5438\" rx=\"26.7766\" ry=\"26.7766\"/>\n<ellipse fill=\"none\" stroke=\"#000000\" cx=\"30.6476\" cy=\"-124.5438\" rx=\"30.796\" ry=\"30.796\"/>\n<text text-anchor=\"middle\" x=\"30.6476\" y=\"-120.8438\" font-family=\"Times,serif\" font-size=\"14.00\" fill=\"#000000\">q[1]</text>\n</g>\n<!-- [0]&#45;&gt;[1] -->\n<g id=\"edge1\" class=\"edge\">\n<title>[0]&#45;&gt;[1]</title>\n<path fill=\"none\" stroke=\"#000000\" d=\"M30.6476,-206.0695C30.6476,-193.791 30.6476,-178.9637 30.6476,-165.3393\"/>\n<polygon fill=\"#000000\" stroke=\"#000000\" points=\"34.1477,-165.2172 30.6476,-155.2172 27.1477,-165.2172 34.1477,-165.2172\"/>\n<text text-anchor=\"middle\" x=\"41.1476\" y=\"-176.9915\" font-family=\"Times,serif\" font-size=\"14.00\" fill=\"#000000\">[&#39;}&#39;]</text>\n</g>\n<!-- [] -->\n<g id=\"node3\" class=\"node\">\n<title>[]</title>\n<ellipse fill=\"none\" stroke=\"#000000\" cx=\"30.6476\" cy=\"-21.4481\" rx=\"21.3963\" ry=\"21.3963\"/>\n<text text-anchor=\"middle\" x=\"30.6476\" y=\"-17.7481\" font-family=\"Times,serif\" font-size=\"14.00\" fill=\"#000000\">q[]</text>\n</g>\n<!-- [1]&#45;&gt;[] -->\n<g id=\"edge2\" class=\"edge\">\n<title>[1]&#45;&gt;[]</title>\n<path fill=\"none\" stroke=\"#000000\" d=\"M30.6476,-93.8908C30.6476,-81.0924 30.6476,-66.2254 30.6476,-53.302\"/>\n<polygon fill=\"#000000\" stroke=\"#000000\" points=\"34.1477,-52.9916 30.6476,-42.9917 27.1477,-52.9917 34.1477,-52.9916\"/>\n<text text-anchor=\"middle\" x=\"41.1476\" y=\"-64.6962\" font-family=\"Times,serif\" font-size=\"14.00\" fill=\"#000000\">[&#39;}&#39;]</text>\n</g>\n<!-- []&#45;&gt;[] -->\n<g id=\"edge3\" class=\"edge\">\n<title>[]&#45;&gt;[]</title>\n<path fill=\"none\" stroke=\"#000000\" d=\"M50.539,-29.7699C60.8244,-31.0501 70.0957,-28.2762 70.0957,-21.4481 70.0957,-17.0738 66.2908,-14.3634 60.8518,-13.3168\"/>\n<polygon fill=\"#000000\" stroke=\"#000000\" points=\"60.602,-9.8117 50.539,-13.1263 60.4726,-16.8105 60.602,-9.8117\"/>\n<text text-anchor=\"middle\" x=\"80.5957\" y=\"-17.7481\" font-family=\"Times,serif\" font-size=\"14.00\" fill=\"#000000\">[&#39;}&#39;]</text>\n</g>\n</g>\n</svg>\n"
          },
          "metadata": {},
          "execution_count": 61
        }
      ]
    },
    {
      "cell_type": "code",
      "source": [
        "info = dfa_born(regex_to_NFA(',')[0])\n",
        "draw_DFA(info,\"regex Comma_DFA\")"
      ],
      "metadata": {
        "id": "tu6oZyjFFM1n",
        "colab": {
          "base_uri": "https://localhost:8080/",
          "height": 377
        },
        "outputId": "3927ec3d-ea9e-47ba-b698-8a1a72f5a0ed"
      },
      "execution_count": 62,
      "outputs": [
        {
          "output_type": "execute_result",
          "data": {
            "text/plain": [
              "<graphviz.dot.Digraph at 0x7fe33ddd8d10>"
            ],
            "image/svg+xml": "<?xml version=\"1.0\" encoding=\"UTF-8\" standalone=\"no\"?>\n<!DOCTYPE svg PUBLIC \"-//W3C//DTD SVG 1.1//EN\"\n \"http://www.w3.org/Graphics/SVG/1.1/DTD/svg11.dtd\">\n<!-- Generated by graphviz version 2.40.1 (20161225.0304)\n -->\n<!-- Title: %3 Pages: 1 -->\n<svg width=\"96pt\" height=\"267pt\"\n viewBox=\"0.00 0.00 96.10 267.49\" xmlns=\"http://www.w3.org/2000/svg\" xmlns:xlink=\"http://www.w3.org/1999/xlink\">\n<g id=\"graph0\" class=\"graph\" transform=\"scale(1 1) rotate(0) translate(4 263.4867)\">\n<title>%3</title>\n<polygon fill=\"#ffffff\" stroke=\"transparent\" points=\"-4,4 -4,-263.4867 92.0957,-263.4867 92.0957,4 -4,4\"/>\n<!-- [0] -->\n<g id=\"node1\" class=\"node\">\n<title>[0]</title>\n<ellipse fill=\"none\" stroke=\"#000000\" cx=\"30.6476\" cy=\"-232.8391\" rx=\"26.7961\" ry=\"26.7961\"/>\n<text text-anchor=\"middle\" x=\"30.6476\" y=\"-229.1391\" font-family=\"Times,serif\" font-size=\"14.00\" fill=\"#000000\">q[0]</text>\n</g>\n<!-- [1] -->\n<g id=\"node2\" class=\"node\">\n<title>[1]</title>\n<ellipse fill=\"none\" stroke=\"#000000\" cx=\"30.6476\" cy=\"-124.5438\" rx=\"26.7766\" ry=\"26.7766\"/>\n<ellipse fill=\"none\" stroke=\"#000000\" cx=\"30.6476\" cy=\"-124.5438\" rx=\"30.796\" ry=\"30.796\"/>\n<text text-anchor=\"middle\" x=\"30.6476\" y=\"-120.8438\" font-family=\"Times,serif\" font-size=\"14.00\" fill=\"#000000\">q[1]</text>\n</g>\n<!-- [0]&#45;&gt;[1] -->\n<g id=\"edge1\" class=\"edge\">\n<title>[0]&#45;&gt;[1]</title>\n<path fill=\"none\" stroke=\"#000000\" d=\"M30.6476,-206.0695C30.6476,-193.791 30.6476,-178.9637 30.6476,-165.3393\"/>\n<polygon fill=\"#000000\" stroke=\"#000000\" points=\"34.1477,-165.2172 30.6476,-155.2172 27.1477,-165.2172 34.1477,-165.2172\"/>\n<text text-anchor=\"middle\" x=\"39.6476\" y=\"-176.9915\" font-family=\"Times,serif\" font-size=\"14.00\" fill=\"#000000\">[&#39;,&#39;]</text>\n</g>\n<!-- [] -->\n<g id=\"node3\" class=\"node\">\n<title>[]</title>\n<ellipse fill=\"none\" stroke=\"#000000\" cx=\"30.6476\" cy=\"-21.4481\" rx=\"21.3963\" ry=\"21.3963\"/>\n<text text-anchor=\"middle\" x=\"30.6476\" y=\"-17.7481\" font-family=\"Times,serif\" font-size=\"14.00\" fill=\"#000000\">q[]</text>\n</g>\n<!-- [1]&#45;&gt;[] -->\n<g id=\"edge2\" class=\"edge\">\n<title>[1]&#45;&gt;[]</title>\n<path fill=\"none\" stroke=\"#000000\" d=\"M30.6476,-93.8908C30.6476,-81.0924 30.6476,-66.2254 30.6476,-53.302\"/>\n<polygon fill=\"#000000\" stroke=\"#000000\" points=\"34.1477,-52.9916 30.6476,-42.9917 27.1477,-52.9917 34.1477,-52.9916\"/>\n<text text-anchor=\"middle\" x=\"39.6476\" y=\"-64.6962\" font-family=\"Times,serif\" font-size=\"14.00\" fill=\"#000000\">[&#39;,&#39;]</text>\n</g>\n<!-- []&#45;&gt;[] -->\n<g id=\"edge3\" class=\"edge\">\n<title>[]&#45;&gt;[]</title>\n<path fill=\"none\" stroke=\"#000000\" d=\"M50.539,-29.7699C60.8244,-31.0501 70.0957,-28.2762 70.0957,-21.4481 70.0957,-17.0738 66.2908,-14.3634 60.8518,-13.3168\"/>\n<polygon fill=\"#000000\" stroke=\"#000000\" points=\"60.602,-9.8117 50.539,-13.1263 60.4726,-16.8105 60.602,-9.8117\"/>\n<text text-anchor=\"middle\" x=\"79.0957\" y=\"-17.7481\" font-family=\"Times,serif\" font-size=\"14.00\" fill=\"#000000\">[&#39;,&#39;]</text>\n</g>\n</g>\n</svg>\n"
          },
          "metadata": {},
          "execution_count": 62
        }
      ]
    },
    {
      "cell_type": "code",
      "source": [
        "info = dfa_born(regex_to_NFA('\\[')[0])\n",
        "draw_DFA(info,\"regex Left_Bracket_DFA\")"
      ],
      "metadata": {
        "id": "3xM98nXJFN31",
        "colab": {
          "base_uri": "https://localhost:8080/",
          "height": 377
        },
        "outputId": "7cc94bd8-5bbc-4b62-ed71-b8e7576fcd04"
      },
      "execution_count": 63,
      "outputs": [
        {
          "output_type": "execute_result",
          "data": {
            "text/plain": [
              "<graphviz.dot.Digraph at 0x7fe33dde1dd0>"
            ],
            "image/svg+xml": "<?xml version=\"1.0\" encoding=\"UTF-8\" standalone=\"no\"?>\n<!DOCTYPE svg PUBLIC \"-//W3C//DTD SVG 1.1//EN\"\n \"http://www.w3.org/Graphics/SVG/1.1/DTD/svg11.dtd\">\n<!-- Generated by graphviz version 2.40.1 (20161225.0304)\n -->\n<!-- Title: %3 Pages: 1 -->\n<svg width=\"97pt\" height=\"267pt\"\n viewBox=\"0.00 0.00 97.10 267.49\" xmlns=\"http://www.w3.org/2000/svg\" xmlns:xlink=\"http://www.w3.org/1999/xlink\">\n<g id=\"graph0\" class=\"graph\" transform=\"scale(1 1) rotate(0) translate(4 263.4867)\">\n<title>%3</title>\n<polygon fill=\"#ffffff\" stroke=\"transparent\" points=\"-4,4 -4,-263.4867 93.0957,-263.4867 93.0957,4 -4,4\"/>\n<!-- [0] -->\n<g id=\"node1\" class=\"node\">\n<title>[0]</title>\n<ellipse fill=\"none\" stroke=\"#000000\" cx=\"30.6476\" cy=\"-232.8391\" rx=\"26.7961\" ry=\"26.7961\"/>\n<text text-anchor=\"middle\" x=\"30.6476\" y=\"-229.1391\" font-family=\"Times,serif\" font-size=\"14.00\" fill=\"#000000\">q[0]</text>\n</g>\n<!-- [1] -->\n<g id=\"node2\" class=\"node\">\n<title>[1]</title>\n<ellipse fill=\"none\" stroke=\"#000000\" cx=\"30.6476\" cy=\"-124.5438\" rx=\"26.7766\" ry=\"26.7766\"/>\n<ellipse fill=\"none\" stroke=\"#000000\" cx=\"30.6476\" cy=\"-124.5438\" rx=\"30.796\" ry=\"30.796\"/>\n<text text-anchor=\"middle\" x=\"30.6476\" y=\"-120.8438\" font-family=\"Times,serif\" font-size=\"14.00\" fill=\"#000000\">q[1]</text>\n</g>\n<!-- [0]&#45;&gt;[1] -->\n<g id=\"edge1\" class=\"edge\">\n<title>[0]&#45;&gt;[1]</title>\n<path fill=\"none\" stroke=\"#000000\" d=\"M30.6476,-206.0695C30.6476,-193.791 30.6476,-178.9637 30.6476,-165.3393\"/>\n<polygon fill=\"#000000\" stroke=\"#000000\" points=\"34.1477,-165.2172 30.6476,-155.2172 27.1477,-165.2172 34.1477,-165.2172\"/>\n<text text-anchor=\"middle\" x=\"40.1476\" y=\"-176.9915\" font-family=\"Times,serif\" font-size=\"14.00\" fill=\"#000000\">[&#39;[&#39;]</text>\n</g>\n<!-- [] -->\n<g id=\"node3\" class=\"node\">\n<title>[]</title>\n<ellipse fill=\"none\" stroke=\"#000000\" cx=\"30.6476\" cy=\"-21.4481\" rx=\"21.3963\" ry=\"21.3963\"/>\n<text text-anchor=\"middle\" x=\"30.6476\" y=\"-17.7481\" font-family=\"Times,serif\" font-size=\"14.00\" fill=\"#000000\">q[]</text>\n</g>\n<!-- [1]&#45;&gt;[] -->\n<g id=\"edge2\" class=\"edge\">\n<title>[1]&#45;&gt;[]</title>\n<path fill=\"none\" stroke=\"#000000\" d=\"M30.6476,-93.8908C30.6476,-81.0924 30.6476,-66.2254 30.6476,-53.302\"/>\n<polygon fill=\"#000000\" stroke=\"#000000\" points=\"34.1477,-52.9916 30.6476,-42.9917 27.1477,-52.9917 34.1477,-52.9916\"/>\n<text text-anchor=\"middle\" x=\"40.1476\" y=\"-64.6962\" font-family=\"Times,serif\" font-size=\"14.00\" fill=\"#000000\">[&#39;[&#39;]</text>\n</g>\n<!-- []&#45;&gt;[] -->\n<g id=\"edge3\" class=\"edge\">\n<title>[]&#45;&gt;[]</title>\n<path fill=\"none\" stroke=\"#000000\" d=\"M50.539,-29.7699C60.8244,-31.0501 70.0957,-28.2762 70.0957,-21.4481 70.0957,-17.0738 66.2908,-14.3634 60.8518,-13.3168\"/>\n<polygon fill=\"#000000\" stroke=\"#000000\" points=\"60.602,-9.8117 50.539,-13.1263 60.4726,-16.8105 60.602,-9.8117\"/>\n<text text-anchor=\"middle\" x=\"79.5957\" y=\"-17.7481\" font-family=\"Times,serif\" font-size=\"14.00\" fill=\"#000000\">[&#39;[&#39;]</text>\n</g>\n</g>\n</svg>\n"
          },
          "metadata": {},
          "execution_count": 63
        }
      ]
    },
    {
      "cell_type": "code",
      "source": [
        "info = dfa_born(regex_to_NFA('\\]')[0])\n",
        "draw_DFA(info,\"regex Right_Bracket_DFA\")"
      ],
      "metadata": {
        "id": "xPrrBzEnFPxe",
        "colab": {
          "base_uri": "https://localhost:8080/",
          "height": 377
        },
        "outputId": "7f3e7043-513e-4698-f982-16ef290485bd"
      },
      "execution_count": 64,
      "outputs": [
        {
          "output_type": "execute_result",
          "data": {
            "text/plain": [
              "<graphviz.dot.Digraph at 0x7fe33dd41110>"
            ],
            "image/svg+xml": "<?xml version=\"1.0\" encoding=\"UTF-8\" standalone=\"no\"?>\n<!DOCTYPE svg PUBLIC \"-//W3C//DTD SVG 1.1//EN\"\n \"http://www.w3.org/Graphics/SVG/1.1/DTD/svg11.dtd\">\n<!-- Generated by graphviz version 2.40.1 (20161225.0304)\n -->\n<!-- Title: %3 Pages: 1 -->\n<svg width=\"97pt\" height=\"267pt\"\n viewBox=\"0.00 0.00 97.10 267.49\" xmlns=\"http://www.w3.org/2000/svg\" xmlns:xlink=\"http://www.w3.org/1999/xlink\">\n<g id=\"graph0\" class=\"graph\" transform=\"scale(1 1) rotate(0) translate(4 263.4867)\">\n<title>%3</title>\n<polygon fill=\"#ffffff\" stroke=\"transparent\" points=\"-4,4 -4,-263.4867 93.0957,-263.4867 93.0957,4 -4,4\"/>\n<!-- [0] -->\n<g id=\"node1\" class=\"node\">\n<title>[0]</title>\n<ellipse fill=\"none\" stroke=\"#000000\" cx=\"30.6476\" cy=\"-232.8391\" rx=\"26.7961\" ry=\"26.7961\"/>\n<text text-anchor=\"middle\" x=\"30.6476\" y=\"-229.1391\" font-family=\"Times,serif\" font-size=\"14.00\" fill=\"#000000\">q[0]</text>\n</g>\n<!-- [1] -->\n<g id=\"node2\" class=\"node\">\n<title>[1]</title>\n<ellipse fill=\"none\" stroke=\"#000000\" cx=\"30.6476\" cy=\"-124.5438\" rx=\"26.7766\" ry=\"26.7766\"/>\n<ellipse fill=\"none\" stroke=\"#000000\" cx=\"30.6476\" cy=\"-124.5438\" rx=\"30.796\" ry=\"30.796\"/>\n<text text-anchor=\"middle\" x=\"30.6476\" y=\"-120.8438\" font-family=\"Times,serif\" font-size=\"14.00\" fill=\"#000000\">q[1]</text>\n</g>\n<!-- [0]&#45;&gt;[1] -->\n<g id=\"edge1\" class=\"edge\">\n<title>[0]&#45;&gt;[1]</title>\n<path fill=\"none\" stroke=\"#000000\" d=\"M30.6476,-206.0695C30.6476,-193.791 30.6476,-178.9637 30.6476,-165.3393\"/>\n<polygon fill=\"#000000\" stroke=\"#000000\" points=\"34.1477,-165.2172 30.6476,-155.2172 27.1477,-165.2172 34.1477,-165.2172\"/>\n<text text-anchor=\"middle\" x=\"40.1476\" y=\"-176.9915\" font-family=\"Times,serif\" font-size=\"14.00\" fill=\"#000000\">[&#39;]&#39;]</text>\n</g>\n<!-- [] -->\n<g id=\"node3\" class=\"node\">\n<title>[]</title>\n<ellipse fill=\"none\" stroke=\"#000000\" cx=\"30.6476\" cy=\"-21.4481\" rx=\"21.3963\" ry=\"21.3963\"/>\n<text text-anchor=\"middle\" x=\"30.6476\" y=\"-17.7481\" font-family=\"Times,serif\" font-size=\"14.00\" fill=\"#000000\">q[]</text>\n</g>\n<!-- [1]&#45;&gt;[] -->\n<g id=\"edge2\" class=\"edge\">\n<title>[1]&#45;&gt;[]</title>\n<path fill=\"none\" stroke=\"#000000\" d=\"M30.6476,-93.8908C30.6476,-81.0924 30.6476,-66.2254 30.6476,-53.302\"/>\n<polygon fill=\"#000000\" stroke=\"#000000\" points=\"34.1477,-52.9916 30.6476,-42.9917 27.1477,-52.9917 34.1477,-52.9916\"/>\n<text text-anchor=\"middle\" x=\"40.1476\" y=\"-64.6962\" font-family=\"Times,serif\" font-size=\"14.00\" fill=\"#000000\">[&#39;]&#39;]</text>\n</g>\n<!-- []&#45;&gt;[] -->\n<g id=\"edge3\" class=\"edge\">\n<title>[]&#45;&gt;[]</title>\n<path fill=\"none\" stroke=\"#000000\" d=\"M50.539,-29.7699C60.8244,-31.0501 70.0957,-28.2762 70.0957,-21.4481 70.0957,-17.0738 66.2908,-14.3634 60.8518,-13.3168\"/>\n<polygon fill=\"#000000\" stroke=\"#000000\" points=\"60.602,-9.8117 50.539,-13.1263 60.4726,-16.8105 60.602,-9.8117\"/>\n<text text-anchor=\"middle\" x=\"79.5957\" y=\"-17.7481\" font-family=\"Times,serif\" font-size=\"14.00\" fill=\"#000000\">[&#39;]&#39;]</text>\n</g>\n</g>\n</svg>\n"
          },
          "metadata": {},
          "execution_count": 64
        }
      ]
    },
    {
      "cell_type": "code",
      "source": [
        "info = dfa_born(regex_to_NFA(':')[0])\n",
        "draw_DFA(info,\"regex Double_Dot_DFA\")"
      ],
      "metadata": {
        "id": "o-j96K-_FRVX",
        "colab": {
          "base_uri": "https://localhost:8080/",
          "height": 377
        },
        "outputId": "f6bb8b03-c593-453b-a87f-ad1ea5f02e8f"
      },
      "execution_count": 65,
      "outputs": [
        {
          "output_type": "execute_result",
          "data": {
            "text/plain": [
              "<graphviz.dot.Digraph at 0x7fe33ddb8790>"
            ],
            "image/svg+xml": "<?xml version=\"1.0\" encoding=\"UTF-8\" standalone=\"no\"?>\n<!DOCTYPE svg PUBLIC \"-//W3C//DTD SVG 1.1//EN\"\n \"http://www.w3.org/Graphics/SVG/1.1/DTD/svg11.dtd\">\n<!-- Generated by graphviz version 2.40.1 (20161225.0304)\n -->\n<!-- Title: %3 Pages: 1 -->\n<svg width=\"96pt\" height=\"267pt\"\n viewBox=\"0.00 0.00 96.10 267.49\" xmlns=\"http://www.w3.org/2000/svg\" xmlns:xlink=\"http://www.w3.org/1999/xlink\">\n<g id=\"graph0\" class=\"graph\" transform=\"scale(1 1) rotate(0) translate(4 263.4867)\">\n<title>%3</title>\n<polygon fill=\"#ffffff\" stroke=\"transparent\" points=\"-4,4 -4,-263.4867 92.0957,-263.4867 92.0957,4 -4,4\"/>\n<!-- [0] -->\n<g id=\"node1\" class=\"node\">\n<title>[0]</title>\n<ellipse fill=\"none\" stroke=\"#000000\" cx=\"30.6476\" cy=\"-232.8391\" rx=\"26.7961\" ry=\"26.7961\"/>\n<text text-anchor=\"middle\" x=\"30.6476\" y=\"-229.1391\" font-family=\"Times,serif\" font-size=\"14.00\" fill=\"#000000\">q[0]</text>\n</g>\n<!-- [1] -->\n<g id=\"node2\" class=\"node\">\n<title>[1]</title>\n<ellipse fill=\"none\" stroke=\"#000000\" cx=\"30.6476\" cy=\"-124.5438\" rx=\"26.7766\" ry=\"26.7766\"/>\n<ellipse fill=\"none\" stroke=\"#000000\" cx=\"30.6476\" cy=\"-124.5438\" rx=\"30.796\" ry=\"30.796\"/>\n<text text-anchor=\"middle\" x=\"30.6476\" y=\"-120.8438\" font-family=\"Times,serif\" font-size=\"14.00\" fill=\"#000000\">q[1]</text>\n</g>\n<!-- [0]&#45;&gt;[1] -->\n<g id=\"edge1\" class=\"edge\">\n<title>[0]&#45;&gt;[1]</title>\n<path fill=\"none\" stroke=\"#000000\" d=\"M30.6476,-206.0695C30.6476,-193.791 30.6476,-178.9637 30.6476,-165.3393\"/>\n<polygon fill=\"#000000\" stroke=\"#000000\" points=\"34.1477,-165.2172 30.6476,-155.2172 27.1477,-165.2172 34.1477,-165.2172\"/>\n<text text-anchor=\"middle\" x=\"39.6476\" y=\"-176.9915\" font-family=\"Times,serif\" font-size=\"14.00\" fill=\"#000000\">[&#39;:&#39;]</text>\n</g>\n<!-- [] -->\n<g id=\"node3\" class=\"node\">\n<title>[]</title>\n<ellipse fill=\"none\" stroke=\"#000000\" cx=\"30.6476\" cy=\"-21.4481\" rx=\"21.3963\" ry=\"21.3963\"/>\n<text text-anchor=\"middle\" x=\"30.6476\" y=\"-17.7481\" font-family=\"Times,serif\" font-size=\"14.00\" fill=\"#000000\">q[]</text>\n</g>\n<!-- [1]&#45;&gt;[] -->\n<g id=\"edge2\" class=\"edge\">\n<title>[1]&#45;&gt;[]</title>\n<path fill=\"none\" stroke=\"#000000\" d=\"M30.6476,-93.8908C30.6476,-81.0924 30.6476,-66.2254 30.6476,-53.302\"/>\n<polygon fill=\"#000000\" stroke=\"#000000\" points=\"34.1477,-52.9916 30.6476,-42.9917 27.1477,-52.9917 34.1477,-52.9916\"/>\n<text text-anchor=\"middle\" x=\"39.6476\" y=\"-64.6962\" font-family=\"Times,serif\" font-size=\"14.00\" fill=\"#000000\">[&#39;:&#39;]</text>\n</g>\n<!-- []&#45;&gt;[] -->\n<g id=\"edge3\" class=\"edge\">\n<title>[]&#45;&gt;[]</title>\n<path fill=\"none\" stroke=\"#000000\" d=\"M50.539,-29.7699C60.8244,-31.0501 70.0957,-28.2762 70.0957,-21.4481 70.0957,-17.0738 66.2908,-14.3634 60.8518,-13.3168\"/>\n<polygon fill=\"#000000\" stroke=\"#000000\" points=\"60.602,-9.8117 50.539,-13.1263 60.4726,-16.8105 60.602,-9.8117\"/>\n<text text-anchor=\"middle\" x=\"79.0957\" y=\"-17.7481\" font-family=\"Times,serif\" font-size=\"14.00\" fill=\"#000000\">[&#39;:&#39;]</text>\n</g>\n</g>\n</svg>\n"
          },
          "metadata": {},
          "execution_count": 65
        }
      ]
    },
    {
      "cell_type": "code",
      "source": [
        "info = dfa_born(regex_to_NFA('[ ]')[0])\n",
        "draw_DFA(info,\"regex Space_DFA\")"
      ],
      "metadata": {
        "id": "i5Hm9P3CFSBG",
        "colab": {
          "base_uri": "https://localhost:8080/",
          "height": 377
        },
        "outputId": "87c5a6de-ce95-43c1-b078-e99a58530feb"
      },
      "execution_count": 66,
      "outputs": [
        {
          "output_type": "execute_result",
          "data": {
            "text/plain": [
              "<graphviz.dot.Digraph at 0x7fe33ddb8b10>"
            ],
            "image/svg+xml": "<?xml version=\"1.0\" encoding=\"UTF-8\" standalone=\"no\"?>\n<!DOCTYPE svg PUBLIC \"-//W3C//DTD SVG 1.1//EN\"\n \"http://www.w3.org/Graphics/SVG/1.1/DTD/svg11.dtd\">\n<!-- Generated by graphviz version 2.40.1 (20161225.0304)\n -->\n<!-- Title: %3 Pages: 1 -->\n<svg width=\"96pt\" height=\"267pt\"\n viewBox=\"0.00 0.00 96.10 267.49\" xmlns=\"http://www.w3.org/2000/svg\" xmlns:xlink=\"http://www.w3.org/1999/xlink\">\n<g id=\"graph0\" class=\"graph\" transform=\"scale(1 1) rotate(0) translate(4 263.4867)\">\n<title>%3</title>\n<polygon fill=\"#ffffff\" stroke=\"transparent\" points=\"-4,4 -4,-263.4867 92.0957,-263.4867 92.0957,4 -4,4\"/>\n<!-- [0] -->\n<g id=\"node1\" class=\"node\">\n<title>[0]</title>\n<ellipse fill=\"none\" stroke=\"#000000\" cx=\"30.6476\" cy=\"-232.8391\" rx=\"26.7961\" ry=\"26.7961\"/>\n<text text-anchor=\"middle\" x=\"30.6476\" y=\"-229.1391\" font-family=\"Times,serif\" font-size=\"14.00\" fill=\"#000000\">q[0]</text>\n</g>\n<!-- [1] -->\n<g id=\"node2\" class=\"node\">\n<title>[1]</title>\n<ellipse fill=\"none\" stroke=\"#000000\" cx=\"30.6476\" cy=\"-124.5438\" rx=\"26.7766\" ry=\"26.7766\"/>\n<ellipse fill=\"none\" stroke=\"#000000\" cx=\"30.6476\" cy=\"-124.5438\" rx=\"30.796\" ry=\"30.796\"/>\n<text text-anchor=\"middle\" x=\"30.6476\" y=\"-120.8438\" font-family=\"Times,serif\" font-size=\"14.00\" fill=\"#000000\">q[1]</text>\n</g>\n<!-- [0]&#45;&gt;[1] -->\n<g id=\"edge1\" class=\"edge\">\n<title>[0]&#45;&gt;[1]</title>\n<path fill=\"none\" stroke=\"#000000\" d=\"M30.6476,-206.0695C30.6476,-193.791 30.6476,-178.9637 30.6476,-165.3393\"/>\n<polygon fill=\"#000000\" stroke=\"#000000\" points=\"34.1477,-165.2172 30.6476,-155.2172 27.1477,-165.2172 34.1477,-165.2172\"/>\n<text text-anchor=\"middle\" x=\"39.6476\" y=\"-176.9915\" font-family=\"Times,serif\" font-size=\"14.00\" fill=\"#000000\">[&#39; &#39;]</text>\n</g>\n<!-- [] -->\n<g id=\"node3\" class=\"node\">\n<title>[]</title>\n<ellipse fill=\"none\" stroke=\"#000000\" cx=\"30.6476\" cy=\"-21.4481\" rx=\"21.3963\" ry=\"21.3963\"/>\n<text text-anchor=\"middle\" x=\"30.6476\" y=\"-17.7481\" font-family=\"Times,serif\" font-size=\"14.00\" fill=\"#000000\">q[]</text>\n</g>\n<!-- [1]&#45;&gt;[] -->\n<g id=\"edge2\" class=\"edge\">\n<title>[1]&#45;&gt;[]</title>\n<path fill=\"none\" stroke=\"#000000\" d=\"M30.6476,-93.8908C30.6476,-81.0924 30.6476,-66.2254 30.6476,-53.302\"/>\n<polygon fill=\"#000000\" stroke=\"#000000\" points=\"34.1477,-52.9916 30.6476,-42.9917 27.1477,-52.9917 34.1477,-52.9916\"/>\n<text text-anchor=\"middle\" x=\"39.6476\" y=\"-64.6962\" font-family=\"Times,serif\" font-size=\"14.00\" fill=\"#000000\">[&#39; &#39;]</text>\n</g>\n<!-- []&#45;&gt;[] -->\n<g id=\"edge3\" class=\"edge\">\n<title>[]&#45;&gt;[]</title>\n<path fill=\"none\" stroke=\"#000000\" d=\"M50.539,-29.7699C60.8244,-31.0501 70.0957,-28.2762 70.0957,-21.4481 70.0957,-17.0738 66.2908,-14.3634 60.8518,-13.3168\"/>\n<polygon fill=\"#000000\" stroke=\"#000000\" points=\"60.602,-9.8117 50.539,-13.1263 60.4726,-16.8105 60.602,-9.8117\"/>\n<text text-anchor=\"middle\" x=\"79.0957\" y=\"-17.7481\" font-family=\"Times,serif\" font-size=\"14.00\" fill=\"#000000\">[&#39; &#39;]</text>\n</g>\n</g>\n</svg>\n"
          },
          "metadata": {},
          "execution_count": 66
        }
      ]
    },
    {
      "cell_type": "markdown",
      "source": [
        "# Parte C"
      ],
      "metadata": {
        "id": "6hN1vr1S2Ov0"
      }
    },
    {
      "cell_type": "markdown",
      "source": [
        "## Tokenización por subpalabras (subwords):\n",
        "\n",
        "El concepto principal de la tokenización por subpalabras es que las palabras que ocurren frecuentemente deberían estar en el vocabulario, mientras que las palabras poco frecuentes deberian ser separadas en subpalabras más frecuentes. Por ejemplo: \"refactoring\" se puede separar entre \"re\", \"factor\" e \"ing\". Dichas subpalabras ocurren más frecuentemente que la palabra \"refactoring\" y su significado se mantiene intacto.\n",
        "\n",
        "Existen 3 principales tokenizers de subpalabras:\n",
        "\n",
        "### Codificación de pares de bytes (Byte Pair Encoding):\n",
        "\n",
        "El primer paso en BPE es separar todas las strings en palabras. Se puede utilizar cualquier tokenizer para este paso, por ejemplo usar la regla basada en un tokenizer basado en espacios y puntuación.\n",
        "\n",
        "Luego de tokenizar se tendrá una lista de palabras con su respectiva frecuencias, el tamaño del vocabulario deseado es un parametro para BPE. Todos los caracteres únicos y los simbolos en las palabras son incluidos en el vocabulario base.\n",
        "\n",
        "Luego todas las palabras se separan en sus caracteres del vocabulario base. Después de eso el BPE cuenta las ocurrencias de cada pareja de simbolos y selecciona aquella que tiene la mayor frecuencia. Dicha pareja es agregada en el vocabulario y todas las ocurrencias de esa pareja se concatenan. \n",
        "\n",
        "Se repite el proceso anterior con todas las parejas de caracteres hasta alcanzar el tamaño deseado de vocabulario. Fonalmente retorna el input tokenizado.\n",
        "\n",
        "Como el BPE ya está entrenado, ahora va a tokenizar las siguientes palabras con el vocabulario que encontró previamente.\n",
        "\n",
        "### Tokenización WordPiece\n",
        "\n",
        "Similar al metodo anterior se utilizan parejas, sin embargo en este tokenizer elige aquella que maximiza la probabilidad de los datos de entrenamiento. Esto significa que entrena un modelo de lenguaje comenzando con un bocabulario base y selecciona la pareja con la mayor probabilidad (pareja = caracter en el vocabulario base + el caracter con la mayor probabilidad de ser generado). Esa pareja es agregada al vocabulario y el modelo de lenguaje se entrena de nuevo con este nuevo vocabulario. Esto se repite hasta llegar al vocabulario deseado. \n",
        "\n",
        "### Tokenización Unigram\n",
        "\n",
        "La tokenización Unigram también comienza con el tamaño de vocabulario deseado. Sin embargo la mayor diferencia entre Unigram y los anteriores 2 metodos es que no empieza con un vocabulario base de únicamente caracteres. Envés de eso el vocabulario tiene todas las palabras y simbolos, y los tokens son gradualmente removidos para llegar al vocabulario final.\n",
        "\n",
        "La forma en que los tokens son removidos es un elemento clave de la tokenización unigram. Utiliza un modelo de lenguaje en cada paso y va removiendo x% de la pareja (la definición de pareja es la misma que en WordPiece) que tiene la mayor perdida. La perdida es generalmente definida como el logaritmo de probabilidad sobre el vocabulario en el paso de entrenamiento.\n",
        "\n",
        "Unigram es mayormente utilizado en conjunción con SentencePiece.\n",
        "\n",
        "### SentencePiece\n",
        "\n",
        "Todos los tokenizers previos asumen que los espacios separan palabras, esto es cierto excepto para algunos casos como el Chino, Japonés, entre otros. SentencePiece no trata los espacios como un separador, envés de eso toma el string como input en su formato crudo original, es decir junto con los espacios. Luego utiliza BPE o Unigram como tokenizer para construir su vocabulario.\n",
        "\n",
        "## Diferencias de las estrategias y los parsers basados en lenguaje natural.\n",
        "\n",
        "Lo primero es aclarar que la tokenización por subpalabras es el padre de la jerarquía, es decir BPE y Unigram son tokenizadores por subpalabras pero no todos los tokenizadores por subpalabras son BPE o Unigram. Es interesante notar que los tokenizadofres usan otro tokenizadores dentro de sus procesos, pues lo que realmente diferencia a Unigram con BPE es el proceso de la división de las palabras. Es decir que existe antes un proceso de tokenización que separa las palabras como las conocemos, sin espacios y sin signos de puntuación, o por el contrario teniendo esos simbolos en cuenta como otro metodo de tokenización.\n",
        "\n",
        "La principal diferencia entrew BPE y Unigram es que no empieza el proceso únicamente con un vocabulario de caracteres, es decir es como empezar por un final general y empezar a recortar para llevar al vocabulario deseado. Por otro lado en BPE se van construyendo las parejas hasta llegar al vocabulario objetivo."
      ],
      "metadata": {
        "id": "fm_8vXxO2cKE"
      }
    }
  ]
}